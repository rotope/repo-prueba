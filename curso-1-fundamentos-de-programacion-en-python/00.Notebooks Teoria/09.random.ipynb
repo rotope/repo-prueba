{
 "cells": [
  {
   "cell_type": "markdown",
   "id": "61152c6e",
   "metadata": {},
   "source": [
    "## ``random``\n",
    "\n",
    "La librería **``random``** es un de las más utilizadas para la generación de números aleatorios. Esta librería cuenta con funciónes para generar números aleatorios con distribución uniforma, logarítmica y exponenciales negativas."
   ]
  },
  {
   "cell_type": "code",
   "execution_count": null,
   "id": "92f548d9",
   "metadata": {},
   "outputs": [],
   "source": [
    "import random"
   ]
  },
  {
   "cell_type": "code",
   "execution_count": null,
   "id": "804f8c93",
   "metadata": {},
   "outputs": [],
   "source": [
    "# Para generar un número aleatorio entre 0 y 1\n",
    "\n",
    "random.random()"
   ]
  },
  {
   "cell_type": "code",
   "execution_count": null,
   "id": "77d6964f",
   "metadata": {},
   "outputs": [],
   "source": [
    "# Para generar un número aleatorio entero entre un intervalo (entre 1 y 10)\n",
    "\n",
    "random.randint(1, 10)"
   ]
  },
  {
   "cell_type": "code",
   "execution_count": null,
   "id": "dae83a8a",
   "metadata": {},
   "outputs": [],
   "source": [
    "# Para generar numeros aleatorios dentro de una range con paso\n",
    "\n",
    "for i in range(10):\n",
    "    print(random.randrange(1, 10, 2))"
   ]
  },
  {
   "cell_type": "code",
   "execution_count": null,
   "id": "786c4a94",
   "metadata": {},
   "outputs": [],
   "source": [
    "# Si quisieramos que siempre se genere el mismo número aleatorio tendríamos que \n",
    "# generar una \"semilla\", si esta semilla esta creada el número aleatorio siempre sera el mismo\n",
    "\n",
    "random.seed(1)\n",
    "\n",
    "random.random()"
   ]
  },
  {
   "cell_type": "code",
   "execution_count": null,
   "id": "77b199a5",
   "metadata": {},
   "outputs": [],
   "source": [
    "for i in range(5):\n",
    "    \n",
    "    random.seed(1)\n",
    "    \n",
    "    print(random.random())"
   ]
  },
  {
   "cell_type": "markdown",
   "id": "b41308d9",
   "metadata": {},
   "source": [
    "### Funciones ``choice``, ``choices`` y ``sample``"
   ]
  },
  {
   "cell_type": "markdown",
   "id": "4af5cc63",
   "metadata": {},
   "source": [
    "- **``choice()``**: retorna un elemento aleatorio de una lista, tupla, set, string..."
   ]
  },
  {
   "cell_type": "code",
   "execution_count": null,
   "id": "8904aa56",
   "metadata": {},
   "outputs": [],
   "source": [
    "lista = [\"a\", \"b\", \"c\", \"d\", \"e\"]\n",
    "\n",
    "random.choice(lista)"
   ]
  },
  {
   "cell_type": "code",
   "execution_count": null,
   "id": "98cf33fa",
   "metadata": {},
   "outputs": [],
   "source": [
    "string = \"cadena de caracteres\"\n",
    "\n",
    "random.choice(string)"
   ]
  },
  {
   "cell_type": "markdown",
   "id": "69546a34",
   "metadata": {},
   "source": [
    "- **``choices()``**: Retorna una lista de elementos sacados de otro elemento de forma aleatoria, esta función tiene 3 parametros:\n",
    "\n",
    "    - **``population``**: el objeto iterable.\n",
    "    \n",
    "    - **``k``**: el número de elementos que va a seleccionar.\n",
    "    \n",
    "    - **``weights``**: se usa para definir la probabilidad de selección de cada elemento.\n",
    "    \n",
    "**Puede seleccionar elementos repetidos.**"
   ]
  },
  {
   "cell_type": "code",
   "execution_count": null,
   "id": "c5a6e1d5",
   "metadata": {},
   "outputs": [],
   "source": [
    "lista = [\"a\", \"b\", \"c\", \"d\", \"e\", 1, 2, 3, 4, 5, True, False]\n",
    "\n",
    "random.choices(population = lista, k = 4)"
   ]
  },
  {
   "cell_type": "code",
   "execution_count": null,
   "id": "dc743ad0",
   "metadata": {},
   "outputs": [],
   "source": [
    "lista = [\"a\", \"b\", \"c\", \"d\", \"e\"]\n",
    "\n",
    "random.choices(population = lista, k = 4, weights = [0.05, 0.1, 0.45, 0.2, 0.2])"
   ]
  },
  {
   "cell_type": "markdown",
   "id": "737f59ee",
   "metadata": {},
   "source": [
    "- **``sample()``**: Hace lo mismo que **``choices()``**, la principal diferencia es que no selecciona elementos repetidos y no tiene el parametro **``weights``**."
   ]
  },
  {
   "cell_type": "code",
   "execution_count": null,
   "id": "9d8e7096",
   "metadata": {},
   "outputs": [],
   "source": [
    "lista = [\"a\", \"b\", \"c\", \"d\", \"e\", 1, 2, 3, 4, 5, True, False]\n",
    "\n",
    "random.sample(population = lista, k = 5)"
   ]
  },
  {
   "cell_type": "markdown",
   "id": "f212c9fa",
   "metadata": {},
   "source": [
    "### ``shuffle``\n",
    "\n",
    "- **``shuffle()``**: se utiliza para \"desordenar\" un objeto iterable, esta función hace la operación **in-place**."
   ]
  },
  {
   "cell_type": "code",
   "execution_count": null,
   "id": "023d9124",
   "metadata": {},
   "outputs": [],
   "source": [
    "lista"
   ]
  },
  {
   "cell_type": "code",
   "execution_count": null,
   "id": "4496bd0a",
   "metadata": {},
   "outputs": [],
   "source": [
    "random.shuffle(lista)"
   ]
  },
  {
   "cell_type": "code",
   "execution_count": null,
   "id": "3ebd1778",
   "metadata": {},
   "outputs": [],
   "source": [
    "lista"
   ]
  },
  {
   "cell_type": "code",
   "execution_count": null,
   "id": "bdb2ab62",
   "metadata": {},
   "outputs": [],
   "source": [
    "##############################################################################################################################"
   ]
  }
 ],
 "metadata": {
  "kernelspec": {
   "display_name": "Python 3 (ipykernel)",
   "language": "python",
   "name": "python3"
  },
  "language_info": {
   "codemirror_mode": {
    "name": "ipython",
    "version": 3
   },
   "file_extension": ".py",
   "mimetype": "text/x-python",
   "name": "python",
   "nbconvert_exporter": "python",
   "pygments_lexer": "ipython3",
   "version": "3.11.7"
  }
 },
 "nbformat": 4,
 "nbformat_minor": 5
}
