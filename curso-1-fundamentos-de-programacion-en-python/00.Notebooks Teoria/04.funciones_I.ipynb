{
 "cells": [
  {
   "cell_type": "markdown",
   "id": "8f80f7cc",
   "metadata": {},
   "source": [
    "## Funciones\n",
    "\n",
    "Una **función** es un bloque de código con un nombre asociado, que **recibe cero o más argumentos como entrada**, sigue una secuencia de sentencias, la cuales ejecuta una operación deseada y **devuelve un valor y/o realiza una tarea**.\n",
    "\n",
    "En python las funciones se definen con la palabra reservada **`def`** y si es necesario, se utiliza la palabra reservada **`return`**.\n",
    "\n",
    "**Sintaxis**:\n",
    "```python\n",
    "    def nombre_funcion(parametro_a, parametro_b):\n",
    "        bloque de código\n",
    "        return\n",
    "```\n",
    "\n",
    "**Ejemplo:**"
   ]
  },
  {
   "cell_type": "code",
   "execution_count": null,
   "id": "5ce0239c",
   "metadata": {},
   "outputs": [],
   "source": [
    "# El cuadrado de un número\n",
    "\n",
    "def func_cuadrado(x):\n",
    "    \n",
    "    cuadrado = x**2\n",
    "    \n",
    "    return cuadrado\n",
    "\n",
    "# Esta función toma como parametro un número \"x\" y retorna el cuadrado de \"x\""
   ]
  },
  {
   "cell_type": "code",
   "execution_count": null,
   "id": "b0c0a303",
   "metadata": {},
   "outputs": [],
   "source": [
    "x = 10\n",
    "\n",
    "func_cuadrado(x)"
   ]
  },
  {
   "cell_type": "code",
   "execution_count": null,
   "id": "164fc5b8",
   "metadata": {},
   "outputs": [],
   "source": [
    "# Datos de un usuario\n",
    "\n",
    "def func_datos():\n",
    "    \n",
    "    nombre = input(\"Ingresa tu nombre: \")\n",
    "    apellido = input(\"Ingresa tu apellido: \")\n",
    "    edad = int(input(\"Ingresa tu edad: \"))\n",
    "    lenguaje = input(\"Ingresa tu lenguaje de programación favorito: \")\n",
    "    \n",
    "    datos = [nombre, apellido, edad, lenguaje]\n",
    "    \n",
    "    return datos\n",
    "\n",
    "# Esta función no toma ningún parametro, pero retorna una lista con los datos que pregunta al usuario al ejecutarse."
   ]
  },
  {
   "cell_type": "code",
   "execution_count": null,
   "id": "d2b301c0",
   "metadata": {},
   "outputs": [],
   "source": [
    "func_datos()"
   ]
  },
  {
   "cell_type": "code",
   "execution_count": null,
   "id": "f1c30388",
   "metadata": {},
   "outputs": [],
   "source": [
    "lista_datos = func_datos()"
   ]
  },
  {
   "cell_type": "code",
   "execution_count": null,
   "id": "603aa1d1",
   "metadata": {},
   "outputs": [],
   "source": [
    "lista_datos"
   ]
  },
  {
   "cell_type": "code",
   "execution_count": null,
   "id": "8a20dc16",
   "metadata": {},
   "outputs": [],
   "source": [
    "# Número par o impar\n",
    "\n",
    "def func_par_impar():\n",
    "    \n",
    "    x = int(input(\"Ingresa un número para verificar si es par o impar: \"))\n",
    "    \n",
    "    if x % 2 == 0:\n",
    "        print(\"El numero\", x, \"es par.\")\n",
    "    \n",
    "    else:\n",
    "        print(\"El numero\", x, \"es impar.\")\n",
    "        \n",
    "# Esta función no toma ningún parametro de entrada y no retorna nada."
   ]
  },
  {
   "cell_type": "code",
   "execution_count": null,
   "id": "0e90ecf7",
   "metadata": {},
   "outputs": [],
   "source": [
    "func_par_impar()"
   ]
  },
  {
   "cell_type": "code",
   "execution_count": null,
   "id": "1a735551",
   "metadata": {},
   "outputs": [],
   "source": [
    "variable = func_par_impar()\n",
    "\n",
    "print(variable)"
   ]
  },
  {
   "cell_type": "markdown",
   "id": "8bcc04ee",
   "metadata": {},
   "source": [
    "### Parámetros por defecto (opcionales) y ``return``\n",
    "\n",
    "- En python se pueden crear funciones con parámetros por defecto, estos parametros se pueden modificar al momento de llamar a la función.\n",
    "\n",
    "- Al momento de definir una función con parámetros opcionales de definen después de los obligatorios. Es decir, primero se escriben los parámetros obligatorios y de segundo los opcionales. \n",
    "\n",
    "- **``return``**: Cuando la función llega a la parte del **``return``** esta se detiene y termina su ejecución. Una función puede tener más de un **``return``** o no tenerlo."
   ]
  },
  {
   "cell_type": "code",
   "execution_count": null,
   "id": "4c92786f",
   "metadata": {},
   "outputs": [],
   "source": [
    "def fecha_año(dia, mes=\"enero\", año=2000):\n",
    "    \n",
    "    print(f\"Hoy es {dia} de {mes} de {año}\")\n",
    "    \n",
    "# En esta función tenemos 2 parametros opcionales y 1 obligatorio\n",
    "# Esta función no retorna nada."
   ]
  },
  {
   "cell_type": "code",
   "execution_count": null,
   "id": "ba9d2a25",
   "metadata": {},
   "outputs": [],
   "source": [
    "# Como solo hay 1 parametro obligatorio, puede ejecutar la función solo dandole el parametro obligatorio\n",
    "\n",
    "fecha_año(20)"
   ]
  },
  {
   "cell_type": "code",
   "execution_count": null,
   "id": "1ecc02a6",
   "metadata": {},
   "outputs": [],
   "source": [
    "# Se puede cambiar un parametro por defecto al momento de ejecutar la función\n",
    "\n",
    "fecha_año(20, \"Febrero\", 2020)"
   ]
  },
  {
   "cell_type": "code",
   "execution_count": null,
   "id": "837d2f72",
   "metadata": {},
   "outputs": [],
   "source": [
    "# Función que retorna el cuadrado de un número si es par.\n",
    "\n",
    "def func_cuadrado_par(x=100):\n",
    "\n",
    "    if x % 2 == 0:\n",
    "        return x**2\n",
    "    \n",
    "    else:\n",
    "        return x"
   ]
  },
  {
   "cell_type": "code",
   "execution_count": null,
   "id": "cbd1d7d8",
   "metadata": {},
   "outputs": [],
   "source": [
    "func_cuadrado_par(10)"
   ]
  },
  {
   "cell_type": "code",
   "execution_count": null,
   "id": "2bffb470",
   "metadata": {},
   "outputs": [],
   "source": [
    "func_cuadrado_par(7)"
   ]
  },
  {
   "cell_type": "code",
   "execution_count": null,
   "id": "6054669d",
   "metadata": {},
   "outputs": [],
   "source": [
    "func_cuadrado_par()"
   ]
  },
  {
   "cell_type": "markdown",
   "id": "56ec6e6d",
   "metadata": {},
   "source": [
    "### Argumentos posicionales vs keyword\n",
    "\n",
    "A la hora de llamar las funciones, por defecto tenemos dos maneras principales de pasarle argumentos.\n",
    "\n",
    "Por posición:"
   ]
  },
  {
   "cell_type": "code",
   "execution_count": null,
   "id": "d13f01e5",
   "metadata": {},
   "outputs": [],
   "source": [
    "fecha_año(20, \"Febrero\", 2020)"
   ]
  },
  {
   "cell_type": "markdown",
   "id": "650a8d86",
   "metadata": {},
   "source": [
    "O por nombre (keyword):"
   ]
  },
  {
   "cell_type": "code",
   "execution_count": null,
   "id": "2eb932b1",
   "metadata": {},
   "outputs": [],
   "source": [
    "fecha_año(dia=20, mes=\"Febrero\", año=2000)"
   ]
  },
  {
   "cell_type": "code",
   "execution_count": null,
   "id": "36fb39d2",
   "metadata": {},
   "outputs": [],
   "source": [
    "fecha_año(mes=\"Febrero\", año=2000, dia=20) # Podemos usar el orden que queramos con los argumentos por nombre"
   ]
  },
  {
   "cell_type": "markdown",
   "id": "e1ce046e",
   "metadata": {},
   "source": [
    "O, incluso, de una forma mixta, pero siempre colocando los argumentos keyword después de los posicionales:"
   ]
  },
  {
   "cell_type": "code",
   "execution_count": null,
   "id": "b84c1e0d",
   "metadata": {},
   "outputs": [],
   "source": [
    "fecha_año(20, mes=\"Febrero\", año=2000)"
   ]
  },
  {
   "cell_type": "markdown",
   "id": "8cbac4a6",
   "metadata": {},
   "source": [
    "### Retornar más de un elemento\n",
    "\n",
    "Hasta ahora hemos hecho funciones que solo retornan un elemento, número, lista... Pero podemos hacer que el **``return``** nos retorne varias elementos, de esta forma podemos asignar varias variables al mismo tiempo."
   ]
  },
  {
   "cell_type": "code",
   "execution_count": null,
   "id": "8a94b301",
   "metadata": {},
   "outputs": [],
   "source": [
    "# Funcion que retorna el minimo y el maximo de una lista\n",
    "\n",
    "def min_max_lista(lista):\n",
    "    \n",
    "    minimo = min(lista)\n",
    "    maximo = max(lista)\n",
    "    \n",
    "    return minimo, maximo"
   ]
  },
  {
   "cell_type": "code",
   "execution_count": null,
   "id": "7e55679f",
   "metadata": {
    "scrolled": true
   },
   "outputs": [],
   "source": [
    "# Generamos una lista aleatoria para probar la función anterior\n",
    "\n",
    "import random\n",
    "\n",
    "lista = []\n",
    "\n",
    "for i in range(1000):\n",
    "    lista.append(random.randint(1, 10000))\n",
    "    \n",
    "print(lista)"
   ]
  },
  {
   "cell_type": "code",
   "execution_count": null,
   "id": "5a327486",
   "metadata": {},
   "outputs": [],
   "source": [
    "minimo_lista, maximo_lista = min_max_lista(lista)"
   ]
  },
  {
   "cell_type": "code",
   "execution_count": null,
   "id": "461aa85e",
   "metadata": {},
   "outputs": [],
   "source": [
    "type(min_max_lista(lista)) # Los más astutos sabrán qué tipo de dato nos está retornando"
   ]
  },
  {
   "cell_type": "code",
   "execution_count": null,
   "id": "5ddbf07a",
   "metadata": {},
   "outputs": [],
   "source": [
    "print(minimo_lista)\n",
    "print(maximo_lista)"
   ]
  },
  {
   "cell_type": "markdown",
   "id": "1c99790a",
   "metadata": {},
   "source": [
    "## Scopes\n",
    "\n",
    "Un scope es el espacio de memoria de un proceso. En una función, el scope tendrá todas las variables globales de nuestro programa y todas las locales de esa función.\n",
    "\n",
    "### Variables locales y globales\n",
    "\n",
    "- En Python las **variables locales son aquellas definidas dentro de una función**. Solamente **son accesibles desde la propia función y dejan de existir cuando esta termina su ejecución**. Los parámetros de una función también son considerados como variables locales.\n",
    "\n",
    "\n",
    "- En Python las **variables globales son aquellas definidas en el cuerpo principal del programa fuera de cualquier función**. Son **accesibles desde cualquier punto del programa, incluso desde dentro de funciones**. También se puede acceder a las variables globales de otros programas o módulos importados."
   ]
  },
  {
   "cell_type": "code",
   "execution_count": null,
   "id": "9ecdf61b",
   "metadata": {},
   "outputs": [],
   "source": [
    "var_global = 100 # Esta variable es accesible desde cualquier lugar en nuestro código\n",
    "\n",
    "def suma_100(valor_inicial): # Las variables suma y valor_inicial solo son accesibles dentro de esta función.\n",
    "\n",
    "    suma = valor_inicial + var_global\n",
    "    \n",
    "    return suma"
   ]
  },
  {
   "cell_type": "code",
   "execution_count": null,
   "id": "b3925285",
   "metadata": {},
   "outputs": [],
   "source": [
    "suma_100(10)"
   ]
  },
  {
   "cell_type": "code",
   "execution_count": null,
   "id": "33990fa0",
   "metadata": {},
   "outputs": [],
   "source": [
    "# En la función anterior usamos una variable fuera de la función que no esta en el parametro ni en el cuerpo de la función.\n",
    "# Si ahora intentamos imprimir por pantalla la variable \"valor_inicial\" y la variable \"suma\" nos dará error.\n",
    "# Esto es porque esas variables se crearon con la función.\n",
    "# Y cuando la función termina de ejecutarse estas variables dejan de existir.\n",
    "\n",
    "print(valor_incial)"
   ]
  },
  {
   "cell_type": "code",
   "execution_count": null,
   "id": "14da27ff",
   "metadata": {},
   "outputs": [],
   "source": [
    "# La variable \"suma\" es una variable local, así que no podremos utilizarla fuera de la función.\n",
    "\n",
    "print(suma)"
   ]
  },
  {
   "cell_type": "markdown",
   "id": "e2b8ef14",
   "metadata": {},
   "source": [
    "### `global`\n",
    "\n",
    "La palabra reservada **`global`** nos permite especificar que una variable que se utiliza dentro de una función es una variable global. Esto es útil para poder, por ejemplo, modificar la variable global."
   ]
  },
  {
   "cell_type": "code",
   "execution_count": null,
   "id": "acfbb522",
   "metadata": {},
   "outputs": [],
   "source": [
    "configuracion = 100\n",
    "\n",
    "def modificar_config(nuevo_valor):\n",
    "    configuracion = nuevo_valor\n",
    "    return"
   ]
  },
  {
   "cell_type": "code",
   "execution_count": null,
   "id": "71d0b47f",
   "metadata": {},
   "outputs": [],
   "source": [
    "modificar_config(200)"
   ]
  },
  {
   "cell_type": "code",
   "execution_count": null,
   "id": "3fbb4c4c",
   "metadata": {},
   "outputs": [],
   "source": [
    "configuracion"
   ]
  },
  {
   "cell_type": "code",
   "execution_count": null,
   "id": "8404c76c",
   "metadata": {},
   "outputs": [],
   "source": [
    "def modificar_config(nuevo_valor):\n",
    "    global configuracion\n",
    "    configuracion = nuevo_valor\n",
    "    return"
   ]
  },
  {
   "cell_type": "code",
   "execution_count": null,
   "id": "39c3418d",
   "metadata": {},
   "outputs": [],
   "source": [
    "modificar_config(200)"
   ]
  },
  {
   "cell_type": "code",
   "execution_count": null,
   "id": "84b06f4c",
   "metadata": {},
   "outputs": [],
   "source": [
    "configuracion"
   ]
  },
  {
   "cell_type": "markdown",
   "id": "78abe510",
   "metadata": {},
   "source": [
    "### `globals()`\n",
    "\n",
    "La función `globals()` nos da un diccionario con todas las variables globales de nuestro programa y sus valores."
   ]
  },
  {
   "cell_type": "code",
   "execution_count": null,
   "id": "878416df",
   "metadata": {},
   "outputs": [],
   "source": [
    "globals()"
   ]
  },
  {
   "cell_type": "code",
   "execution_count": null,
   "id": "394c386e",
   "metadata": {},
   "outputs": [],
   "source": [
    "globals()[\"configuracion\"]"
   ]
  },
  {
   "cell_type": "code",
   "execution_count": null,
   "id": "bb2e945a",
   "metadata": {},
   "outputs": [],
   "source": [
    "globals()[\"var_global\"]"
   ]
  },
  {
   "cell_type": "code",
   "execution_count": null,
   "id": "505842eb",
   "metadata": {},
   "outputs": [],
   "source": [
    "# Podemos declarar variables globales utilizando `globals()`\n",
    "\n",
    "globals()[\"mi_variable\"] = \"Hola, Mundo!\"\n",
    "\n",
    "mi_variable"
   ]
  },
  {
   "cell_type": "code",
   "execution_count": null,
   "id": "79355f0d",
   "metadata": {},
   "outputs": [],
   "source": [
    "for i in range(1,4):\n",
    "    globals()[f\"variable_{i}\"] = \"Hola, Mundo\" + \"!\"*i"
   ]
  },
  {
   "cell_type": "code",
   "execution_count": null,
   "id": "96100896",
   "metadata": {},
   "outputs": [],
   "source": [
    "variable_1"
   ]
  },
  {
   "cell_type": "code",
   "execution_count": null,
   "id": "ae5e01c0",
   "metadata": {},
   "outputs": [],
   "source": [
    "variable_2"
   ]
  },
  {
   "cell_type": "code",
   "execution_count": null,
   "id": "a8d644bb",
   "metadata": {},
   "outputs": [],
   "source": [
    "variable_3"
   ]
  },
  {
   "cell_type": "markdown",
   "id": "82903c5a",
   "metadata": {},
   "source": [
    "### `locals()`\n",
    "\n",
    "La función `locals()` nos da un diccionario con todas las variables locales accessibles en un scope."
   ]
  },
  {
   "cell_type": "code",
   "execution_count": null,
   "id": "7bf0cf9c",
   "metadata": {},
   "outputs": [],
   "source": [
    "def suma(a, b):\n",
    "    c = 20\n",
    "    print(locals())\n",
    "    print(locals()[\"a\"], locals()[\"b\"], locals()[\"c\"])\n",
    "    return a+b"
   ]
  },
  {
   "cell_type": "code",
   "execution_count": null,
   "id": "752a145f",
   "metadata": {},
   "outputs": [],
   "source": [
    "suma(10, 15)"
   ]
  }
 ],
 "metadata": {
  "kernelspec": {
   "display_name": "Python 3",
   "language": "python",
   "name": "python3"
  },
  "language_info": {
   "codemirror_mode": {
    "name": "ipython",
    "version": 3
   },
   "file_extension": ".py",
   "mimetype": "text/x-python",
   "name": "python",
   "nbconvert_exporter": "python",
   "pygments_lexer": "ipython3",
   "version": "3.12.8"
  }
 },
 "nbformat": 4,
 "nbformat_minor": 5
}
