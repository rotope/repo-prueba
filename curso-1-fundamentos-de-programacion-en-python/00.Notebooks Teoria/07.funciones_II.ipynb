{
 "cells": [
  {
   "cell_type": "markdown",
   "id": "551e53fe",
   "metadata": {},
   "source": [
    "## Funciones como clases\n",
    "\n",
    "Igual que todo en Python, las funciones también son clases. Por lo tanto, tienen métodos, atributos y se pueden almacenar en variables, utilizar como argumentos e incluso retornar de otras funciones. Todas estas características hacen que sean _**first class citizens**_ en Python."
   ]
  },
  {
   "cell_type": "code",
   "execution_count": null,
   "id": "ffdda218",
   "metadata": {},
   "outputs": [],
   "source": [
    "def suma(a, b, c=20, d=25):\n",
    "    \"\"\"Documentación de la función.\"\"\" # Esto es una docstring, es una forma de documentar nuestras funciones\n",
    "    return a + b + c + d"
   ]
  },
  {
   "cell_type": "code",
   "execution_count": null,
   "id": "53312c28",
   "metadata": {},
   "outputs": [],
   "source": [
    "suma # Ahora suma es una variable que almacena una instancia de tipo `function`"
   ]
  },
  {
   "cell_type": "code",
   "execution_count": null,
   "id": "a22a793a",
   "metadata": {},
   "outputs": [],
   "source": [
    "# suma implementa el método dunder `.__call__()`\n",
    "\n",
    "suma.__call__(10, 15)"
   ]
  },
  {
   "cell_type": "code",
   "execution_count": null,
   "id": "39f83e08",
   "metadata": {},
   "outputs": [],
   "source": [
    "# Las funciones también tienen atributos interesantes\n",
    "\n",
    "suma.__name__ # Nombre de la función"
   ]
  },
  {
   "cell_type": "code",
   "execution_count": null,
   "id": "f9106a47",
   "metadata": {},
   "outputs": [],
   "source": [
    "suma.__doc__ # La docstring de la función"
   ]
  },
  {
   "cell_type": "code",
   "execution_count": null,
   "id": "67986951",
   "metadata": {},
   "outputs": [],
   "source": [
    "suma.__module__ # Dónde está definida la función"
   ]
  },
  {
   "cell_type": "code",
   "execution_count": null,
   "id": "3dc844f4",
   "metadata": {},
   "outputs": [],
   "source": [
    "suma.__defaults__ # Los valores que trae por defecto"
   ]
  },
  {
   "cell_type": "markdown",
   "id": "f49e0101",
   "metadata": {},
   "source": [
    "- Podemos almacenar cualquier función en variables"
   ]
  },
  {
   "cell_type": "code",
   "execution_count": null,
   "id": "547b2d62",
   "metadata": {},
   "outputs": [],
   "source": [
    "funcion_suma = suma # No abrimos paréntesis, ya que no queremos llamar la función\n",
    "\n",
    "funcion_suma"
   ]
  },
  {
   "cell_type": "code",
   "execution_count": null,
   "id": "360eabdb",
   "metadata": {},
   "outputs": [],
   "source": [
    "funcion_suma(10, 15)"
   ]
  },
  {
   "cell_type": "markdown",
   "id": "3326e3ea",
   "metadata": {},
   "source": [
    "- Podemos pasar funciones como argumentos"
   ]
  },
  {
   "cell_type": "code",
   "execution_count": null,
   "id": "17e2756e",
   "metadata": {},
   "outputs": [],
   "source": [
    "def aplicar_operacion(iterable, func_operacion):\n",
    "    lista = []\n",
    "    for elem in iterable:\n",
    "        resultado = func_operacion(elem)\n",
    "        lista.append(resultado)\n",
    "    return lista\n",
    "\n",
    "def suma(valores):\n",
    "    suma_ = 0\n",
    "    for valor in valores:\n",
    "        suma_ += valor\n",
    "\n",
    "    return suma_"
   ]
  },
  {
   "cell_type": "code",
   "execution_count": null,
   "id": "cbd9d088",
   "metadata": {},
   "outputs": [],
   "source": [
    "lista = [(1,2), (3,4), (5,6), (7, 8), (9,10,11)]\n",
    "\n",
    "nueva_lista = aplicar_operacion(lista, suma)"
   ]
  },
  {
   "cell_type": "code",
   "execution_count": null,
   "id": "0e1166ae",
   "metadata": {},
   "outputs": [],
   "source": [
    "nueva_lista"
   ]
  },
  {
   "cell_type": "code",
   "execution_count": null,
   "id": "d6fe6c93",
   "metadata": {},
   "outputs": [],
   "source": [
    "# Ejemplo práctico\n",
    "\n",
    "nombres = [\"Antonio\", \"Jesus\", \"Adrian\", \"Julia\", \"Inmaculada\"]\n",
    "\n",
    "sorted(nombres) # Ordena por orden alfabético"
   ]
  },
  {
   "cell_type": "code",
   "execution_count": null,
   "id": "1949a236",
   "metadata": {},
   "outputs": [],
   "source": [
    "sorted(nombres, key=len) # Ordena por la longitud"
   ]
  },
  {
   "cell_type": "code",
   "execution_count": null,
   "id": "df474c5d",
   "metadata": {},
   "outputs": [],
   "source": [
    "def get_n_vocales(nombre):\n",
    "    conteo=0\n",
    "    for letra in nombre:\n",
    "        if letra in \"aeiou\":\n",
    "            conteo += 1\n",
    "    return conteo\n",
    "\n",
    "sorted(nombres, key=get_n_vocales) # Ordena en función de la cantidad de vocales"
   ]
  },
  {
   "cell_type": "markdown",
   "id": "a84373ca",
   "metadata": {},
   "source": [
    "### ``lambda`` (función anónima)\n",
    "\n",
    "Python cuenta con la función **``lambda``**, también llamada función anónima, su utilidad es poder crear funciones sin tener que darle un nombre. Debido a la sintaxis de la función **``lambda``** está es un poco limitada.\n",
    "\n",
    "Se usa principalmente para funciones cortas, puede tomar muchos parámetros y puede retornar cualquier tipo de dato (numero, tupla, lista, diccionario...).\n",
    "\n",
    "**Sintaxis**:\n",
    "```python\n",
    "lambda parametros_entrada : elementos_salida\n",
    "```"
   ]
  },
  {
   "cell_type": "code",
   "execution_count": null,
   "id": "fdca7a3b",
   "metadata": {},
   "outputs": [],
   "source": [
    "x = lambda a, b : a + b\n",
    "\n",
    "x"
   ]
  },
  {
   "cell_type": "code",
   "execution_count": null,
   "id": "7132a066",
   "metadata": {},
   "outputs": [],
   "source": [
    "x(10, 15)"
   ]
  },
  {
   "cell_type": "code",
   "execution_count": null,
   "id": "26044a56",
   "metadata": {},
   "outputs": [],
   "source": [
    "y = lambda n : n**2\n",
    "\n",
    "y"
   ]
  },
  {
   "cell_type": "code",
   "execution_count": null,
   "id": "d5c1cda9",
   "metadata": {},
   "outputs": [],
   "source": [
    "y(10)"
   ]
  },
  {
   "cell_type": "code",
   "execution_count": null,
   "id": "f583c3a7",
   "metadata": {},
   "outputs": [],
   "source": [
    "cuadrado = y(3)\n",
    "\n",
    "cuadrado"
   ]
  },
  {
   "cell_type": "markdown",
   "id": "51844126",
   "metadata": {},
   "source": [
    "**Si quisieramos que retorne más de un elemento, podemos colocar las operaciones en una tupla.**"
   ]
  },
  {
   "cell_type": "code",
   "execution_count": null,
   "id": "bd2a5a9c",
   "metadata": {},
   "outputs": [],
   "source": [
    "x = lambda a, b : (a + b, a - b)\n",
    "\n",
    "x(10, 10)"
   ]
  },
  {
   "cell_type": "markdown",
   "id": "1c1ed8b9",
   "metadata": {},
   "source": [
    "**También podemos usar funciones dentro de _``lambda``_.**"
   ]
  },
  {
   "cell_type": "code",
   "execution_count": null,
   "id": "ba16ebb3",
   "metadata": {},
   "outputs": [],
   "source": [
    "z = lambda a : y(a)"
   ]
  },
  {
   "cell_type": "code",
   "execution_count": null,
   "id": "4d9ef4b8",
   "metadata": {},
   "outputs": [],
   "source": [
    "z(8)"
   ]
  },
  {
   "cell_type": "code",
   "execution_count": null,
   "id": "2aa769d1",
   "metadata": {},
   "outputs": [],
   "source": [
    "z = lambda a, b : (x(a, b), y(sum(x(a, b))))"
   ]
  },
  {
   "cell_type": "code",
   "execution_count": null,
   "id": "8f521122",
   "metadata": {},
   "outputs": [],
   "source": [
    "z(10, 10)"
   ]
  },
  {
   "cell_type": "markdown",
   "id": "2312286c",
   "metadata": {},
   "source": [
    "**Las funciones _``lambda``_ son útiles para casos donde necesitamos pasar funciones como argumentos, pero no queremos hacer una definición.**"
   ]
  },
  {
   "cell_type": "code",
   "execution_count": null,
   "id": "01bea357",
   "metadata": {},
   "outputs": [],
   "source": [
    "sorted(nombres, key=lambda nombre: nombre.lower().startswith(\"a\")) # Ordena en función de si el nombre comienza o no por la letra \"a\""
   ]
  },
  {
   "cell_type": "markdown",
   "id": "87908d07",
   "metadata": {},
   "source": [
    "**O cuando necesitamos usar una función con menos argumentos que la que tenemos definida.**"
   ]
  },
  {
   "cell_type": "code",
   "execution_count": null,
   "id": "572a877a",
   "metadata": {},
   "outputs": [],
   "source": [
    "def power(base, exponente):\n",
    "    return base**exponente"
   ]
  },
  {
   "cell_type": "code",
   "execution_count": null,
   "id": "eab43520",
   "metadata": {},
   "outputs": [],
   "source": [
    "numeros = [-3,-2,-1,0,1,2,3]\n",
    "\n",
    "sorted(numeros, key=lambda num: power(num, 2))"
   ]
  }
 ],
 "metadata": {
  "kernelspec": {
   "display_name": "Python 3",
   "language": "python",
   "name": "python3"
  },
  "language_info": {
   "codemirror_mode": {
    "name": "ipython",
    "version": 3
   },
   "file_extension": ".py",
   "mimetype": "text/x-python",
   "name": "python",
   "nbconvert_exporter": "python",
   "pygments_lexer": "ipython3",
   "version": "3.12.8"
  }
 },
 "nbformat": 4,
 "nbformat_minor": 5
}
