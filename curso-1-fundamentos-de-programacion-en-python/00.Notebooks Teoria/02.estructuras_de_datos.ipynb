{
 "cells": [
  {
   "cell_type": "markdown",
   "id": "15e2b30d",
   "metadata": {},
   "source": [
    "## Tuplas y Listas (``tuple`` & ``list``)\n",
    "\n",
    "En python las tuplas y listas son una clase de estructura de datos que pueden almacenar uno o más objetos y valores, en ellas se pueden almacenar cualquier tipo de variable u objeto y para acceder a los valores se utiliza indexing o slicing.\n",
    "\n",
    "- **Tuplas:**\n",
    "    - Se inicializan usando **`tuple()`** o **`( )`**.\n",
    "    - Son inmutables.\n",
    "    - Ocupan menos espacio en memoria.\n",
    "    - En general, el tiempo de ejecución o recorrido de una tupla es menor.\n",
    "    - Cuenta con menos funciones y métodos que las listas.\n",
    "    \n",
    "    \n",
    "- **Listas:**\n",
    "    - Se inicializan usando **`list()`** o **`[ ]`**.\n",
    "    - Son mutables.\n",
    "    - Ocupan más espacio en memoria que las tuplas.\n",
    "    - En general, las listas consumen más tiempo al iterar sobre ellas.\n",
    "    - Cuenta con muchas funciones y métodos para operar con ellas."
   ]
  },
  {
   "cell_type": "markdown",
   "id": "a36fa656",
   "metadata": {},
   "source": [
    "### Tuplas"
   ]
  },
  {
   "cell_type": "code",
   "execution_count": null,
   "id": "cb8e27b7",
   "metadata": {},
   "outputs": [],
   "source": [
    "tupla_1 = (1, 2, 3, 4, 5, 100)\n",
    "\n",
    "tupla_1"
   ]
  },
  {
   "cell_type": "code",
   "execution_count": null,
   "id": "1430ca9b",
   "metadata": {},
   "outputs": [],
   "source": [
    "print(tupla_1)"
   ]
  },
  {
   "cell_type": "code",
   "execution_count": null,
   "id": "0ded8f73",
   "metadata": {},
   "outputs": [],
   "source": [
    "tupla_2 = (4, 5, 6, 7, 8, 100)\n",
    "\n",
    "tupla_2"
   ]
  },
  {
   "cell_type": "code",
   "execution_count": null,
   "id": "946cd5f6",
   "metadata": {},
   "outputs": [],
   "source": [
    "print(tupla_2)"
   ]
  },
  {
   "cell_type": "code",
   "execution_count": null,
   "id": "23e5ff0d",
   "metadata": {},
   "outputs": [],
   "source": [
    "# Al igual que en los strings, para \"acceder\" a los elementos de una tupla usamos indexing y slicing\n",
    "\n",
    "tupla_1[0]"
   ]
  },
  {
   "cell_type": "code",
   "execution_count": null,
   "id": "75fcc76b",
   "metadata": {},
   "outputs": [],
   "source": [
    "tupla_1[1:5]"
   ]
  },
  {
   "cell_type": "code",
   "execution_count": null,
   "id": "0e4cf6f1",
   "metadata": {},
   "outputs": [],
   "source": [
    "tupla_1[-1]"
   ]
  },
  {
   "cell_type": "code",
   "execution_count": null,
   "id": "ac717e22",
   "metadata": {},
   "outputs": [],
   "source": [
    "tupla_3 = (1, \"a\", \"hello\", (1, 2, 3, 4))\n",
    "\n",
    "tupla_3"
   ]
  },
  {
   "cell_type": "code",
   "execution_count": null,
   "id": "2d02dcf8",
   "metadata": {},
   "outputs": [],
   "source": [
    "# Min, Max y Len\n",
    "\n",
    "print(f\"Minimo tupla_1: {min(tupla_1)}\")\n",
    "print(f\"Maximo tupla_1: {max(tupla_1)}\")\n",
    "print(f\"Tamaño tupla_1: {len(tupla_1)}\")"
   ]
  },
  {
   "cell_type": "code",
   "execution_count": null,
   "id": "f36e2335",
   "metadata": {},
   "outputs": [],
   "source": [
    "# Min, Max y Len\n",
    "\n",
    "print(f\"Minimo tupla_2: {min(tupla_2)}\")\n",
    "print(f\"Maximo tupla_2: {max(tupla_2)}\")\n",
    "print(f\"Tamaño tupla_2: {len(tupla_2)}\")"
   ]
  },
  {
   "cell_type": "code",
   "execution_count": null,
   "id": "1e34e9bd",
   "metadata": {},
   "outputs": [],
   "source": [
    "# Las tuplas se pueden concatenar usando +\n",
    "# El resultados es una nueva tupla\n",
    "# No modifica las tuplas originales\n",
    "\n",
    "tupla_1 + tupla_2"
   ]
  },
  {
   "cell_type": "code",
   "execution_count": null,
   "id": "d6256cd1",
   "metadata": {},
   "outputs": [],
   "source": [
    "# Pero no se pueden restar\n",
    "\n",
    "tupla_1 - tupla_2"
   ]
  },
  {
   "cell_type": "markdown",
   "id": "be5be054",
   "metadata": {},
   "source": [
    "### Listas"
   ]
  },
  {
   "cell_type": "code",
   "execution_count": null,
   "id": "6d16aff0",
   "metadata": {},
   "outputs": [],
   "source": [
    "lista_1 = [1, 2, 3, 4, 5, 6, 7, 100, 1000]\n",
    "\n",
    "lista_2 = [5, 6, 7, 8, 9, 10, 11, -2, -6, -100]"
   ]
  },
  {
   "cell_type": "code",
   "execution_count": null,
   "id": "79e7f787",
   "metadata": {},
   "outputs": [],
   "source": [
    "print(f\"lista_1: {lista_1}\")\n",
    "print(f\"lista_2: {lista_2}\")"
   ]
  },
  {
   "cell_type": "markdown",
   "id": "c5cd2373",
   "metadata": {},
   "source": [
    "Los objetos **`list()`** son unos de los más utilizados en python, la principal ventaja ante las tuplas es que estos objetos **son mutables**, es decir, pueden ser modificados, se les puede **agragar y quitar valores** y cuentan con diferentes métodos asociados:\n",
    "\n",
    "| Modifican \"in-place\" | Retornan un valor |\n",
    "|----------------------|-------------------|\n",
    "| **.append()**        | **.count()**      |\n",
    "| **.extend()**        | **.index()**      |\n",
    "| **.insert()**        | **min()**         |\n",
    "| **.pop()**           | **max()**         |\n",
    "| **.remove()**        | **len()**         |\n",
    "| **.sort()**          |                   |\n",
    "| **.reverse()**       |                   |\n",
    "| **.clear()**         |                   |\n",
    "| **del**              |                   |"
   ]
  },
  {
   "cell_type": "code",
   "execution_count": null,
   "id": "4656c91b",
   "metadata": {},
   "outputs": [],
   "source": [
    "# Las listas también tienen min, max y len\n",
    "\n",
    "print(f\"Minimo lista_1: {min(lista_1)}\")\n",
    "print(f\"Maximo lista_1: {max(lista_1)}\")\n",
    "print(f\"Tamaño lista_1: {len(lista_1)}\")"
   ]
  },
  {
   "cell_type": "code",
   "execution_count": null,
   "id": "ad74452d",
   "metadata": {},
   "outputs": [],
   "source": [
    "# .sort() ordena de menor a mayor la lista\n",
    "# No retorna un valor\n",
    "# Modifica la lista \"in-place\"\n",
    "\n",
    "print(f\"Antes del .sort(): {lista_2}\")\n",
    "\n",
    "lista_2.sort()\n",
    "\n",
    "print(f\"Después del .sort() {lista_2}\")"
   ]
  },
  {
   "cell_type": "code",
   "execution_count": null,
   "id": "a3f576c7",
   "metadata": {},
   "outputs": [],
   "source": [
    "# .reverse() invierte la lista\n",
    "\n",
    "print(f\"Antes del .reverse(): {lista_1}\")\n",
    "\n",
    "lista_1.reverse()\n",
    "\n",
    "print(f\"Después del .reverse(): {lista_1}\")"
   ]
  },
  {
   "cell_type": "code",
   "execution_count": null,
   "id": "5198d447",
   "metadata": {},
   "outputs": [],
   "source": [
    "# Existe la función sorted() que toma cualquier iterable y retorna siempre una lista ordenada. No modifica la variable original.\n",
    "\n",
    "sorted(lista_1)"
   ]
  },
  {
   "cell_type": "code",
   "execution_count": null,
   "id": "5eb62beb",
   "metadata": {},
   "outputs": [],
   "source": [
    "lista_1"
   ]
  },
  {
   "cell_type": "markdown",
   "id": "005bcf8c",
   "metadata": {},
   "source": [
    "Si quisieramos **agregar** elementos a una lista tenemos 3 opciones:\n",
    "\n",
    "- **`.append()`**: agrega 1 elemento/objeto al final de la lista.\n",
    "\n",
    "- **`.extend()`**: agrega todos los elementos de un objeto iterable al final de la lista.\n",
    "\n",
    "- **`.insert()`**: agrega 1 elemento a una posición en específico.\n",
    "\n",
    "\n",
    "**Ejemplos:**"
   ]
  },
  {
   "cell_type": "code",
   "execution_count": null,
   "id": "28dbcf5b",
   "metadata": {},
   "outputs": [],
   "source": [
    "# Si quisieramos agregar el numero 50 en la última posición de la lista_1:\n",
    "# .append() no retorna nada\n",
    "\n",
    "print(f\"Antes del .append(): {lista_1}\")\n",
    "\n",
    "lista_1.append(50)\n",
    "\n",
    "print(f\"Después del .append(): {lista_1}\")"
   ]
  },
  {
   "cell_type": "code",
   "execution_count": null,
   "id": "bc8cd545",
   "metadata": {},
   "outputs": [],
   "source": [
    "# Si quisieramos agregar los números 33, 44, 55, 66 y 0 al final de la lista_1:\n",
    "# .extend() no retorna nada\n",
    "\n",
    "print(f\"Antes del .extend(): {lista_1}\")\n",
    "\n",
    "lista_1.extend([33, 44, 55, 66, 0])\n",
    "\n",
    "print(f\"Después del .extend(): {lista_1}\")"
   ]
  },
  {
   "cell_type": "code",
   "execution_count": null,
   "id": "fda04d21",
   "metadata": {},
   "outputs": [],
   "source": [
    "# Si quisieramos agregar el número 0 al indice 4:\n",
    "# .insert() no retorna nada\n",
    "\n",
    "print(f\"Antes del .insert(): {lista_1}\")\n",
    "\n",
    "lista_1.insert(4, 0)\n",
    "\n",
    "print(f\"Después del .insert(): {lista_1}\")"
   ]
  },
  {
   "cell_type": "markdown",
   "id": "7f8c2652",
   "metadata": {},
   "source": [
    "Si quisieramos eliminar los elementos de una lista también tenemos 3 opciones:\n",
    "    \n",
    "- **`.remove()`**: elimina la primera ocurrencia en la lista\n",
    "\n",
    "- **`.pop()`**: elimina un elemento utilizando su indice y retorna ese elemento\n",
    "\n",
    "- **`del`**: elimina un elemento utilizando su indice, no retorna nada"
   ]
  },
  {
   "cell_type": "code",
   "execution_count": null,
   "id": "e7614b31",
   "metadata": {},
   "outputs": [],
   "source": [
    "lista_1"
   ]
  },
  {
   "cell_type": "code",
   "execution_count": null,
   "id": "c0ffb747",
   "metadata": {},
   "outputs": [],
   "source": [
    "# En lista_1 aparecen dos veces el numero 0, si quisieramos eliminar el primer 0, utilizariamos .remove():\n",
    "# .remove() toma como argumento el elemento que queremos eliminar, no retorna nada.\n",
    "\n",
    "print(f\"Antes del .remove(): {lista_1}\")\n",
    "\n",
    "lista_1.remove(0)\n",
    "\n",
    "print(f\"Después del .remove(): {lista_1}\")"
   ]
  },
  {
   "cell_type": "code",
   "execution_count": null,
   "id": "1f883ee0",
   "metadata": {},
   "outputs": [],
   "source": [
    "# Si intentamos eliminar un elemento que no este en la lista nos daría error\n",
    "\n",
    "lista_1.remove(99)"
   ]
  },
  {
   "cell_type": "code",
   "execution_count": null,
   "id": "2b08d3dc",
   "metadata": {},
   "outputs": [],
   "source": [
    "# Si queremos eliminar un elemento por su indice:\n",
    "\n",
    "print(f\"Antes del `del` {lista_1}\")\n",
    "\n",
    "del lista_1[5]\n",
    "\n",
    "# Elimina el elemento con indice 5\n",
    "\n",
    "print(f\"Después del `del` {lista_1}\")"
   ]
  },
  {
   "cell_type": "code",
   "execution_count": null,
   "id": "5108c7db",
   "metadata": {},
   "outputs": [],
   "source": [
    "# Si queremos eliminar un elemento por su indice y a su vez guardar en una variable el ese elemento:\n",
    "# El .pop() retorna el elemento que saca de la lista, por lo que podemos igualar esa ejecución a una variable\n",
    "\n",
    "print(f\"Antes del .pop() {lista_1}\")\n",
    "\n",
    "elemento = lista_1.pop(0)\n",
    "\n",
    "print(f\"Después del .pop() {lista_1}\")"
   ]
  },
  {
   "cell_type": "code",
   "execution_count": null,
   "id": "fe831bd5",
   "metadata": {},
   "outputs": [],
   "source": [
    "elemento"
   ]
  },
  {
   "cell_type": "code",
   "execution_count": null,
   "id": "2ffdb8d0",
   "metadata": {},
   "outputs": [],
   "source": [
    "# Por último, podemos vaciar la lista con .clear()\n",
    "\n",
    "print(f\"Antes del .clear(): {lista_1}\")\n",
    "\n",
    "lista_1.clear()\n",
    "\n",
    "print(f\"Después del .clear(): {lista_1}\")"
   ]
  },
  {
   "cell_type": "code",
   "execution_count": null,
   "id": "0061122a",
   "metadata": {},
   "outputs": [],
   "source": [
    "lista_1 = [1, 2, 3, 4, 5, 6, 7, 100, 1000]\n",
    "\n",
    "lista_1"
   ]
  },
  {
   "cell_type": "code",
   "execution_count": null,
   "id": "dbbfbfe9",
   "metadata": {},
   "outputs": [],
   "source": [
    "# .count() cuenta cuantas veces se repite un elemento:\n",
    "\n",
    "lista_1.count(100)"
   ]
  },
  {
   "cell_type": "code",
   "execution_count": null,
   "id": "c64954bc",
   "metadata": {},
   "outputs": [],
   "source": [
    "# .index() retorna la posición de un elemento en la lista:\n",
    "\n",
    "lista_1.index(7)"
   ]
  },
  {
   "cell_type": "code",
   "execution_count": null,
   "id": "491183c2",
   "metadata": {},
   "outputs": [],
   "source": [
    "# Si intentamos buscar un elemento que no esta en la lista nos daría error\n",
    "\n",
    "lista_1.index(-111)"
   ]
  },
  {
   "cell_type": "code",
   "execution_count": null,
   "id": "2080dbb0",
   "metadata": {},
   "outputs": [],
   "source": [
    "lista_1"
   ]
  },
  {
   "cell_type": "code",
   "execution_count": null,
   "id": "7c0c05a7",
   "metadata": {},
   "outputs": [],
   "source": [
    "# Si quisieramos cambiar un elemento de la lista podemos usar indexing para hacerlo:\n",
    "\n",
    "# Por ejemplo, queremos que el elemento en el indice 5 sea ahora -100\n",
    "\n",
    "lista_1[5] = -100\n",
    "\n",
    "lista_1"
   ]
  },
  {
   "cell_type": "code",
   "execution_count": null,
   "id": "39b3bb36",
   "metadata": {},
   "outputs": [],
   "source": [
    "lista_1[5:10]"
   ]
  },
  {
   "cell_type": "code",
   "execution_count": null,
   "id": "caae57bf",
   "metadata": {},
   "outputs": [],
   "source": [
    "# Y lo mismo aplica con el slicing si queremos cambiar un conjunto de elementos:\n",
    "\n",
    "lista_1[5:10] = [-1, -2, -3, -4]\n",
    "\n",
    "lista_1"
   ]
  },
  {
   "cell_type": "markdown",
   "id": "009c3f4b",
   "metadata": {},
   "source": [
    "Tanto las listas como las tuplas pueden **contener cualquier tipo de objeto dentro de ellas**, esto incluye numeros, strings, listas, tuplas, diccionarios... Por lo que es normal ver listas anidadas: "
   ]
  },
  {
   "cell_type": "code",
   "execution_count": null,
   "id": "fb0c4f4e",
   "metadata": {},
   "outputs": [],
   "source": [
    "lista_1 = [[1, 2, 3], [4, 5, 6], [7, 8, 9]]\n",
    "\n",
    "print(lista_1)"
   ]
  },
  {
   "cell_type": "code",
   "execution_count": null,
   "id": "f8e9ad31",
   "metadata": {},
   "outputs": [],
   "source": [
    "# Al tener una lista de listas accederiamos a cada una usando indexing"
   ]
  },
  {
   "cell_type": "code",
   "execution_count": null,
   "id": "bf680dae",
   "metadata": {},
   "outputs": [],
   "source": [
    "lista_1[0]"
   ]
  },
  {
   "cell_type": "code",
   "execution_count": null,
   "id": "48f2dbd2",
   "metadata": {},
   "outputs": [],
   "source": [
    "lista_1[1]"
   ]
  },
  {
   "cell_type": "code",
   "execution_count": null,
   "id": "9247b7f6",
   "metadata": {},
   "outputs": [],
   "source": [
    "lista_1[2]"
   ]
  },
  {
   "cell_type": "code",
   "execution_count": null,
   "id": "4c1f7110",
   "metadata": {},
   "outputs": [],
   "source": [
    "# Y si quisieramos los elementos de la primera lista, usariamos indexing otra vez\n",
    "lista_1[0][0]"
   ]
  },
  {
   "cell_type": "code",
   "execution_count": null,
   "id": "63261966",
   "metadata": {},
   "outputs": [],
   "source": [
    "lista_1[0][1]"
   ]
  },
  {
   "cell_type": "code",
   "execution_count": null,
   "id": "34e748cf",
   "metadata": {},
   "outputs": [],
   "source": [
    "lista_1[0][2]"
   ]
  },
  {
   "cell_type": "code",
   "execution_count": null,
   "id": "8ad7b48f",
   "metadata": {},
   "outputs": [],
   "source": [
    "lista_3 = [lista_1[0], \"hola mundo\", 10, 0, 1000, lista_1[-1]]\n",
    "\n",
    "lista_3"
   ]
  },
  {
   "cell_type": "code",
   "execution_count": null,
   "id": "dc2f69b4",
   "metadata": {},
   "outputs": [],
   "source": [
    "lista_3[1][-1]"
   ]
  },
  {
   "cell_type": "markdown",
   "id": "fb41ae72",
   "metadata": {},
   "source": [
    "## Sets (``set``)\n",
    "\n",
    "\n",
    "En python, un set es una **colección de elementos que no posee órden**, por lo tanto no tiene indice. Debido a esto no podemos elegir en que orden aparecen sus elementos.\n",
    "\n",
    "Los sets **son mutables y NO permiten elemento repetidos**, lo que es útil en situaciones que tenemos que utilizar valores únicos.\n",
    "\n",
    "Se denotan con llaves **`{}`** y son muy utilizados en la teoria de grupos.\n",
    "\n",
    "| Método                      | Descripción                                            |\n",
    "|-----------------------------|--------------------------------------------------------|\n",
    "| **``.add()``**                  | Agrega un elemento al set                              |\n",
    "| **``.clear()``**                | Vacia el set                                           |\n",
    "| **``.difference()``**           | Retorna los elementos no comunes de ambos sets         |\n",
    "| **``.remove()``**               | Elimina un elemento especifico del set                 |\n",
    "| **``.pop()``**                  | Elimina un elemento del set y lo retorna               |\n",
    "| **``.intersection()``**         | Retorna los elementos en comun de dos sets             |\n",
    "| **``.union()``**                | Retorna la unión de dos sets                           |\n",
    "| **``.update()``**               | Agrega a un set los elementos de otro objeto iterable  |"
   ]
  },
  {
   "cell_type": "code",
   "execution_count": null,
   "id": "2916354b",
   "metadata": {},
   "outputs": [],
   "source": [
    "set_1 = {1, 2, 3, 4, 5, 6, 7, \"a\", \"b\", \"c\", \"d\", \"e\"}\n",
    "\n",
    "set_1"
   ]
  },
  {
   "cell_type": "code",
   "execution_count": null,
   "id": "94190100",
   "metadata": {},
   "outputs": [],
   "source": [
    "print(set_1)"
   ]
  },
  {
   "cell_type": "code",
   "execution_count": null,
   "id": "cc67665c",
   "metadata": {},
   "outputs": [],
   "source": [
    "set_2 = {5, 6, 7, 8, 9, 10, \"e\", \"f\", \"g\", \"h\"}\n",
    "\n",
    "set_2"
   ]
  },
  {
   "cell_type": "code",
   "execution_count": null,
   "id": "00600f87",
   "metadata": {},
   "outputs": [],
   "source": [
    "print(set_2)"
   ]
  },
  {
   "cell_type": "code",
   "execution_count": null,
   "id": "687e1e35",
   "metadata": {},
   "outputs": [],
   "source": [
    "# .add() agrega un solo elemento al set\n",
    "\n",
    "set_1.add(\"Hola\")\n",
    "\n",
    "set_1"
   ]
  },
  {
   "cell_type": "code",
   "execution_count": null,
   "id": "7a80fe4f",
   "metadata": {},
   "outputs": [],
   "source": [
    "# .difference() elimina los elementos en comun en ambos sets\n",
    "\n",
    "set_1.difference(set_2)"
   ]
  },
  {
   "cell_type": "code",
   "execution_count": null,
   "id": "664b812d",
   "metadata": {},
   "outputs": [],
   "source": [
    "# .union() retorna todos los elementos de ambos sets en uno solo\n",
    "\n",
    "set_1.union(set_2)"
   ]
  },
  {
   "cell_type": "code",
   "execution_count": null,
   "id": "9c395f0e",
   "metadata": {},
   "outputs": [],
   "source": [
    "# .intersection() retorna los elementos en comun de ambos sets\n",
    "\n",
    "set_1.intersection(set_2)"
   ]
  },
  {
   "cell_type": "code",
   "execution_count": null,
   "id": "2e9131fd",
   "metadata": {},
   "outputs": [],
   "source": [
    "# .remove() elimina un unico elemento, se ejecuta in-place\n",
    "\n",
    "set_1.remove(\"Hola\")"
   ]
  },
  {
   "cell_type": "code",
   "execution_count": null,
   "id": "427da709",
   "metadata": {},
   "outputs": [],
   "source": [
    "set_1"
   ]
  },
  {
   "cell_type": "code",
   "execution_count": null,
   "id": "25b81937",
   "metadata": {},
   "outputs": [],
   "source": [
    "# .update() agrega los valores del set_2 al set_1, se ejecuta in-place\n",
    "\n",
    "set_1.update(set_2)\n",
    "\n",
    "print(set_1)"
   ]
  },
  {
   "cell_type": "markdown",
   "id": "d625c6a3",
   "metadata": {},
   "source": [
    "## Casting (conversión)\n",
    "\n",
    "En python y otros lenguajes, _**casting**_ (o **cast**) es un termino usado para cambiar el tipo de dato de una variable, como convertir un número **``float``** a **``int``** o una **``tuple``** a **``list``** (o viceversa).\n",
    "\n",
    "Para hacer _**casting**_ o castear, usamos las funciones _**built-in**_ de Python, que también son palabras reservadas:\n",
    "\n",
    "|Función      |Tipo              |\n",
    "|-------------|------------------|\n",
    "| **``int()``**   |Entero            |\n",
    "| **``float()``** |Flotante (Decimal)|\n",
    "| **``bool()``**  |Booleano          |\n",
    "| **``str()``**   |String            |\n",
    "| **``tuple()``** |Tupla             |\n",
    "| **``list()``**  |Lista             |\n",
    "| **``set()``**   |Set (o conjunto)  |\n",
    "| **``dict()``**  |Diccionario       |\n",
    "\n",
    "\n",
    "**Dependiendo del tipo de dato original podremos castear una variable a un tipo de dato u otro.**\n",
    "\n",
    "Por ejemplo, podemos transformar un numero a una cadena de caracteres, pero no podemos transformar una cadena de caracteres con letras a un numero entero."
   ]
  },
  {
   "cell_type": "code",
   "execution_count": null,
   "id": "e52399d5",
   "metadata": {},
   "outputs": [],
   "source": [
    "lista = [\"a\", \"b\", \"c\", \"d\", \"e\"]\n",
    "\n",
    "lista = list(set(lista))\n",
    "\n",
    "lista"
   ]
  },
  {
   "cell_type": "code",
   "execution_count": null,
   "id": "03c0dd2e",
   "metadata": {},
   "outputs": [],
   "source": [
    "entero = 1000\n",
    "\n",
    "str(entero)"
   ]
  },
  {
   "cell_type": "code",
   "execution_count": null,
   "id": "a06683d4",
   "metadata": {},
   "outputs": [],
   "source": [
    "string = \"1000\"\n",
    "\n",
    "int(string)"
   ]
  },
  {
   "cell_type": "code",
   "execution_count": null,
   "id": "9f603db5",
   "metadata": {},
   "outputs": [],
   "source": [
    "float(string)"
   ]
  },
  {
   "cell_type": "code",
   "execution_count": null,
   "id": "5ef63967",
   "metadata": {},
   "outputs": [],
   "source": [
    "string = \"Hola\"\n",
    "\n",
    "int(string)"
   ]
  },
  {
   "cell_type": "code",
   "execution_count": null,
   "id": "a83e8e78",
   "metadata": {},
   "outputs": [],
   "source": [
    "tupla = (1, 2, 3, 4, 5, 6)\n",
    "\n",
    "list(tupla)"
   ]
  },
  {
   "cell_type": "code",
   "execution_count": null,
   "id": "fee55b96",
   "metadata": {},
   "outputs": [],
   "source": [
    "string = \"100a00\"\n",
    "\n",
    "float(string)"
   ]
  },
  {
   "cell_type": "code",
   "execution_count": null,
   "id": "381a2da1",
   "metadata": {},
   "outputs": [],
   "source": [
    "string = \"0b1010\"\n",
    "\n",
    "int(string)"
   ]
  },
  {
   "cell_type": "code",
   "execution_count": null,
   "id": "aef16706",
   "metadata": {},
   "outputs": [],
   "source": [
    "int(string, base=2)"
   ]
  },
  {
   "cell_type": "code",
   "execution_count": null,
   "id": "2615ea2d",
   "metadata": {},
   "outputs": [],
   "source": [
    "string = \"0xFF\"\n",
    "\n",
    "int(string, base=16)"
   ]
  },
  {
   "cell_type": "code",
   "execution_count": null,
   "id": "82bc0606",
   "metadata": {},
   "outputs": [],
   "source": [
    "string = \"7.12e5\"\n",
    "\n",
    "float(string)"
   ]
  },
  {
   "cell_type": "markdown",
   "id": "b4699ef9",
   "metadata": {},
   "source": [
    "## Dictionaries (``dict``)\n",
    "\n",
    "En python, los diccionarios son una **estructura de datos** y un **tipo de dato**. La principal característica de los diccionarios es que cada elemento tiene un par de **llave y valor** (**key y value**).\n",
    "\n",
    "- La **llave** o **key** se utiliza para identificar un elemento del diccionario, funciona como un indice, normalmente las llaves son **numeros o strings**.\n",
    "\n",
    "- El **valor** o **value** es el elemento asociado a la llave, este valor puede ser cualquier tipo de dato (**numero, string, lista, tupla, diccionario...**).\n",
    "\n",
    "Al igual que los sets los diccionarios **NO tienen un orden, además las llaves son únicas, es decir, no se pueden repetir**.\n",
    "\n",
    "Los diccionarios se denotan con **`{}`** y utilizan **`:`** para separar las llaves y los valores. \n",
    "\n",
    "Este tipo de dato también se le conoce como **JSON** o **Hash Map** en otros lenguajes."
   ]
  },
  {
   "cell_type": "code",
   "execution_count": null,
   "id": "fcdc6473",
   "metadata": {},
   "outputs": [],
   "source": [
    "dict_1 = {\"a\" : 1,\n",
    "          \"b\" : 2,\n",
    "          \"c\" : 3,\n",
    "          \"d\" : 4}\n",
    "\n",
    "print(dict_1)"
   ]
  },
  {
   "cell_type": "markdown",
   "id": "0834de7e",
   "metadata": {},
   "source": [
    "Para poder acceder a los elementos de un diccionario:\n",
    "- Usariamos la **llave** como si fuese un **indice**.\n",
    "- Usariamos el método **`.get()`**"
   ]
  },
  {
   "cell_type": "code",
   "execution_count": null,
   "id": "510fc265",
   "metadata": {},
   "outputs": [],
   "source": [
    "# Usando la llave como indice\n",
    "\n",
    "dict_1[\"a\"]"
   ]
  },
  {
   "cell_type": "code",
   "execution_count": null,
   "id": "eff7723d",
   "metadata": {},
   "outputs": [],
   "source": [
    "dict_1[\"d\"]"
   ]
  },
  {
   "cell_type": "code",
   "execution_count": null,
   "id": "77484f7b",
   "metadata": {},
   "outputs": [],
   "source": [
    "# Si intento entrar en una llave que no existe me da error\n",
    "dict_1[\"z\"]"
   ]
  },
  {
   "cell_type": "code",
   "execution_count": null,
   "id": "47a0a820",
   "metadata": {},
   "outputs": [],
   "source": [
    "# Usando .get()\n",
    "\n",
    "dict_1.get(\"a\")"
   ]
  },
  {
   "cell_type": "code",
   "execution_count": null,
   "id": "394d0448",
   "metadata": {},
   "outputs": [],
   "source": [
    "# Si usamos .get() con un elemento que no este en el diccionario, no da error pero no retorna nada\n",
    "\n",
    "dict_1.get(\"z\")"
   ]
  },
  {
   "cell_type": "markdown",
   "id": "7d8bb9c0",
   "metadata": {},
   "source": [
    "**Si quisieramos agregar un elemento nuevo al diccionario:**\n",
    "1. **`diccionario[llave] = valor`**\n",
    "2. **`diccionario.update({llave : valor})`**"
   ]
  },
  {
   "cell_type": "code",
   "execution_count": null,
   "id": "24639da9",
   "metadata": {},
   "outputs": [],
   "source": [
    "# 1. diccionario[llave] = valor\n",
    "\n",
    "dict_1[\"e\"] = 1\n",
    "\n",
    "print(dict_1)"
   ]
  },
  {
   "cell_type": "code",
   "execution_count": null,
   "id": "2402b8db",
   "metadata": {},
   "outputs": [],
   "source": [
    "# 2. diccionario.update({llave : valor})\n",
    "\n",
    "dict_1.update({\"f\" : 6, \"g\" : 7, \"h\" : 8})\n",
    "\n",
    "print(dict_1)"
   ]
  },
  {
   "cell_type": "markdown",
   "id": "78e3e3fb",
   "metadata": {},
   "source": [
    "Estas formas de agregar un elemento al diccionario también funciona para **\"actualizar\"** o **\"modificar\"** el valor de una llave ya existente.\n",
    "\n",
    "**Ejemplo:**"
   ]
  },
  {
   "cell_type": "code",
   "execution_count": null,
   "id": "dd5a25ee",
   "metadata": {},
   "outputs": [],
   "source": [
    "dict_1[\"a\"]"
   ]
  },
  {
   "cell_type": "code",
   "execution_count": null,
   "id": "b2ffb7ed",
   "metadata": {},
   "outputs": [],
   "source": [
    "dict_1[\"a\"] = 1000"
   ]
  },
  {
   "cell_type": "code",
   "execution_count": null,
   "id": "57cb80e8",
   "metadata": {},
   "outputs": [],
   "source": [
    "print(dict_1)"
   ]
  },
  {
   "cell_type": "markdown",
   "id": "22e77c71",
   "metadata": {},
   "source": [
    "**Al igual que las listas y las tuplas, los diccionarios pueden almacenar cualquier tipo de dato, incluso un diccionario.**"
   ]
  },
  {
   "cell_type": "code",
   "execution_count": null,
   "id": "4fd060e3",
   "metadata": {},
   "outputs": [],
   "source": [
    "dict_1 = {1 : [1, 2, 3, 4, 5],\n",
    "          2 : [6, 7, 8, 9, 0],\n",
    "          3 : [\"a\", \"b\", \"c\", \"d\", \"e\"]}\n",
    "\n",
    "dict_1"
   ]
  },
  {
   "cell_type": "markdown",
   "id": "6b2b010d",
   "metadata": {},
   "source": [
    "### Diccionarios anidados"
   ]
  },
  {
   "cell_type": "code",
   "execution_count": null,
   "id": "fc40ccb6",
   "metadata": {},
   "outputs": [],
   "source": [
    "# Diccionarios anidados\n",
    "\n",
    "dict_2 = {1 : {\"nombre\" : \"pablo\", \"apellido\" : \"rodriguez\"},\n",
    "          2 : {\"nombre\" : \"juan\", \"apellido\" : \"perez\"}}\n",
    "\n",
    "dict_2"
   ]
  },
  {
   "cell_type": "markdown",
   "id": "b56ec51f",
   "metadata": {},
   "source": [
    "Cuando tenemos un **diccionario anidado**, para poder acceder a los elementos de los diccionarios más internos debemos ir entrando en cada llave hasta llegar al elemento que queramos\n",
    "\n",
    "**Ejemplo:**"
   ]
  },
  {
   "cell_type": "code",
   "execution_count": null,
   "id": "6bad392a",
   "metadata": {},
   "outputs": [],
   "source": [
    "dict_2[1]"
   ]
  },
  {
   "cell_type": "code",
   "execution_count": null,
   "id": "2d8fce48",
   "metadata": {},
   "outputs": [],
   "source": [
    "dict_2[1][\"nombre\"]"
   ]
  },
  {
   "cell_type": "code",
   "execution_count": null,
   "id": "64e0a30f",
   "metadata": {},
   "outputs": [],
   "source": [
    "dict_2.get(1).get(\"nombre\")"
   ]
  },
  {
   "cell_type": "code",
   "execution_count": null,
   "id": "e65b6746",
   "metadata": {},
   "outputs": [],
   "source": [
    "dict_2[1][\"apellido\"]"
   ]
  },
  {
   "cell_type": "code",
   "execution_count": null,
   "id": "7abcd65f",
   "metadata": {},
   "outputs": [],
   "source": [
    "dict_2[2]"
   ]
  },
  {
   "cell_type": "code",
   "execution_count": null,
   "id": "d4608bc6",
   "metadata": {},
   "outputs": [],
   "source": [
    "dict_2[2][\"nombre\"]"
   ]
  },
  {
   "cell_type": "code",
   "execution_count": null,
   "id": "aceac036",
   "metadata": {},
   "outputs": [],
   "source": [
    "dict_2.get(2).get(\"nombre\")"
   ]
  },
  {
   "cell_type": "markdown",
   "id": "0d65c894",
   "metadata": {},
   "source": [
    "**Existe una función que nos ayuda a contar el número de elementos de un objeto, la función retorna un objeto parecido a los diccionarios.**\n",
    "\n",
    "```python\n",
    "from collections import Counter\n",
    "```"
   ]
  },
  {
   "cell_type": "code",
   "execution_count": null,
   "id": "04dd82c1",
   "metadata": {},
   "outputs": [],
   "source": [
    "from collections import Counter"
   ]
  },
  {
   "cell_type": "code",
   "execution_count": null,
   "id": "ad027bb1",
   "metadata": {},
   "outputs": [],
   "source": [
    "string = \"aaaabbbbcccccddddddeeeeeeeffffffffffgggggggggggggggghhhhhhhhhhhhhhhhhhhhhh\"\n",
    "print(string)"
   ]
  },
  {
   "cell_type": "code",
   "execution_count": null,
   "id": "7b67a7d8",
   "metadata": {},
   "outputs": [],
   "source": [
    "Counter(string)"
   ]
  },
  {
   "cell_type": "code",
   "execution_count": null,
   "id": "12233ce6",
   "metadata": {},
   "outputs": [],
   "source": [
    "counter_letras = Counter(string)\n",
    "\n",
    "counter_letras"
   ]
  },
  {
   "cell_type": "code",
   "execution_count": null,
   "id": "eb9ca39a",
   "metadata": {},
   "outputs": [],
   "source": [
    "counter_letras[\"h\"]"
   ]
  },
  {
   "cell_type": "code",
   "execution_count": null,
   "id": "88a915f0",
   "metadata": {},
   "outputs": [],
   "source": [
    "lista = [1, 1, 1, 1, 1, 1, 1, 2, 2, 2, 2, 2, 2, 2, 2, 3, 3, 3, 3, 3, 3, 3, 3, 3, 4, 4, 4, 4, 4, 4, 4, 4, 4]\n",
    "\n",
    "counter_numeros = Counter(lista)\n",
    "\n",
    "counter_numeros"
   ]
  }
 ],
 "metadata": {
  "kernelspec": {
   "display_name": "Python 3",
   "language": "python",
   "name": "python3"
  },
  "language_info": {
   "codemirror_mode": {
    "name": "ipython",
    "version": 3
   },
   "file_extension": ".py",
   "mimetype": "text/x-python",
   "name": "python",
   "nbconvert_exporter": "python",
   "pygments_lexer": "ipython3",
   "version": "3.12.8"
  }
 },
 "nbformat": 4,
 "nbformat_minor": 5
}
