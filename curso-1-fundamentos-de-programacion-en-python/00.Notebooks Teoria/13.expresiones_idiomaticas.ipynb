{
 "cells": [
  {
   "cell_type": "markdown",
   "id": "8f77ec05",
   "metadata": {},
   "source": [
    "## Expresiones Idiomáticas\n",
    "\n",
    "### Operador Ternario \n",
    "\n",
    "Estos operadores evalúan si una expresión es verdadera o falsa, retornando un valor dependiendo del resultado.\n",
    "\n",
    "En pocas palabras, es un condicional **``if``** con la parte del **``else``** simplificado.\n",
    "\n",
    "**Sintaxis**:\n",
    "```python\n",
    "a if expresion else b\n",
    "```\n",
    "\n",
    "Este operador va a evaluar la expresión _**expresion**_ y determinar si es **``True``** o **``False``**, dependiendo del resultado de la expresión tomara el valor _**a**_ o el valor _**b**_. Si la expresión es **``True``** entonces toma el valor _**a**_, si la expresión es **``False``** toma el valor _**b**_.\n",
    "\n",
    "**El resultado de este operador se puede guardar en una variable.**\n",
    "\n",
    "**Ejemplo:**"
   ]
  },
  {
   "cell_type": "code",
   "execution_count": null,
   "id": "35576182",
   "metadata": {},
   "outputs": [],
   "source": [
    "valor_1 = 10\n",
    "valor_2 = 20\n",
    "\n",
    "# a if expresion else b\n",
    "\n",
    "\"Verdadero\" if (valor_2 > valor_1) else \"Falso\""
   ]
  },
  {
   "cell_type": "code",
   "execution_count": null,
   "id": "6ed5e642",
   "metadata": {},
   "outputs": [],
   "source": [
    "\"Verdadero\" if (valor_2 < valor_1) else \"Falso\""
   ]
  },
  {
   "cell_type": "code",
   "execution_count": null,
   "id": "f5357472",
   "metadata": {},
   "outputs": [],
   "source": [
    "string = \"Hola Mundo, esto es Python.\"\n",
    "\n",
    "1 if \"Python\" in string else 0"
   ]
  },
  {
   "cell_type": "code",
   "execution_count": null,
   "id": "ec30802e",
   "metadata": {},
   "outputs": [],
   "source": [
    "string = \"Hola Mundo, esto es python.\"\n",
    "\n",
    "1 if \"Python\" in string else 0"
   ]
  },
  {
   "cell_type": "markdown",
   "id": "9f6079f4",
   "metadata": {},
   "source": [
    "- Este tipo de expresiones es muy útil a la hora de escribir funciones `lambda`"
   ]
  },
  {
   "cell_type": "code",
   "execution_count": null,
   "id": "45cb8e7e",
   "metadata": {},
   "outputs": [],
   "source": [
    "etiquetar_edad = lambda edad: \"Mayor de edad\" if edad >= 18 else \"Menor de edad\"\n",
    "\n",
    "etiquetar_edad"
   ]
  },
  {
   "cell_type": "code",
   "execution_count": null,
   "id": "ff151223",
   "metadata": {},
   "outputs": [],
   "source": [
    "etiquetar_edad(15)"
   ]
  },
  {
   "cell_type": "code",
   "execution_count": null,
   "id": "70bcaa4e",
   "metadata": {},
   "outputs": [],
   "source": [
    "etiquetar_edad(51)"
   ]
  },
  {
   "cell_type": "markdown",
   "id": "560161ca",
   "metadata": {},
   "source": [
    "### Lists Comprehensions\n",
    "\n",
    "Se utiliza para **aplicar una función a cada elemento de una lista**. También se puede utilizar **para hacer un filtrado de los elementos de la lista a través de una función** dada.\n",
    "\n",
    "Se utiliza en combinación con el **operador ternario**.\n",
    "\n",
    "- **Sintaxis 1** (sin usar condicionales): **`[valor for elem in objeto_iterable]`**\n",
    "\n",
    "\n",
    "- **Sintaxis 2** (usando **`if`** y **`else`** en forma de operador ternario): **`[valor_1 if expresion else valor_2 for elem in objeto_iterable]`**\n",
    "\n",
    "\n",
    "- **Sintaxis 3** (usando solo **`if`**): **`[valor for elem in objeto_iterable if expresion]`**\n",
    "\n",
    "Esta lista **se puede asignar a una variable**.\n",
    "\n",
    "**Ejemplo:**"
   ]
  },
  {
   "cell_type": "markdown",
   "id": "3b89d2d8",
   "metadata": {},
   "source": [
    "### Sintaxis 1\n",
    "- Con esta sintaxis podemos crear listas.\n",
    "- No se usan condicionales."
   ]
  },
  {
   "cell_type": "code",
   "execution_count": null,
   "id": "71bdcf53",
   "metadata": {},
   "outputs": [],
   "source": [
    "# Vamos a iterar sobre range(10)\n",
    "\n",
    "[i for i in range(10)]\n",
    "\n",
    "# En este ejemplo no hacemos ninguna operación, solo hacemos una lista con los elementos de range(10)\n",
    "# Este resultado es lo mismo que hacer list(range(10))"
   ]
  },
  {
   "cell_type": "code",
   "execution_count": null,
   "id": "7f410984",
   "metadata": {},
   "outputs": [],
   "source": [
    "lista_vacia = []\n",
    "\n",
    "for i in range(10):\n",
    "    lista_vacia.append(i)\n",
    "    \n",
    "lista_vacia"
   ]
  },
  {
   "cell_type": "code",
   "execution_count": null,
   "id": "77206f27",
   "metadata": {},
   "outputs": [],
   "source": [
    "# Podemos hacer operaciones a los elementos que queremos en la lista\n",
    "\n",
    "[i**2 for i in range(10)]"
   ]
  },
  {
   "cell_type": "code",
   "execution_count": null,
   "id": "997aacf1",
   "metadata": {},
   "outputs": [],
   "source": [
    "# Podemos hacer cualquier operación que queramos\n",
    "\n",
    "[str(i/10) for i in range(10)]"
   ]
  },
  {
   "cell_type": "code",
   "execution_count": null,
   "id": "d76c8042",
   "metadata": {},
   "outputs": [],
   "source": [
    "# También podemos iterar sobre cadenas de caracteres\n",
    "\n",
    "string = \"PYTHON!\"\n",
    "\n",
    "[s for s in string]"
   ]
  },
  {
   "cell_type": "code",
   "execution_count": null,
   "id": "72597471",
   "metadata": {},
   "outputs": [],
   "source": [
    "string = \"PYTHON!\"\n",
    "\n",
    "[s.isalpha() for s in string]\n",
    "\n",
    "# .isalpha() retorna True si la cadena es una letra, si no lo es retorna False"
   ]
  },
  {
   "cell_type": "code",
   "execution_count": null,
   "id": "b7031798",
   "metadata": {},
   "outputs": [],
   "source": [
    "from random import randint\n",
    "\n",
    "[randint(1, 100) for i in range(10)]"
   ]
  },
  {
   "cell_type": "markdown",
   "id": "e0c03b07",
   "metadata": {},
   "source": [
    "### Sintaxis 2\n",
    "- Con esta sintaxis podemos crear listas.\n",
    "- Podemos modificar elementos de una lista.\n",
    "- Necesitamos usar condicionales **`if`**, **`else`** (en forma de operador ternario).\n",
    "- **La condición va al comienzo de la lista.**"
   ]
  },
  {
   "cell_type": "code",
   "execution_count": null,
   "id": "e2d12cb1",
   "metadata": {},
   "outputs": [],
   "source": [
    "# Vamos a iterar sobre range(10)\n",
    "# Vamos a cambiar los números menores a 4 a -1 y los mayores a 4 a 1\n",
    "\n",
    "[1 if i > 4 else -1 for i in range(10)]"
   ]
  },
  {
   "cell_type": "code",
   "execution_count": null,
   "id": "8b35d570",
   "metadata": {},
   "outputs": [],
   "source": [
    "# Aquí vamos a dividir entre 10 a los números menores a 4\n",
    "# Si el número es mayor a 4 lo elevamos al cuadrado\n",
    "\n",
    "[i**2 if i > 4 else i/10 for i in range(10)]"
   ]
  },
  {
   "cell_type": "code",
   "execution_count": null,
   "id": "9470f593",
   "metadata": {},
   "outputs": [],
   "source": [
    "[randint(1, 100) if i % 2 == 0 else i for i in range(10)]"
   ]
  },
  {
   "cell_type": "code",
   "execution_count": null,
   "id": "d9ec2fb3",
   "metadata": {},
   "outputs": [],
   "source": [
    "string = \"Hola! esto es una cadena en python!\"\n",
    "\n",
    "string = string.split()\n",
    "\n",
    "string"
   ]
  },
  {
   "cell_type": "code",
   "execution_count": null,
   "id": "700095cc",
   "metadata": {},
   "outputs": [],
   "source": [
    "[cadena.upper() if len(cadena) % 2 == 0 else cadena for cadena in string]"
   ]
  },
  {
   "cell_type": "code",
   "execution_count": null,
   "id": "3a5fc1f5",
   "metadata": {},
   "outputs": [],
   "source": [
    "lista_vacia = []\n",
    "\n",
    "for cadena in string:\n",
    "    \n",
    "    if len(cadena) % 2 == 0:\n",
    "        lista_vacia.append(cadena.upper())\n",
    "        \n",
    "    else:\n",
    "        lista_vacia.append(cadena)\n",
    "        \n",
    "lista_vacia"
   ]
  },
  {
   "cell_type": "markdown",
   "id": "b9b0fea5",
   "metadata": {},
   "source": [
    "### Sintaxis 3\n",
    "- Con esta sintaxis podemos crear listas.\n",
    "- Podemos modificar elementos de una lista y acortar la lista.\n",
    "- Solo usamos el condicional **`if`**.\n",
    "- **La condición va al final de la lista, no al comienzo.**"
   ]
  },
  {
   "cell_type": "code",
   "execution_count": null,
   "id": "ff0b8fac",
   "metadata": {},
   "outputs": [],
   "source": [
    "# Aquí vamos a iterar sobre range(50, 70)\n",
    "# La condición va a \"filtrar\" los elementos de la lista\n",
    "\n",
    "[i for i in range(50, 70) if i % 2 == 0]"
   ]
  },
  {
   "cell_type": "code",
   "execution_count": null,
   "id": "0398f744",
   "metadata": {},
   "outputs": [],
   "source": [
    "# Aquí está la misma condición pero con if-else (sintaxis 2)\n",
    "# La lista es más larga porque no elimina los elementos que no cumplan la condición, solo los transforma\n",
    "\n",
    "[i if i % 2 == 0 else 0 for i in range(50, 70)]"
   ]
  },
  {
   "cell_type": "code",
   "execution_count": null,
   "id": "29fc7f3d",
   "metadata": {},
   "outputs": [],
   "source": [
    "lista_1 = [randint(5, 15)**2 for i in range(5, 15)] # Sintaxis 1\n",
    "\n",
    "lista_1"
   ]
  },
  {
   "cell_type": "code",
   "execution_count": null,
   "id": "2f95473e",
   "metadata": {},
   "outputs": [],
   "source": [
    "lista_2 = [num for num in lista_1 if len(str(num)) == 2] # Sintaxis 3\n",
    "\n",
    "lista_2\n",
    "\n",
    "# Ahora la lista es más corta"
   ]
  },
  {
   "cell_type": "markdown",
   "id": "f8b8ad41",
   "metadata": {},
   "source": [
    "### Generator expressions (generadores)\n",
    "\n",
    "Los generadores son tuplas creadas con la misma lógica de los **`list comprehensions`**. \n",
    "- Comparten la misma sintaxis que los **`lists compehensions`**, la única diferencia es que usan **`( )`** en lugar de **`[ ]`**\n",
    "- Ocupan **menos memoria** que una lista.\n",
    "- Luego de iterar sobre ellas, **el generador se vacia**.\n",
    "- Este generador **se puede asignar a una variable**, aunque es poco común hacer esto. (La variable se vacía al final de iterar sobre ella)."
   ]
  },
  {
   "cell_type": "code",
   "execution_count": null,
   "id": "65988e90",
   "metadata": {},
   "outputs": [],
   "source": [
    "(i**2 for i in range(10))"
   ]
  },
  {
   "cell_type": "code",
   "execution_count": null,
   "id": "b7bc0dd4",
   "metadata": {},
   "outputs": [],
   "source": [
    "generador = (i**2 for i in range(10))\n",
    "\n",
    "generador"
   ]
  },
  {
   "cell_type": "code",
   "execution_count": null,
   "id": "93b00db7",
   "metadata": {},
   "outputs": [],
   "source": [
    "# Vamos a recorrer el generador\n",
    "\n",
    "for i in generador:\n",
    "    print(i)"
   ]
  },
  {
   "cell_type": "code",
   "execution_count": null,
   "id": "7b8d5d28",
   "metadata": {},
   "outputs": [],
   "source": [
    "# Ya una vez ejecutado el bucle anterior, el generador se vacia\n",
    "# Por lo que si intentamos iterar sobre él, estaríamos iterando sobre un elemento vacio\n",
    "\n",
    "for i in generador:\n",
    "    print(i)\n",
    "    \n",
    "print(\"Ha terminado el bucle.\")"
   ]
  },
  {
   "cell_type": "markdown",
   "id": "640313c1",
   "metadata": {},
   "source": [
    "### Sets Comprehensions\n",
    "\n",
    "Otra forma de crear sets, utiliza la misma lógica que las **`lists comprehensions`**.\n",
    "\n",
    "- Por ser un set, utiliza las **`{ }`**.\n",
    "- No permite elementos repetidos y no está ordenado.\n",
    "- El resultado se puede asignar a una variable."
   ]
  },
  {
   "cell_type": "code",
   "execution_count": null,
   "id": "3aa3ae2a",
   "metadata": {},
   "outputs": [],
   "source": [
    "# Vamos a iterar sobre range(20)\n",
    "\n",
    "{randint(1, 5) for i in range(100)}"
   ]
  },
  {
   "cell_type": "code",
   "execution_count": null,
   "id": "2a2f96d8",
   "metadata": {},
   "outputs": [],
   "source": [
    "string = \"HOla mundo\"\n",
    "\n",
    "\n",
    "{s.lower() for s in string}"
   ]
  },
  {
   "cell_type": "markdown",
   "id": "faa81ff1",
   "metadata": {},
   "source": [
    "### Dictionaries Comprehensions\n",
    "\n",
    "Como dice su nombre, es una forma de crear diccionarios usando un elemento iterable y el operador ternario.\n",
    "\n",
    "- Al igual que el punto anterior, comparte la misma sintaxis que los **`lists comprehensions`**.\n",
    "- La diferencia es que ahora usan **`{ }`** y **`:`** y necesita una llave y un valor por cada elemento.\n",
    "- El resultado se puede asignar a una variable."
   ]
  },
  {
   "cell_type": "code",
   "execution_count": null,
   "id": "811022ed",
   "metadata": {},
   "outputs": [],
   "source": [
    "# Vamos a iterar sobre range(10)\n",
    "\n",
    "{i : i**2 for i in range(10)}\n",
    "\n",
    "# Como es un diccionario es obligatorio tener llave : valor"
   ]
  },
  {
   "cell_type": "code",
   "execution_count": null,
   "id": "f8addcd1",
   "metadata": {
    "scrolled": true
   },
   "outputs": [],
   "source": [
    "string = \"Comprehensions\"\n",
    "\n",
    "{num : s for num, s in enumerate(string)}"
   ]
  },
  {
   "cell_type": "code",
   "execution_count": null,
   "id": "c2ba4344",
   "metadata": {},
   "outputs": [],
   "source": [
    "string = \"Comprehensions\"\n",
    "\n",
    "{s : num for num, s in enumerate(string)}\n",
    "\n",
    "# Por ser un diccionario, no permite llaves repetidas, por lo que se queda con el último valor para cada llave"
   ]
  },
  {
   "cell_type": "code",
   "execution_count": null,
   "id": "a582ffca",
   "metadata": {},
   "outputs": [],
   "source": [
    "nombres = [\"Daniel\", \"Clara\", \"Jesus\", \"Antonio\", \"Miguel\", \"Ana\"]\n",
    "edades = [randint(20, 30) for i in nombres] \n",
    "\n",
    "print(nombres)\n",
    "print(edades)"
   ]
  },
  {
   "cell_type": "code",
   "execution_count": null,
   "id": "ce01551a",
   "metadata": {},
   "outputs": [],
   "source": [
    "# Con estas 2 listas vamos a crear un diccionario\n",
    "\n",
    "{nombre : edad for nombre, edad in zip(nombres, edades)}"
   ]
  },
  {
   "cell_type": "markdown",
   "id": "1f88cd39",
   "metadata": {},
   "source": [
    "### Any & All\n",
    "\n",
    "**`any`** y **`all`** son funciones especiales que recorren una lista comparando **`True`** y **`False`**.\n",
    "\n",
    "- La función **`any`** toma una secuencia de valores booleanos y devuelve **`True`** si **ALGUNO** de los valores de la secuencia es **`True`** de lo contrario devuelve **`False`**.\n",
    "\n",
    "\n",
    "- La función **`all`** toma una secuencia de valores booleanos y devuelve **`True`** si **TODOS** los valores de la secuencia son **`True`**, de los contrario devuelve **`False`**."
   ]
  },
  {
   "cell_type": "code",
   "execution_count": null,
   "id": "22a9feec",
   "metadata": {},
   "outputs": [],
   "source": [
    "lista_1 = [True, False, False]\n",
    "\n",
    "lista_1"
   ]
  },
  {
   "cell_type": "code",
   "execution_count": null,
   "id": "086d3860",
   "metadata": {},
   "outputs": [],
   "source": [
    "any(lista_1)"
   ]
  },
  {
   "cell_type": "code",
   "execution_count": null,
   "id": "91a91765",
   "metadata": {},
   "outputs": [],
   "source": [
    "all(lista_1)"
   ]
  },
  {
   "cell_type": "code",
   "execution_count": null,
   "id": "f15da825",
   "metadata": {},
   "outputs": [],
   "source": [
    "lista_2 = [True, True, True]\n",
    "\n",
    "lista_2"
   ]
  },
  {
   "cell_type": "code",
   "execution_count": null,
   "id": "5059e708",
   "metadata": {},
   "outputs": [],
   "source": [
    "any(lista_2)"
   ]
  },
  {
   "cell_type": "code",
   "execution_count": null,
   "id": "be5147f1",
   "metadata": {},
   "outputs": [],
   "source": [
    "all(lista_2)"
   ]
  }
 ],
 "metadata": {
  "kernelspec": {
   "display_name": "Python 3",
   "language": "python",
   "name": "python3"
  },
  "language_info": {
   "codemirror_mode": {
    "name": "ipython",
    "version": 3
   },
   "file_extension": ".py",
   "mimetype": "text/x-python",
   "name": "python",
   "nbconvert_exporter": "python",
   "pygments_lexer": "ipython3",
   "version": "3.12.8"
  }
 },
 "nbformat": 4,
 "nbformat_minor": 5
}
