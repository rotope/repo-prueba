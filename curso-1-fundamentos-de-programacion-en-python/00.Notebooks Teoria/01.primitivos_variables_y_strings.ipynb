{
 "cells": [
  {
   "cell_type": "markdown",
   "metadata": {},
   "source": [
    "## Números (`int` & `float`)\n",
    "\n",
    "En python podemos representar números usando tres tipos de datos diferentes: **`int` & `float`**.\n",
    "- **`int`:** se usa para representar números enteros, pueden ser positivos, negativos y el cero.\n",
    "    - En python, se representa usando **`int()` (integer o entero)**.\n",
    "    \n",
    "    \n",
    "- **`float`:** se usa para repersentar los números con coma decimal, estos pueden ser positivos, negativos y el cero.\n",
    "    - En python, se representan usando **`float()` (floating point o punto flotante)**.\n",
    "    \n",
    "\n",
    "Podemos verificar el tipo de dato de un número usando la función **`type()`**."
   ]
  },
  {
   "cell_type": "code",
   "execution_count": null,
   "metadata": {},
   "outputs": [],
   "source": [
    "10"
   ]
  },
  {
   "cell_type": "code",
   "execution_count": null,
   "metadata": {},
   "outputs": [],
   "source": [
    "type(10)"
   ]
  },
  {
   "cell_type": "code",
   "execution_count": null,
   "metadata": {},
   "outputs": [],
   "source": [
    "3.14"
   ]
  },
  {
   "cell_type": "code",
   "execution_count": null,
   "metadata": {},
   "outputs": [],
   "source": [
    "type(3.14)"
   ]
  },
  {
   "cell_type": "code",
   "execution_count": null,
   "metadata": {},
   "outputs": [],
   "source": [
    "712000.0"
   ]
  },
  {
   "cell_type": "code",
   "execution_count": null,
   "metadata": {},
   "outputs": [],
   "source": [
    "7.12e5 # Notación científica"
   ]
  },
  {
   "cell_type": "code",
   "execution_count": null,
   "metadata": {},
   "outputs": [],
   "source": [
    "6.62607015e-34 # Un valor muy, muy cercano a 0"
   ]
  },
  {
   "cell_type": "code",
   "execution_count": null,
   "metadata": {},
   "outputs": [],
   "source": [
    "# Podemos usar la función bin() para ver la representación binaria de un número entero\n",
    "bin(10)"
   ]
  },
  {
   "cell_type": "code",
   "execution_count": null,
   "metadata": {},
   "outputs": [],
   "source": [
    "# Si bien los float también tienen representación binaria (IEEE 754), bin() nos arroja un error\n",
    "\n",
    "bin(3.14)"
   ]
  },
  {
   "cell_type": "code",
   "execution_count": null,
   "metadata": {},
   "outputs": [],
   "source": [
    "# También podemos escribir los números directamente en binario\n",
    "\n",
    "0b1010"
   ]
  },
  {
   "cell_type": "code",
   "execution_count": null,
   "metadata": {},
   "outputs": [],
   "source": [
    "type(0b1010)"
   ]
  },
  {
   "cell_type": "code",
   "execution_count": null,
   "metadata": {},
   "outputs": [],
   "source": [
    "# ¡Incluso en hexadecimal!\n",
    "\n",
    "0xFF"
   ]
  },
  {
   "cell_type": "code",
   "execution_count": null,
   "metadata": {},
   "outputs": [],
   "source": [
    "type(0xFF)"
   ]
  },
  {
   "cell_type": "markdown",
   "metadata": {},
   "source": [
    "## Operadores Aritméticos\n",
    "\n",
    "Son operaciones aritmeticas que se pueden utilizar con diferentes tipos de datos en python:\n",
    "\n",
    "| Operador | Operación      | Ejemplo |\n",
    "|----------|----------------|---------|\n",
    "| **``+``**    | Suma           | ``x + y``   |\n",
    "| **``-``**    | Resta          | ``x - y``   |\n",
    "| **``\\``**   | Multiplicación | ``x * y``   |\n",
    "| **``/``**    | División       | ``x / y``   |\n",
    "| **``%``**    | Modulo         | ``x % y``   |\n",
    "| **``**``** | Exponente      | ``x ** y``  |\n",
    "| **``//``**   | División Entera| ``x // y``  |"
   ]
  },
  {
   "cell_type": "code",
   "execution_count": null,
   "metadata": {},
   "outputs": [],
   "source": [
    "# Suma\n",
    "10 + 1"
   ]
  },
  {
   "cell_type": "code",
   "execution_count": null,
   "metadata": {},
   "outputs": [],
   "source": [
    "type(10 + 1)"
   ]
  },
  {
   "cell_type": "code",
   "execution_count": null,
   "metadata": {},
   "outputs": [],
   "source": [
    "# Resta\n",
    "3.3 - 1.4"
   ]
  },
  {
   "cell_type": "code",
   "execution_count": null,
   "metadata": {},
   "outputs": [],
   "source": [
    "type(3.3 - 1.4)"
   ]
  },
  {
   "cell_type": "code",
   "execution_count": null,
   "metadata": {},
   "outputs": [],
   "source": [
    "type(2 + 1.5)"
   ]
  },
  {
   "cell_type": "code",
   "execution_count": null,
   "metadata": {},
   "outputs": [],
   "source": [
    "# División\n",
    "2/3"
   ]
  },
  {
   "cell_type": "code",
   "execution_count": null,
   "metadata": {},
   "outputs": [],
   "source": [
    "# Multiplicación\n",
    "5*10"
   ]
  },
  {
   "cell_type": "code",
   "execution_count": null,
   "metadata": {},
   "outputs": [],
   "source": [
    "# Modulo (el resto de dividir x en y partes)\n",
    "6 % 4"
   ]
  },
  {
   "cell_type": "code",
   "execution_count": null,
   "metadata": {},
   "outputs": [],
   "source": [
    "4 % 3"
   ]
  },
  {
   "cell_type": "code",
   "execution_count": null,
   "metadata": {},
   "outputs": [],
   "source": [
    "# Exponente\n",
    "10**2"
   ]
  },
  {
   "cell_type": "code",
   "execution_count": null,
   "metadata": {},
   "outputs": [],
   "source": [
    "# División Entera (retorna la parte entera de la división)\n",
    "10//3"
   ]
  },
  {
   "cell_type": "code",
   "execution_count": null,
   "metadata": {},
   "outputs": [],
   "source": [
    "10/3"
   ]
  },
  {
   "cell_type": "markdown",
   "metadata": {},
   "source": [
    "## Booleans (``True`` & ``False``)\n",
    "\n",
    "Los **Boolans** representan uno de estos dos valores: **``True``** o **``False``**.\n",
    "\n",
    "En programación existen situaciones donde es necesario saber si una expresión es verdadera (**``True``**) o falsa (**``False``**).\n",
    "\n",
    "En python se pueden evaluar o comparar expresiones y obtener uno de los dos resultados, verdadero o falso.\n",
    "\n",
    "En python, **``True``** es considerado ``1`` y **``False``** es considerado ``0``.\n",
    "\n",
    "Este tipo de dato se representa con la función _**``bool()``**_."
   ]
  },
  {
   "cell_type": "code",
   "execution_count": null,
   "metadata": {},
   "outputs": [],
   "source": [
    "True"
   ]
  },
  {
   "cell_type": "code",
   "execution_count": null,
   "metadata": {},
   "outputs": [],
   "source": [
    "False"
   ]
  },
  {
   "cell_type": "code",
   "execution_count": null,
   "metadata": {},
   "outputs": [],
   "source": [
    "True + False"
   ]
  },
  {
   "cell_type": "code",
   "execution_count": null,
   "metadata": {},
   "outputs": [],
   "source": [
    "False - True"
   ]
  },
  {
   "cell_type": "markdown",
   "metadata": {},
   "source": [
    "## Operadores de Comparación\n",
    "\n",
    "Como dice su nombre, se utiliza para comparar elementos, su resultado siempre es **``True``** o **``False``**.\n",
    "\n",
    "| Operador     | Operación     | Ejemplo |\n",
    "|--------------|---------------|---------|\n",
    "| **``==``**       | Igual         | ``x == y``  |\n",
    "| **``!=``**       | Diferente     | ``x != y``  |\n",
    "| **``>``**        | Mayor que     | ``x > y``   |\n",
    "| **``<``**        | Menor que     | ``x < y``   |\n",
    "| **``>=``**       | Mayor o igual | ``x >= y``  |\n",
    "| **``<=``**       | Menor o igual | ``x <= y``  |"
   ]
  },
  {
   "cell_type": "code",
   "execution_count": null,
   "metadata": {},
   "outputs": [],
   "source": [
    "1 == 1"
   ]
  },
  {
   "cell_type": "code",
   "execution_count": null,
   "metadata": {},
   "outputs": [],
   "source": [
    "1 != 1"
   ]
  },
  {
   "cell_type": "code",
   "execution_count": null,
   "metadata": {},
   "outputs": [],
   "source": [
    "3 == 4"
   ]
  },
  {
   "cell_type": "code",
   "execution_count": null,
   "metadata": {},
   "outputs": [],
   "source": [
    "4 > 0"
   ]
  },
  {
   "cell_type": "code",
   "execution_count": null,
   "metadata": {},
   "outputs": [],
   "source": [
    "3.1 < 10"
   ]
  },
  {
   "cell_type": "markdown",
   "metadata": {},
   "source": [
    "## Operadores Lógicos\n",
    "\n",
    "Se utilizan en conjunto con los operadores de comparación, su función es unir diferentes declaraciones:\n",
    "\n",
    "| Operador          | Descripción                                                                                                   | Ejemplo                     |\n",
    "|-------------------|---------------------------------------------------------------------------------------------------------------|-----------------------------|\n",
    "| **``and``** o **``&``** | Retorna **``True``** si todas las declaraciones son **``True``**, si no, retorna **``False``**.                            | **``x > 5 and x < 10``**        |\n",
    "| **``or``** o **``\\|``** | Retorna **``True``** si al menos una de las declaraciones son **``True``**, retorna **``False``** si todas son **``False``**. | **``x > 5 or x < 10``**         |\n",
    "| **``not``** o **``~``** | Invierte el resultado de la operación.                                                                        | **``not(x > 5 or x < 10)``**|"
   ]
  },
  {
   "cell_type": "code",
   "execution_count": null,
   "metadata": {},
   "outputs": [],
   "source": [
    "200 > 100"
   ]
  },
  {
   "cell_type": "code",
   "execution_count": null,
   "metadata": {},
   "outputs": [],
   "source": [
    "200 < 300"
   ]
  },
  {
   "cell_type": "code",
   "execution_count": null,
   "metadata": {},
   "outputs": [],
   "source": [
    "200 > 100 and 200 < 300"
   ]
  },
  {
   "cell_type": "code",
   "execution_count": null,
   "metadata": {},
   "outputs": [],
   "source": [
    "300 > 100 or 300 > 400"
   ]
  },
  {
   "cell_type": "code",
   "execution_count": null,
   "metadata": {},
   "outputs": [],
   "source": [
    "not (200 > 100)"
   ]
  },
  {
   "cell_type": "code",
   "execution_count": null,
   "metadata": {},
   "outputs": [],
   "source": [
    "bin(10)"
   ]
  },
  {
   "cell_type": "code",
   "execution_count": null,
   "metadata": {},
   "outputs": [],
   "source": [
    "bin(13)"
   ]
  },
  {
   "cell_type": "code",
   "execution_count": null,
   "metadata": {},
   "outputs": [],
   "source": [
    "10 & 13"
   ]
  },
  {
   "cell_type": "code",
   "execution_count": null,
   "metadata": {},
   "outputs": [],
   "source": [
    "bin(10 & 13)"
   ]
  },
  {
   "cell_type": "code",
   "execution_count": null,
   "metadata": {},
   "outputs": [],
   "source": [
    "10 | 13"
   ]
  },
  {
   "cell_type": "code",
   "execution_count": null,
   "metadata": {},
   "outputs": [],
   "source": [
    "bin(10 | 13)"
   ]
  },
  {
   "cell_type": "code",
   "execution_count": null,
   "metadata": {},
   "outputs": [],
   "source": [
    "# La operación bitwise not no se comporta como esperamos, ya que python utiliza un sistema avanzado de representación binaria\n",
    "# de dos complementos. Esto ayuda a representar mejor los integers negativos.\n",
    "\n",
    "~10"
   ]
  },
  {
   "cell_type": "code",
   "execution_count": null,
   "metadata": {},
   "outputs": [],
   "source": [
    "# Pero podremos utilizar este operador con otro tipo de datos en el futuro :)\n",
    "\n",
    "# import numpy as np\n",
    "\n",
    "# ~np.array([True,False,True,False])"
   ]
  },
  {
   "cell_type": "markdown",
   "metadata": {},
   "source": [
    "## Variables\n",
    "\n",
    "En python podemos inicializar variables con cualquier tipo de dato que queramos utilizando el operador **`=`**.\n",
    "\n",
    "- Al nombrar una variable podemos utilizar letras minúsculas (a-z), letras mayúsculas (A-Z), números (0-9) y underscore (_).\n",
    "\n",
    "\n",
    "- Los nombres de las variables NO pueden empezar por un número.\n",
    "\n",
    "\n",
    "- Aunque es posible, es considerado como mala práctica utilizar palabras reservadas para nombrar variables.\n",
    "\n",
    "\n",
    "- Las variables no pueden solo contener digitos.\n",
    "\n",
    "\n",
    "- Las variables son \"case sensitive\", es decir, diferencian entre mayúsculas y minúsculas."
   ]
  },
  {
   "cell_type": "code",
   "execution_count": null,
   "metadata": {},
   "outputs": [],
   "source": [
    "# Cuando inicializamos una variable el valor no se muestra en pantalla\n",
    "\n",
    "a = 10"
   ]
  },
  {
   "cell_type": "code",
   "execution_count": null,
   "metadata": {},
   "outputs": [],
   "source": [
    "# Para poder ver el valor de una variable podemos usar la función print()\n",
    "\n",
    "print(a)"
   ]
  },
  {
   "cell_type": "markdown",
   "metadata": {},
   "source": [
    "Podemos asignarle a una variable el resultado de una operación:"
   ]
  },
  {
   "cell_type": "code",
   "execution_count": null,
   "metadata": {},
   "outputs": [],
   "source": [
    "a = 10 + 1\n",
    "\n",
    "a"
   ]
  },
  {
   "cell_type": "markdown",
   "metadata": {},
   "source": [
    "Y podemos verificar que tipo de dato es una variable:"
   ]
  },
  {
   "cell_type": "code",
   "execution_count": null,
   "metadata": {},
   "outputs": [],
   "source": [
    "type(a)"
   ]
  },
  {
   "cell_type": "code",
   "execution_count": null,
   "metadata": {},
   "outputs": [],
   "source": [
    "b = 3.14\n",
    "\n",
    "type(b)"
   ]
  },
  {
   "cell_type": "code",
   "execution_count": null,
   "metadata": {},
   "outputs": [],
   "source": [
    "entero = 10\n",
    "decimal = 9.9\n",
    "\n",
    "suma = entero + decimal\n",
    "\n",
    "suma"
   ]
  },
  {
   "cell_type": "code",
   "execution_count": null,
   "metadata": {},
   "outputs": [],
   "source": [
    "type(suma)"
   ]
  },
  {
   "cell_type": "code",
   "execution_count": null,
   "metadata": {},
   "outputs": [],
   "source": [
    "modulo = 7 % 4\n",
    "\n",
    "modulo"
   ]
  },
  {
   "cell_type": "code",
   "execution_count": null,
   "metadata": {},
   "outputs": [],
   "source": [
    "a = 3\n",
    "b = 0b0100\n",
    "\n",
    "a == b"
   ]
  },
  {
   "cell_type": "code",
   "execution_count": null,
   "metadata": {},
   "outputs": [],
   "source": [
    "b"
   ]
  },
  {
   "cell_type": "code",
   "execution_count": null,
   "metadata": {},
   "outputs": [],
   "source": [
    "b >= a"
   ]
  },
  {
   "cell_type": "markdown",
   "metadata": {},
   "source": [
    "## Strings (``str``)\n",
    "\n",
    "Las **cadenas de caractéres** o **strings** es un tipo de dato compuesto por secuencias de caracteres que representan texto.\n",
    "\n",
    "Estas cadenas de caracteres se pueden **inicializar** utilizando comillas simples **`'`** o comillas dobles **`\"`**.\n",
    "\n",
    "En python las **cadenas de caractéres** se representan con la función **`str()`** y tienen una gran variedad de **built-in methods** que nos facilitan mucho el trabajo al momento de manipularlas. \n",
    "\n",
    "En general, si queremos **\"imprimir por pantalla\"** un string, debemos utilizar la función **`print()`**."
   ]
  },
  {
   "cell_type": "code",
   "execution_count": null,
   "metadata": {},
   "outputs": [],
   "source": [
    "\"Hola mundo!\""
   ]
  },
  {
   "cell_type": "code",
   "execution_count": null,
   "metadata": {},
   "outputs": [],
   "source": [
    "'Hola mundo!'"
   ]
  },
  {
   "cell_type": "code",
   "execution_count": null,
   "metadata": {},
   "outputs": [],
   "source": [
    "print(\"Hola mundo!\")"
   ]
  },
  {
   "cell_type": "markdown",
   "metadata": {},
   "source": [
    "### Operaciones con Strings"
   ]
  },
  {
   "cell_type": "code",
   "execution_count": null,
   "metadata": {},
   "outputs": [],
   "source": [
    "# Suma (concatenación de strings)\n",
    "\n",
    "\"Hola Mundo\" + \"Estamos usando Python\""
   ]
  },
  {
   "cell_type": "code",
   "execution_count": null,
   "metadata": {},
   "outputs": [],
   "source": [
    "# Multiplicación\n",
    "\n",
    "\"Python\"*10"
   ]
  },
  {
   "cell_type": "markdown",
   "metadata": {},
   "source": [
    "### Built-in Methods\n",
    "\n",
    "Las cadenas de caractéres tienen una gran variedad de métodos, estos son algunos de los más utilizados:\n",
    "\n",
    "|                   |                     |\n",
    "|-------------------|---------------------|\n",
    "| **``.capitalize()``** | **``.isalnum()``**      |\n",
    "| **``.title()``**      | **``.isalpha()``**      |\n",
    "| **``.casefold()``**   | **``.isascii()``**      | \n",
    "| **``.center()``**     | **``.isdecimal()``**    |\n",
    "| **``.count()``**      | **``.isdigit()``**      |\n",
    "| **``.split()``**      | **``.isidentifier()``** |\n",
    "| **``.startswith()``** | **``.islower()``**      |\n",
    "| **``.endswith()``**   | **``.isnumeric()``**    |\n",
    "| **``.find()``**       | **``.isspace()``**      |\n",
    "| **``.index()``**      | **``.istitle()``**      |\n",
    "| **``.format()``**     | **``.isupper()``**      |\n",
    "| **``.upper()``**      | **``.lower()``**        |\n",
    "| **``.replace()``**    | **``.swapcase()``**     |\n",
    "| **``.strip()``**      | **``.join()``**         |\n",
    "\n",
    "\n",
    "<div style=\"text-align: right\"><strong>Ninguno de estos métodos modifica el string original.</strong> </div>"
   ]
  },
  {
   "cell_type": "code",
   "execution_count": null,
   "metadata": {},
   "outputs": [],
   "source": [
    "string = \"Hola Mundo, esto es una cadena en PYTHON!\"\n",
    "\n",
    "string"
   ]
  },
  {
   "cell_type": "code",
   "execution_count": null,
   "metadata": {},
   "outputs": [],
   "source": [
    "string.capitalize()"
   ]
  },
  {
   "cell_type": "code",
   "execution_count": null,
   "metadata": {},
   "outputs": [],
   "source": [
    "string.title()"
   ]
  },
  {
   "cell_type": "code",
   "execution_count": null,
   "metadata": {},
   "outputs": [],
   "source": [
    "string.lower()"
   ]
  },
  {
   "cell_type": "code",
   "execution_count": null,
   "metadata": {},
   "outputs": [],
   "source": [
    "string.upper()"
   ]
  },
  {
   "cell_type": "code",
   "execution_count": null,
   "metadata": {},
   "outputs": [],
   "source": [
    "string.swapcase()"
   ]
  },
  {
   "cell_type": "code",
   "execution_count": null,
   "metadata": {},
   "outputs": [],
   "source": [
    "string.replace(\"Mundo\", \"planeta\")\n",
    "\n",
    "# No modifica el string original"
   ]
  },
  {
   "cell_type": "code",
   "execution_count": null,
   "metadata": {},
   "outputs": [],
   "source": [
    "# La variable string sigue siendo la misma, no se ha modificado\n",
    "\n",
    "string"
   ]
  },
  {
   "cell_type": "code",
   "execution_count": null,
   "metadata": {},
   "outputs": [],
   "source": [
    "string.find(\"PYTHON\")"
   ]
  },
  {
   "cell_type": "code",
   "execution_count": null,
   "metadata": {},
   "outputs": [],
   "source": [
    "string.index(\"PYTHON\")"
   ]
  },
  {
   "cell_type": "code",
   "execution_count": null,
   "metadata": {},
   "outputs": [],
   "source": [
    "string.find(\"planeta\")"
   ]
  },
  {
   "cell_type": "code",
   "execution_count": null,
   "metadata": {},
   "outputs": [],
   "source": [
    "string.index(\"planeta\")"
   ]
  },
  {
   "cell_type": "code",
   "execution_count": null,
   "metadata": {},
   "outputs": [],
   "source": [
    "string.count(\"a\")"
   ]
  },
  {
   "cell_type": "code",
   "execution_count": null,
   "metadata": {},
   "outputs": [],
   "source": [
    "string.count(\"A\")"
   ]
  },
  {
   "cell_type": "code",
   "execution_count": null,
   "metadata": {},
   "outputs": [],
   "source": [
    "string"
   ]
  },
  {
   "cell_type": "code",
   "execution_count": null,
   "metadata": {},
   "outputs": [],
   "source": [
    "string.split()"
   ]
  },
  {
   "cell_type": "markdown",
   "metadata": {},
   "source": [
    "### Indexing & Slicing\n",
    "\n",
    "- **Indexing:** Es la forma de \"acceder\" o \"entrar\" a un solo elemento de un **objeto iterable** (strings, lists, dict...).\n",
    "    - Se utilizan los corchetes `[ ]` para hacer indexing.      \n",
    "    \n",
    "\n",
    "- **Slicing:** Es la forma de \"acceder\" o \"entrar\" a varios elementos de un **objeto iterable** (string, lists, dict...).\n",
    "    - Al igual que indexing se utilizan corchetes `[ ]` pero se le agregan el caracter `:`.\n",
    "        \n",
    "**En python el primer elemento de un objeto iterable tiene indice 0.**\n",
    "\n",
    "Para saber el tamaño de un objeto iterable podemos usar la función **`len()`**."
   ]
  },
  {
   "cell_type": "markdown",
   "metadata": {},
   "source": [
    "![slicing_indexing_1.jpg](<Imagenes Notebooks/slicing_indexing_1.jpg>)"
   ]
  },
  {
   "cell_type": "markdown",
   "metadata": {},
   "source": [
    "Si estamos haciendo slincing y el primer elemento es el comienzo del objeto podemos hacer\n",
    "<p style=\"text-align: center;\"> <strong>string[0:10]</strong> o <strong>string[:10]</strong> </p>\n",
    "\n",
    "\n",
    "Y si el ultimo elemento del slicing es el final del objeto podemos hacer:\n",
    "<p style=\"text-align: center;\"> <strong>string[10:20]</strong> o <strong>string[10:]</strong> </p>\n"
   ]
  },
  {
   "cell_type": "code",
   "execution_count": null,
   "metadata": {},
   "outputs": [],
   "source": [
    "string[0]"
   ]
  },
  {
   "cell_type": "code",
   "execution_count": null,
   "metadata": {},
   "outputs": [],
   "source": [
    "len(string)"
   ]
  },
  {
   "cell_type": "code",
   "execution_count": null,
   "metadata": {},
   "outputs": [],
   "source": [
    "# Si quisieramos el primer elemento de este string, usariamos [0]\n",
    "\n",
    "string[0]"
   ]
  },
  {
   "cell_type": "code",
   "execution_count": null,
   "metadata": {},
   "outputs": [],
   "source": [
    "# Si quisieramos el elemento numero 10 del string usamos [9]\n",
    "\n",
    "string[9]"
   ]
  },
  {
   "cell_type": "code",
   "execution_count": null,
   "metadata": {},
   "outputs": [],
   "source": [
    "# Para el último elemento del string podemos usar [40] o [-1]\n",
    "\n",
    "string[40]"
   ]
  },
  {
   "cell_type": "code",
   "execution_count": null,
   "metadata": {},
   "outputs": [],
   "source": [
    "string[-1]"
   ]
  },
  {
   "cell_type": "code",
   "execution_count": null,
   "metadata": {},
   "outputs": [],
   "source": [
    "# Si quisiera un elemento fuera de ese rango\n",
    "\n",
    "string[1000]"
   ]
  },
  {
   "cell_type": "markdown",
   "metadata": {},
   "source": [
    "En python, podemos hacer indexing de **izquierda a derecha**, comenzando en 0 y se suma 1 hasta el último indice que sería el tamaño del objeto menos 1.\n",
    "\n",
    "También se puede hacer indexing de **derecha a izquierda**, esta vez comenzando desde -1 y, en lugar de sumar 1, se resta 1.\n",
    "\n",
    "**Ejemplo:**"
   ]
  },
  {
   "cell_type": "code",
   "execution_count": null,
   "metadata": {},
   "outputs": [],
   "source": [
    "string = \"Hola Mundo, esto es una cadena en PYTHON!\"\n",
    "\n",
    "string[-1]"
   ]
  },
  {
   "cell_type": "code",
   "execution_count": null,
   "metadata": {},
   "outputs": [],
   "source": [
    "string[-2]"
   ]
  },
  {
   "cell_type": "code",
   "execution_count": null,
   "metadata": {},
   "outputs": [],
   "source": [
    "string[-3]"
   ]
  },
  {
   "cell_type": "code",
   "execution_count": null,
   "metadata": {},
   "outputs": [],
   "source": [
    "string[-4]"
   ]
  },
  {
   "cell_type": "code",
   "execution_count": null,
   "metadata": {},
   "outputs": [],
   "source": [
    "string[-5]"
   ]
  },
  {
   "cell_type": "code",
   "execution_count": null,
   "metadata": {},
   "outputs": [],
   "source": [
    "string[-10]"
   ]
  },
  {
   "cell_type": "code",
   "execution_count": null,
   "metadata": {},
   "outputs": [],
   "source": [
    "string"
   ]
  },
  {
   "cell_type": "code",
   "execution_count": null,
   "metadata": {},
   "outputs": [],
   "source": [
    "# Para hacer slicing usariamos [start:end]\n",
    "\n",
    "string[0:4]"
   ]
  },
  {
   "cell_type": "code",
   "execution_count": null,
   "metadata": {},
   "outputs": [],
   "source": [
    "# El slicing termina una posición antes al numero que le digamos\n",
    "# Es decir, no incluye al último elemento\n",
    "\n",
    "string[2:7]"
   ]
  },
  {
   "cell_type": "code",
   "execution_count": null,
   "metadata": {},
   "outputs": [],
   "source": [
    "# También podemos usar indices negativos\n",
    "\n",
    "string[-8 : -3]"
   ]
  },
  {
   "cell_type": "code",
   "execution_count": null,
   "metadata": {},
   "outputs": [],
   "source": [
    "string[:10]"
   ]
  },
  {
   "cell_type": "code",
   "execution_count": null,
   "metadata": {},
   "outputs": [],
   "source": [
    "string[10:]"
   ]
  },
  {
   "cell_type": "markdown",
   "metadata": {},
   "source": [
    "### Stride\n",
    "\n",
    "Es una forma de recorrer objetos iterables agregando un \"paso\":"
   ]
  },
  {
   "cell_type": "code",
   "execution_count": null,
   "metadata": {},
   "outputs": [],
   "source": [
    "# En este ejemplo, se va a mostrar cada dos elementos del string, saltandose uno \n",
    "\n",
    "print(string)\n",
    "\n",
    "print(string[1:-1:2])"
   ]
  },
  {
   "cell_type": "code",
   "execution_count": null,
   "metadata": {},
   "outputs": [],
   "source": [
    "# En este ejemplo, se va a mostrar cada tres elementos del string, saltandose dos \n",
    "\n",
    "print(string)\n",
    "\n",
    "print(string[1: -1: 3])"
   ]
  },
  {
   "cell_type": "markdown",
   "metadata": {},
   "source": [
    "### Función format\n",
    "\n",
    "La función **`.format()`** es una herramienta para darle \"formato\" a una cadena de caracteres, esta función llena las llaves **`{}`** vacias de la cadena. Esta función se puede usar de 2 formas:\n",
    "\n",
    "1. Haciendo **`.format()`** al final de un string.\n",
    "2. Colocando **`f`** al comienzo de un string.\n",
    "\n",
    "**Ejemplo:**"
   ]
  },
  {
   "cell_type": "code",
   "execution_count": null,
   "metadata": {},
   "outputs": [],
   "source": [
    "nombre = \"Daniel\"\n",
    "edad = 29"
   ]
  },
  {
   "cell_type": "code",
   "execution_count": null,
   "metadata": {},
   "outputs": [],
   "source": [
    "# Esta cadena siempre será igual, si queremos que cambie el mensaje debemos modificar la cadena.\n",
    "\n",
    "\"Hola! Mi nombre es Daniel y tengo 29 años.\""
   ]
  },
  {
   "cell_type": "code",
   "execution_count": null,
   "metadata": {},
   "outputs": [],
   "source": [
    "# En esta forma de usar .format(), estamos usando 2 llaves y por eso necesitamos 2 variables para llenarlas.\n",
    "# Se llenan en el orden que estan colocadas.\n",
    "\n",
    "\"Hola! Mi nombre es {} y tengo {} años.\".format(nombre, edad)"
   ]
  },
  {
   "cell_type": "code",
   "execution_count": null,
   "metadata": {},
   "outputs": [],
   "source": [
    "\"Hola! Mi nombre es {} y tengo {} años.\".format(edad, nombre)"
   ]
  },
  {
   "cell_type": "code",
   "execution_count": null,
   "metadata": {},
   "outputs": [],
   "source": [
    "# En esta forma de usar .format(), directamente llenamos las llaves con las variables.\n",
    "\n",
    "f\"Hola! Mi nombre es {nombre} y tengo {edad} años.\""
   ]
  },
  {
   "cell_type": "markdown",
   "metadata": {},
   "source": [
    "Con **`format`** podemos utilizar todas las llaves que queramos siempre y cuando tengamos la misma cantidad de elementos para llenarlos."
   ]
  }
 ],
 "metadata": {
  "kernelspec": {
   "display_name": "Python 3",
   "language": "python",
   "name": "python3"
  },
  "language_info": {
   "codemirror_mode": {
    "name": "ipython",
    "version": 3
   },
   "file_extension": ".py",
   "mimetype": "text/x-python",
   "name": "python",
   "nbconvert_exporter": "python",
   "pygments_lexer": "ipython3",
   "version": "3.12.8"
  }
 },
 "nbformat": 4,
 "nbformat_minor": 2
}
