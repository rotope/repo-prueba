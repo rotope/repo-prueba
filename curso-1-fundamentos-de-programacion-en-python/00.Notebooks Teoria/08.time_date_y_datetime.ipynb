{
 "cells": [
  {
   "cell_type": "markdown",
   "id": "5793e42e",
   "metadata": {},
   "source": [
    "## ``time``\n",
    "\n",
    "Esta libreria proporciona varias funciones relacionadas con el tiempo."
   ]
  },
  {
   "cell_type": "code",
   "execution_count": null,
   "id": "de62ebed",
   "metadata": {},
   "outputs": [],
   "source": [
    "import time"
   ]
  },
  {
   "cell_type": "code",
   "execution_count": null,
   "id": "6e89ae05",
   "metadata": {},
   "outputs": [],
   "source": [
    "# Regresa el número de segundos pasados, utilizando el formato Time Unix\n",
    "# Formato Time Unix: el número de segundos que han pasado desde el 1 de Enero de 1970\n",
    "\n",
    "time.time()"
   ]
  },
  {
   "cell_type": "code",
   "execution_count": null,
   "id": "56625f79",
   "metadata": {},
   "outputs": [],
   "source": [
    "# Toma como parametro de entrada una fecha en formato Time Unix\n",
    "# Retorna un string representando esa fecha\n",
    "\n",
    "hoy = time.time()\n",
    "\n",
    "time.ctime(hoy)"
   ]
  },
  {
   "cell_type": "code",
   "execution_count": null,
   "id": "79806962",
   "metadata": {},
   "outputs": [],
   "source": [
    "# Toma como argumento un número entero\n",
    "# Esta función detiene la ejecución por X segundos (X un número entero o decimal)\n",
    "\n",
    "time.sleep(5)\n",
    "\n",
    "# Detiene la celda 5 segundo\n",
    "\n",
    "print(\"Hola mundo!\")"
   ]
  },
  {
   "cell_type": "markdown",
   "id": "ea507a8f",
   "metadata": {},
   "source": [
    "## ``datetime``\n",
    "Este módulo contiene funciones para hacer análisis, formateo y aritmética con fechas y hora.\n",
    "\n",
    "**Propiedades de los objetos ``datetime``:**\n",
    "- Los objetos son inmutables.\n",
    "- Los objetos pueden ser utilizados como llave en un diccionario. \n",
    "- Son eficientes para ser almacenados utilizando el módulo pickle. \n",
    "- Los objetos de tipo **``date``** y **``datetime``** pueden almacenar un año mínimo de 1 y máximo de 9999."
   ]
  },
  {
   "cell_type": "code",
   "execution_count": null,
   "id": "7918ba30",
   "metadata": {},
   "outputs": [],
   "source": [
    "import datetime"
   ]
  },
  {
   "cell_type": "code",
   "execution_count": null,
   "id": "02108d27",
   "metadata": {},
   "outputs": [],
   "source": [
    "# Con datetime.datetime.now() sacamos la hora y fecha de este momento\n",
    "# Si nos fijamos, se crea un objeto datetime.datetime()\n",
    "\n",
    "datetime.datetime.now()"
   ]
  },
  {
   "cell_type": "code",
   "execution_count": null,
   "id": "4eb65cf6",
   "metadata": {},
   "outputs": [],
   "source": [
    "# Usando print() se cambia el formato de vista\n",
    "\n",
    "print(datetime.datetime.now())"
   ]
  },
  {
   "cell_type": "code",
   "execution_count": null,
   "id": "608e729d",
   "metadata": {},
   "outputs": [],
   "source": [
    "datetime_object = datetime.datetime.now()\n",
    "\n",
    "datetime_object"
   ]
  },
  {
   "cell_type": "code",
   "execution_count": null,
   "id": "e2739bf1",
   "metadata": {},
   "outputs": [],
   "source": [
    "print(\"Año:\", datetime_object.year)\n",
    "\n",
    "print(\"Mes:\", datetime_object.month)\n",
    "\n",
    "print(\"Dia:\", datetime_object.day)\n",
    "\n",
    "print(\"Hora:\", datetime_object.hour)\n",
    "\n",
    "print(\"Minuto:\", datetime_object.minute)\n",
    "\n",
    "print(\"Segundos:\", datetime_object.second)\n",
    "\n",
    "print(\"Microsegundos:\", datetime_object.microsecond)"
   ]
  },
  {
   "cell_type": "markdown",
   "id": "e98ecf25",
   "metadata": {},
   "source": [
    "### De objeto ``datetime`` a ``str``\n",
    "\n",
    "Usando el método **``.strftime()``** podemos aplicar el formato que queramos a las fechas."
   ]
  },
  {
   "cell_type": "code",
   "execution_count": null,
   "id": "492fb070",
   "metadata": {},
   "outputs": [],
   "source": [
    "# string from time\n",
    "\n",
    "from datetime import datetime\n",
    "\n",
    "now = datetime.now()\n",
    "\n",
    "print(now)"
   ]
  },
  {
   "cell_type": "code",
   "execution_count": null,
   "id": "e7a07d0c",
   "metadata": {},
   "outputs": [],
   "source": [
    "type(now)"
   ]
  },
  {
   "cell_type": "code",
   "execution_count": null,
   "id": "bcf03a36",
   "metadata": {},
   "outputs": [],
   "source": [
    "# En este ejemplo, con .strftime() solo sacamos la hora\n",
    "\n",
    "string = now.strftime(\"%H:%M:%S\")\n",
    "\n",
    "print(string)"
   ]
  },
  {
   "cell_type": "code",
   "execution_count": null,
   "id": "a7ebdc9d",
   "metadata": {},
   "outputs": [],
   "source": [
    "type(string)"
   ]
  },
  {
   "cell_type": "code",
   "execution_count": null,
   "id": "1cd6f67a",
   "metadata": {},
   "outputs": [],
   "source": [
    "# En este ejemplo cambiamos la forma en la que imprime la fecha y agregamos una coma\n",
    "\n",
    "string = now.strftime(\"%y/%m/%d, %H:%M:%S\")\n",
    "\n",
    "print(string)"
   ]
  },
  {
   "cell_type": "code",
   "execution_count": null,
   "id": "d557b973",
   "metadata": {},
   "outputs": [],
   "source": [
    "# Y podemos hacer el formato que queramos\n",
    "\n",
    "string = now.strftime(\"%m/%d/%y, %H:%M:%S\")\n",
    "\n",
    "print(string)"
   ]
  },
  {
   "cell_type": "markdown",
   "id": "f7822c42",
   "metadata": {},
   "source": [
    "**href**: _https://strftime.org/_"
   ]
  },
  {
   "cell_type": "markdown",
   "id": "6837bcba",
   "metadata": {},
   "source": [
    "|Code    |Example                 |Description                                                                                |\n",
    "|--------|------------------------|-------------------------------------------------------------------------------------------|\n",
    "| **%a** | Sun                    |\tWeekday as locale’s abbreviated name.                                                     |\n",
    "| **%A** | Sunday                 |\tWeekday as locale’s full name.                                                            |\n",
    "| **%w** | 0                      |\tWeekday as a decimal number, where 0 is Sunday and 6 is Saturday.                         |\n",
    "| **%d** | 08                     |\tDay of the month as a zero-padded decimal number.                                         |\n",
    "| **%b** | Sep                    |\tMonth as locale’s abbreviated name.                                                       |\n",
    "| **%B** | September              |\tMonth as locale’s full name.                                                              |\n",
    "| **%m** | 09                     |\tMonth as a zero-padded decimal number.                                                    |\n",
    "| **%y** | 13                     |\tYear without century as a zero-padded decimal number.                                     |\n",
    "| **%Y** | 2013                   |\tYear with century as a decimal number.                                                    |\n",
    "| **%H** | 07                     |\tHour (24-hour clock) as a zero-padded decimal number.                                     |\n",
    "| **%I** | 07                     |\tHour (12-hour clock) as a zero-padded decimal number.                                     |\n",
    "| **%p** | AM                     |\tLocale’s equivalent of either AM or PM.                                                   |\n",
    "| **%M** | 06                     |\tMinute as a zero-padded decimal number.                                                   |\n",
    "| **%S** | 05                     |\tSecond as a zero-padded decimal number.                                                   |\n",
    "| **%f** | 000000                 |\tMicrosecond as a decimal number, zero-padded on the left.                                 |\n",
    "| **%z** | +0000                  |\tUTC offset in the form ±HHMM[SS[.ffffff]] (empty string if the object is naive).          |\n",
    "| **%Z** | UTC                    |\tTime zone name (empty string if the object is naive).                                     |\n",
    "| **%j** | 251                    |\tDay of the year as a zero-padded decimal number.                                          |\n",
    "| **%U** | 36                     |\tWeek number of the year (Sunday as the first day of the week) as a zero padded decimal number. All days in a new year |preceding the first Sunday are considered to be in week 0.|\n",
    "| **%W** | 35                     |\tWeek number of the year (Monday as the first day of the week) as a decimal number. All days in a new year preceding the |first Monday are considered to be in week 0.           |\n",
    "| **%c** | Sun Sep 8 07:06:05 2013|\tLocale’s appropriate date and time representation.                                        |\n",
    "| **%x** | 09/08/13               |\tLocale’s appropriate date representation.                                                 |\n",
    "| **%X** | 07:06:05               |\tLocale’s appropriate time representation.                                                 |\n",
    "| **%%** | %                      |\tA literal '%' character.                                                                  |"
   ]
  },
  {
   "cell_type": "markdown",
   "id": "470c82a0",
   "metadata": {},
   "source": [
    "### De string a objeto datetime\n",
    "\n",
    "Usando la función **``.strptime()``** podemos transformar un **``str``** a formato **``datetime``**.\n",
    "\n",
    "**Esta función recibe 2 argumentos:**\n",
    "1. Un string con fecha y hora\n",
    "2. El formato en el que esta escrito la cadena\n",
    "\n",
    "**Ejemplo:**"
   ]
  },
  {
   "cell_type": "code",
   "execution_count": null,
   "id": "7513345a",
   "metadata": {},
   "outputs": [],
   "source": [
    "# string parse time\n",
    "\n",
    "date_string = \"31 January, 2022\"\n",
    "print(date_string)"
   ]
  },
  {
   "cell_type": "code",
   "execution_count": null,
   "id": "2cdfefa5",
   "metadata": {},
   "outputs": [],
   "source": [
    "type(date_string)"
   ]
  },
  {
   "cell_type": "code",
   "execution_count": null,
   "id": "52474e71",
   "metadata": {},
   "outputs": [],
   "source": [
    "date_object = datetime.strptime(date_string, \"%d %B, %Y\")\n",
    "\n",
    "date_object"
   ]
  },
  {
   "cell_type": "code",
   "execution_count": null,
   "id": "589fceb5",
   "metadata": {},
   "outputs": [],
   "source": [
    "print(date_object)"
   ]
  },
  {
   "cell_type": "markdown",
   "id": "a9ebd20c",
   "metadata": {},
   "source": [
    "### Objeto ``time`` de ``datetime``\n",
    "\n",
    "Con el objeto **``time``** de **``datetime``** podemos usar un objeto que solo maneja tiempos."
   ]
  },
  {
   "cell_type": "code",
   "execution_count": null,
   "id": "e963e941",
   "metadata": {},
   "outputs": [],
   "source": [
    "from datetime import time"
   ]
  },
  {
   "cell_type": "code",
   "execution_count": null,
   "id": "78a07879",
   "metadata": {},
   "outputs": [],
   "source": [
    "# Para inicializar un objeto time, si no ponemos argumentos, se inicializa en 0\n",
    "# Todos los argumentos son opcionales\n",
    "\n",
    "objeto_time = time()\n",
    "\n",
    "objeto_time"
   ]
  },
  {
   "cell_type": "code",
   "execution_count": null,
   "id": "c036e222",
   "metadata": {},
   "outputs": [],
   "source": [
    "# Podemos inicializarlo con diferentes valores\n",
    "\n",
    "objeto_time = time(hour = 20, minute = 10, second = 50, microsecond = 1345)\n",
    "\n",
    "objeto_time"
   ]
  },
  {
   "cell_type": "code",
   "execution_count": null,
   "id": "d77a7fe1",
   "metadata": {},
   "outputs": [],
   "source": [
    "# Al igual con datetime.datetime() el formato cambia cuando hacemos print()\n",
    "\n",
    "print(objeto_time)"
   ]
  },
  {
   "cell_type": "markdown",
   "id": "bbd52fbd",
   "metadata": {},
   "source": [
    "Con esta clase, podemos usar **``.strftime()``** para darle el formato que queramos al tiempo."
   ]
  },
  {
   "cell_type": "code",
   "execution_count": null,
   "id": "cda9a870",
   "metadata": {},
   "outputs": [],
   "source": [
    "objeto_time.strftime(\"%H:%M:%S %p\")"
   ]
  },
  {
   "cell_type": "markdown",
   "id": "b1b1e10a",
   "metadata": {},
   "source": [
    "### Objeto ``date`` de ``datetime``\n",
    "\n",
    "Con el objeto **``date``** de **``datetime``** podemos usar un objeto que solo maneja fechas."
   ]
  },
  {
   "cell_type": "code",
   "execution_count": null,
   "id": "a49b2f0c",
   "metadata": {},
   "outputs": [],
   "source": [
    "from datetime import date"
   ]
  },
  {
   "cell_type": "code",
   "execution_count": null,
   "id": "6f2b41ac",
   "metadata": {},
   "outputs": [],
   "source": [
    "# Para inicializar un objeto date, debemos darle año, mes y día\n",
    "objeto_date = date(year = 2022, month = 1, day = 1)\n",
    "\n",
    "objeto_date"
   ]
  },
  {
   "cell_type": "markdown",
   "id": "7f18937e",
   "metadata": {},
   "source": [
    "Con esta clase, podemos usar **``.strftime()``** para darle el formato que queramos a la fecha."
   ]
  },
  {
   "cell_type": "code",
   "execution_count": null,
   "id": "32081f16",
   "metadata": {},
   "outputs": [],
   "source": [
    "date.today().strftime(\"%Y\")"
   ]
  },
  {
   "cell_type": "code",
   "execution_count": null,
   "id": "4511bae5",
   "metadata": {},
   "outputs": [],
   "source": [
    "date.today().strftime(\"%Y-%m-%d\")"
   ]
  },
  {
   "cell_type": "markdown",
   "id": "20b0347e",
   "metadata": {},
   "source": [
    "### Objeto ``datetime`` de ``datetime``\n",
    "\n",
    "Esta clase se usa para craer objetos que tenga fechas, horas, minutos y segundos."
   ]
  },
  {
   "cell_type": "code",
   "execution_count": null,
   "id": "bb715a11",
   "metadata": {},
   "outputs": [],
   "source": [
    "from datetime import datetime\n",
    "\n",
    "# Al ejecutar esta celda, hemos sobreescrito el nombre datetime\n",
    "# Ahora datetime hará referencia a la clase y no a la libreria"
   ]
  },
  {
   "cell_type": "code",
   "execution_count": null,
   "id": "6dd59c2f",
   "metadata": {},
   "outputs": [],
   "source": [
    "datetime.now()"
   ]
  },
  {
   "cell_type": "code",
   "execution_count": null,
   "id": "9bec7b04",
   "metadata": {},
   "outputs": [],
   "source": [
    "# Ya no podremos usar este código\n",
    "\n",
    "datetime.datetime.now()"
   ]
  },
  {
   "cell_type": "code",
   "execution_count": null,
   "id": "eaa7ab5c",
   "metadata": {},
   "outputs": [],
   "source": [
    "# Al diferencia de time, para inicializar un objeto datetime necesitamos año, mes y dia\n",
    "\n",
    "datetime(year = 2022, month = 1, day = 31)"
   ]
  },
  {
   "cell_type": "code",
   "execution_count": null,
   "id": "1476caae",
   "metadata": {},
   "outputs": [],
   "source": [
    "# Y podemos agregar los parametros de tiempo\n",
    "\n",
    "datetime(year = 2022, month = 1, day = 31, hour = 11, minute = 10, second = 50)"
   ]
  },
  {
   "cell_type": "markdown",
   "id": "4dd322ab",
   "metadata": {},
   "source": [
    "### ``datetime`` y ``timestamp``\n",
    "\n",
    "**Timestamp es una secuencia de caracteres que denotan la fecha y hora**. Es muy común encontrar bases de datos que manejan esta marca temporal, utilizando el formato Tiempo Unix.\n",
    "\n",
    "Con la libreria **``datetime``** podemos:\n",
    "- Convertir un objeto **``datetime`` a ``timestamp``** con el métodod **``.timestamp()``** .\n",
    "- Convertir un **``timestamp`` a ``datetime``** con el método constructor **``datetime.fromtimestamp()``**."
   ]
  },
  {
   "cell_type": "code",
   "execution_count": null,
   "id": "ca493c6c",
   "metadata": {},
   "outputs": [],
   "source": [
    "now = datetime.now()\n",
    "\n",
    "print(now)"
   ]
  },
  {
   "cell_type": "code",
   "execution_count": null,
   "id": "19f5eb51",
   "metadata": {},
   "outputs": [],
   "source": [
    "# De datetime a timestamp\n",
    "\n",
    "timestamp = datetime.timestamp(now)\n",
    "print(timestamp)"
   ]
  },
  {
   "cell_type": "code",
   "execution_count": null,
   "id": "8bfa7eb7",
   "metadata": {},
   "outputs": [],
   "source": [
    "# De timestamp a datetime\n",
    "\n",
    "objeto_datetime = datetime.fromtimestamp(timestamp)\n",
    "\n",
    "print(objeto_datetime)"
   ]
  },
  {
   "cell_type": "markdown",
   "id": "758e8ed6",
   "metadata": {},
   "source": [
    "### Resta de fechas\n",
    "\n",
    "Para restar fechas podemos usar los objetos **``date``** y **``datetime``** de la libreria **``datetime``**.\n",
    "\n",
    "Estas operaciones nos retorna un objeto de tipo **``timedelta``**."
   ]
  },
  {
   "cell_type": "code",
   "execution_count": null,
   "id": "f4e7e88d",
   "metadata": {},
   "outputs": [],
   "source": [
    "from datetime import date, datetime"
   ]
  },
  {
   "cell_type": "code",
   "execution_count": null,
   "id": "30f41ed5",
   "metadata": {},
   "outputs": [],
   "source": [
    "t1 = date(year = 2022, month = 7, day = 10)\n",
    "t2 = date(year = 2021, month = 6, day = 11)\n",
    "\n",
    "t3 = t1 - t2\n",
    "\n",
    "print(t3)\n",
    "\n",
    "print(type(t3))"
   ]
  },
  {
   "cell_type": "code",
   "execution_count": null,
   "id": "f8db0e65",
   "metadata": {},
   "outputs": [],
   "source": [
    "t3"
   ]
  },
  {
   "cell_type": "code",
   "execution_count": null,
   "id": "eeed329a",
   "metadata": {},
   "outputs": [],
   "source": [
    "t4 = datetime(year = 2019, month = 12, day = 15, hour = 21, minute = 12, second = 41)\n",
    "t5 = datetime(year = 2020, month = 9, day = 6, hour = 4, minute = 54, second = 12)\n",
    "\n",
    "t6 = t5 - t4\n",
    "\n",
    "print(t6)\n",
    "\n",
    "print(type(t6))"
   ]
  },
  {
   "cell_type": "code",
   "execution_count": null,
   "id": "8863eaa1",
   "metadata": {},
   "outputs": [],
   "source": [
    "t6"
   ]
  },
  {
   "cell_type": "markdown",
   "id": "bdd4284d",
   "metadata": {},
   "source": [
    "### Operaciones con ``timedelta``\n",
    "\n",
    "Un objeto **``timedelta``** puede ser sumado por otro objecto **``timedelta``** y/o multiplicado y dividido por un entero o flotante."
   ]
  },
  {
   "cell_type": "code",
   "execution_count": null,
   "id": "087187f6",
   "metadata": {},
   "outputs": [],
   "source": [
    "from datetime import timedelta"
   ]
  },
  {
   "cell_type": "code",
   "execution_count": null,
   "id": "1352c2ae",
   "metadata": {},
   "outputs": [],
   "source": [
    "t1 = timedelta(weeks = 2, days = 5, hours = 1, seconds = 35)\n",
    "t2 = timedelta(days = 6, hours = 11, minutes = 5, seconds = 43)\n",
    "\n",
    "t3 = t1 - t2\n",
    "\n",
    "t4 = t1 + t2\n",
    "\n",
    "t5 = t1 * 2.5\n",
    "\n",
    "t6 = t1 / 2"
   ]
  },
  {
   "cell_type": "code",
   "execution_count": null,
   "id": "488fc0e8",
   "metadata": {},
   "outputs": [],
   "source": [
    "print(\"Resta:\",t3)\n",
    "\n",
    "print(\"Suma:\", t4)\n",
    "\n",
    "print(\"Multiplicando por un numero:\", t5)\n",
    "\n",
    "print(\"Dividiendo por un numero:\", t6)"
   ]
  },
  {
   "cell_type": "code",
   "execution_count": null,
   "id": "ae17191d",
   "metadata": {},
   "outputs": [],
   "source": [
    "################################################################################################################################"
   ]
  }
 ],
 "metadata": {
  "kernelspec": {
   "display_name": "Python 3 (ipykernel)",
   "language": "python",
   "name": "python3"
  },
  "language_info": {
   "codemirror_mode": {
    "name": "ipython",
    "version": 3
   },
   "file_extension": ".py",
   "mimetype": "text/x-python",
   "name": "python",
   "nbconvert_exporter": "python",
   "pygments_lexer": "ipython3",
   "version": "3.11.7"
  }
 },
 "nbformat": 4,
 "nbformat_minor": 5
}
