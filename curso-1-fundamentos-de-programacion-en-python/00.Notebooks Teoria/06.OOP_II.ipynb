{
 "cells": [
  {
   "cell_type": "markdown",
   "id": "7dd9d582",
   "metadata": {},
   "source": [
    "## Herencias (inheritance)\n",
    "\n",
    "**Las herencias nos permiten definir una clase a partir de otra ya creada**, esto significa que la clase \"hija\" **tendrá todos los atributos y métodos** de la clase \"padre\", **esta nueva clase también puede tener nuevos atributos y métodos, modificar los que haya heredado o eliminarlos**.\n",
    "\n",
    "\n",
    "Para crear una clase a partir de otra usamos la siguiente sintaxis:\n",
    "\n",
    "```python\n",
    "class ClaseHija(ClasePadre)\n",
    "```"
   ]
  },
  {
   "cell_type": "code",
   "execution_count": null,
   "id": "aaccd499",
   "metadata": {},
   "outputs": [],
   "source": [
    "# Clase Padre\n",
    "\n",
    "class Vehiculo:\n",
    "    \n",
    "    def __init__(self, n_ruedas, n_puertas, tipo_motor, kms=0):\n",
    "        self.n_ruedas = n_ruedas\n",
    "        self.n_puertas = n_puertas\n",
    "        self.tipo_motor = tipo_motor.title()\n",
    "        self.kms = [kms]\n",
    "        \n",
    "    def display_info(self):\n",
    "        print(\"Info. Vehiculo\")\n",
    "        print(\"Nº Ruedas: {}\".format(self.n_ruedas))\n",
    "        print(\"Nº Puertas: {}\".format(self.n_puertas))\n",
    "        print(\"Tipo de Motor (Eléctrico/Combustible/Hibrido): {}\".format(self.tipo_motor))\n",
    "        print(\"Total de Km's: {}\".format(sum(self.kms)))\n",
    "                  \n",
    "    def info_kms(self):\n",
    "        \n",
    "        km_dict = {}\n",
    "        \n",
    "        for num, km in enumerate(self.kms):\n",
    "            km_dict[num] = km\n",
    "            \n",
    "        return km_dict\n",
    "    \n",
    "    def recorrer_km(self, km_recorridos):\n",
    "        \n",
    "        if type(km_recorridos) == int or type(km_recorridos) == float:\n",
    "            self.kms.append(km_recorridos)\n",
    "            print(\"El vehiculo recorrió {} km.\".format(km_recorridos))\n",
    "            \n",
    "        else:\n",
    "            print(\"Formato no valido.\")\n",
    "            \n",
    "    def total_kms(self):\n",
    "        return sum(self.kms)"
   ]
  },
  {
   "cell_type": "code",
   "execution_count": null,
   "id": "473750a7",
   "metadata": {},
   "outputs": [],
   "source": [
    "coche = Vehiculo(n_ruedas=4, n_puertas=4, tipo_motor=\"Combustible\", kms=0)\n",
    "\n",
    "coche.display_info()"
   ]
  },
  {
   "cell_type": "code",
   "execution_count": null,
   "id": "494431f3",
   "metadata": {},
   "outputs": [],
   "source": [
    "coche.info_kms()"
   ]
  },
  {
   "cell_type": "code",
   "execution_count": null,
   "id": "fb82ad02",
   "metadata": {},
   "outputs": [],
   "source": [
    "coche.recorrer_km(1000)"
   ]
  },
  {
   "cell_type": "code",
   "execution_count": null,
   "id": "f383bc27",
   "metadata": {
    "scrolled": true
   },
   "outputs": [],
   "source": [
    "coche.info_kms()"
   ]
  },
  {
   "cell_type": "code",
   "execution_count": null,
   "id": "15689ae1",
   "metadata": {},
   "outputs": [],
   "source": [
    "coche.total_kms()"
   ]
  },
  {
   "cell_type": "code",
   "execution_count": null,
   "id": "7878dfcf",
   "metadata": {
    "scrolled": true
   },
   "outputs": [],
   "source": [
    "coche.kms"
   ]
  },
  {
   "cell_type": "code",
   "execution_count": null,
   "id": "931e1762",
   "metadata": {},
   "outputs": [],
   "source": [
    "class Coche(Vehiculo):\n",
    "    pass\n",
    "\n",
    "# En este ejemplo, la clase Coche hereda todos los atributos y métodos de Vehiculo\n",
    "# Aunque con eso, para inicializar una instancia, tendremos que darle los mismos parametros que la clase Vehiculo."
   ]
  },
  {
   "cell_type": "code",
   "execution_count": null,
   "id": "b069c530",
   "metadata": {},
   "outputs": [],
   "source": [
    "mi_coche = Coche(n_ruedas=4, n_puertas=4, tipo_motor=\"Eléctrico\", kms=1000)\n",
    "\n",
    "print(type(mi_coche))"
   ]
  },
  {
   "cell_type": "code",
   "execution_count": null,
   "id": "0f0b60ce",
   "metadata": {},
   "outputs": [],
   "source": [
    "mi_coche.display_info()"
   ]
  },
  {
   "cell_type": "code",
   "execution_count": null,
   "id": "424d5a2e",
   "metadata": {},
   "outputs": [],
   "source": [
    "mi_coche.info_kms()"
   ]
  },
  {
   "cell_type": "code",
   "execution_count": null,
   "id": "b26b86fa",
   "metadata": {},
   "outputs": [],
   "source": [
    "# Ahora, podemos agregar nuevos métodos a la clase Coche, para hacerla diferente a la clase Vehiculo\n",
    "\n",
    "class Coche(Vehiculo):\n",
    "    \n",
    "    def coche_info(self):\n",
    "        print(\"Este vehiculo es un coche.\")"
   ]
  },
  {
   "cell_type": "code",
   "execution_count": null,
   "id": "8a96ff6a",
   "metadata": {},
   "outputs": [],
   "source": [
    "mi_coche = Coche(n_ruedas=4, n_puertas=4, tipo_motor=\"Eléctrico\", kms=1000)\n",
    "\n",
    "mi_coche.coche_info()"
   ]
  },
  {
   "cell_type": "code",
   "execution_count": null,
   "id": "e92c0517",
   "metadata": {},
   "outputs": [],
   "source": [
    "# Ahora la clase Coche tiene el método coche_info() y los otros 4 heredadas de Vehiculo.\n",
    "\n",
    "dir(Coche)"
   ]
  },
  {
   "cell_type": "markdown",
   "id": "ee51e797",
   "metadata": {},
   "source": [
    "**Ahora, si quisieramos agregar nuevos atributos podemos tomar 2 caminos:**\n",
    "1. Eliminar los atributos anteriores y crear nuevos.\n",
    "2. Mantener los atributos anteriores y crear nuevos."
   ]
  },
  {
   "cell_type": "code",
   "execution_count": null,
   "id": "6d6b6503",
   "metadata": {},
   "outputs": [],
   "source": [
    "# 1. Para eliminar los atributos anteriores y agregar nuevos, basta con sobreescribir la función __init__\n",
    "\n",
    "class Coche(Vehiculo):\n",
    "    \n",
    "    def __init__(self, color, marca):\n",
    "        self.color = color\n",
    "        self.marca = marca\n",
    "        \n",
    "# Esto no modifica los métodos existentes\n",
    "# Pero si alguno de esos métodos utiliza atributos que ya no existen nos dará error"
   ]
  },
  {
   "cell_type": "code",
   "execution_count": null,
   "id": "c6d1639e",
   "metadata": {},
   "outputs": [],
   "source": [
    "mi_coche = Coche(\"Azul\", \"Honda\")"
   ]
  },
  {
   "cell_type": "code",
   "execution_count": null,
   "id": "e9ea09fe",
   "metadata": {},
   "outputs": [],
   "source": [
    "# Éste método utiliza un atributo que ya no existe en la clase Coche\n",
    "\n",
    "mi_coche.display_info()"
   ]
  },
  {
   "cell_type": "code",
   "execution_count": null,
   "id": "80242130",
   "metadata": {},
   "outputs": [],
   "source": [
    "# 2. Para mantener los atributos de la clase Padre y agregar nuevos\n",
    "# Usamos una combinación entre __init__ y la función super()\n",
    "\n",
    "class Coche(Vehiculo):\n",
    "    \n",
    "    def __init__(self, n_ruedas, n_puertas, tipo_motor, color, marca, kms=0):\n",
    "        super().__init__(n_ruedas, n_puertas, tipo_motor, kms)\n",
    "        \n",
    "#         self.n_ruedas = n_ruedas\n",
    "#         self.n_puertas = n_puertas\n",
    "#         self.tipo_motor = tipo_motor.title()\n",
    "#         self.kms = [kms]\n",
    "        \n",
    "        self.color = color\n",
    "        self.marca = marca\n",
    "        \n",
    "    def coche_info(self):\n",
    "        print(\"Este vehiculo es un coche.\")\n",
    "        \n",
    "# La función super().__init__() ejecutará el código del método __init__ de la clase Padre\n",
    "# Por eso, solo haría falta definir color y marca (que son los 2 nuevos atributos de la clase Coche)\n",
    "\n",
    "# Nota: Los parametros por defecto no son necesarios inicializarlos con super().__init__()\n",
    "\n",
    "# Esta nueva clase Coche mantiene los atributos y los métodos de Vehiculo\n",
    "# Además de agregar otro nuevo método."
   ]
  },
  {
   "cell_type": "code",
   "execution_count": null,
   "id": "8dcd3f6e",
   "metadata": {},
   "outputs": [],
   "source": [
    "mi_coche = Coche(n_ruedas=4, n_puertas=4, tipo_motor=\"Combustible\", color=\"Azul\", marca=\"Honda\", kms=0)\n",
    "\n",
    "mi_coche"
   ]
  },
  {
   "cell_type": "code",
   "execution_count": null,
   "id": "ac143678",
   "metadata": {},
   "outputs": [],
   "source": [
    "mi_coche.display_info()"
   ]
  },
  {
   "cell_type": "code",
   "execution_count": null,
   "id": "22a1937d",
   "metadata": {},
   "outputs": [],
   "source": [
    "mi_coche.coche_info()"
   ]
  },
  {
   "cell_type": "code",
   "execution_count": null,
   "id": "6625be5b",
   "metadata": {},
   "outputs": [],
   "source": [
    "mi_coche.color"
   ]
  },
  {
   "cell_type": "code",
   "execution_count": null,
   "id": "5397893e",
   "metadata": {},
   "outputs": [],
   "source": [
    "mi_coche.marca"
   ]
  },
  {
   "cell_type": "code",
   "execution_count": null,
   "id": "900ff075",
   "metadata": {},
   "outputs": [],
   "source": [
    "from time import sleep # Permite pausar nuestro código durante un tiempo\n",
    "from random import randint # Nos da un int aleatorio entre dos números, lo veremos más a fondo en otro notebook\n",
    "\n",
    "# Ahora vamos a agragarle más métodos y atributos a la clase Coche\n",
    "\n",
    "# Nota: Si quisieramos usar un método de la clase dentro de otro método, tendremos que utilizar \n",
    "# self para que Python entienda que es un método propio de esa clase.\n",
    "\n",
    "class Coche(Vehiculo):\n",
    "    \n",
    "    def __init__(self, n_ruedas, n_puertas, tipo_motor, color, marca, kms=0):\n",
    "        super().__init__(n_ruedas, n_puertas, tipo_motor, kms)\n",
    "        self.color = color\n",
    "        self.marca = marca\n",
    "        \n",
    "        self.historial_color = {0 : color}\n",
    "        self.condicion_ruedas = 10\n",
    "        self.condicion_aceite = 10\n",
    "        self.limpieza = 10\n",
    "        self.gastos_totales = 0\n",
    "        \n",
    "        self.cond_general = sum([self.condicion_ruedas, self.condicion_aceite, self.limpieza])\n",
    "        \n",
    "    def coche_info(self):\n",
    "        print(\"Condiciones del coche:\")\n",
    "        print(\"Condición de las ruedas: {}\".format(self.condicion_ruedas))\n",
    "        print(\"Condición del aceite: {}\".format(self.condicion_aceite))\n",
    "        print(\"Limpieza General: {}\".format(self.limpieza))\n",
    "        print(\"KM TOTALES: {}\".format(sum(self.kms)))\n",
    "        print(\"GASTOS TOTALES: {}\".format(self.gastos_totales))\n",
    "        print(\"CONDICION GENERAL: {}\".format(self.cond_general))\n",
    "        \n",
    "    def cambiar_color(self, color):\n",
    "        \n",
    "        self.color = color\n",
    "        \n",
    "        self.historial_color[len(self.historial_color)] = color\n",
    "        \n",
    "    def calcular_cond_general(self):\n",
    "        \n",
    "        self.cond_general = round(sum([self.condicion_ruedas, self.condicion_aceite, self.limpieza]), 2)\n",
    "        \n",
    "    def paseo_corto(self):\n",
    "        print(\"Estás tomando un paseo corto...\")\n",
    "        sleep(3)\n",
    "        self.condicion_ruedas -= 0.05\n",
    "        self.condicion_aceite -= 0.01\n",
    "        self.limpieza -= 0.1\n",
    "        self.kms.append(randint(10, 20))\n",
    "        \n",
    "        self.calcular_cond_general()\n",
    "        \n",
    "        self.coche_info()\n",
    "        \n",
    "    def paseo_largo(self):\n",
    "        print(\"Estás tomando un paseo largo...\")\n",
    "        sleep(10)\n",
    "        \n",
    "        self.condicion_ruedas -= 2\n",
    "        self.condicion_aceite -= 1\n",
    "        self.limpieza -= 2\n",
    "        self.kms.append(randint(50, 100))\n",
    "        \n",
    "        self.calcular_cond_general()\n",
    "        \n",
    "        self.coche_info()\n",
    "        \n",
    "    def limpiar_coche(self):\n",
    "        print(\"Limpiando coche...\")\n",
    "        self.gastos_totales += 100\n",
    "        \n",
    "        sleep(3)\n",
    "        \n",
    "        self.limpieza = 10\n",
    "        print(\"Coche limpio.\")\n",
    "        \n",
    "        self.calcular_cond_general()\n",
    "        \n",
    "        self.coche_info()\n",
    "        \n",
    "    def mantenimiento(self):\n",
    "        print(\"Estamos haciendo mantenimiento...\")\n",
    "        self.gastos_totales += 1000\n",
    "        sleep(5)\n",
    "        \n",
    "        self.condicion_ruedas = 10\n",
    "        self.condicion_aceite = 10\n",
    "        \n",
    "        self.calcular_cond_general()\n",
    "        \n",
    "        self.coche_info()"
   ]
  },
  {
   "cell_type": "code",
   "execution_count": null,
   "id": "7302d15a",
   "metadata": {},
   "outputs": [],
   "source": [
    "mi_coche = Coche(n_ruedas=4, n_puertas=4, tipo_motor=\"Combustible\", color=\"Azul\", marca=\"Honda\")"
   ]
  },
  {
   "cell_type": "code",
   "execution_count": null,
   "id": "4f721bf9",
   "metadata": {},
   "outputs": [],
   "source": [
    "mi_coche.coche_info()"
   ]
  },
  {
   "cell_type": "code",
   "execution_count": null,
   "id": "d55c85a4",
   "metadata": {},
   "outputs": [],
   "source": [
    "mi_coche.paseo_corto()"
   ]
  },
  {
   "cell_type": "code",
   "execution_count": null,
   "id": "3f5e7e73",
   "metadata": {},
   "outputs": [],
   "source": [
    "mi_coche.paseo_largo()"
   ]
  },
  {
   "cell_type": "code",
   "execution_count": null,
   "id": "ec9d8a79",
   "metadata": {},
   "outputs": [],
   "source": [
    "mi_coche.kms"
   ]
  },
  {
   "cell_type": "code",
   "execution_count": null,
   "id": "9e38fede",
   "metadata": {},
   "outputs": [],
   "source": [
    "mi_coche.info_kms()"
   ]
  },
  {
   "cell_type": "code",
   "execution_count": null,
   "id": "fb909829",
   "metadata": {},
   "outputs": [],
   "source": [
    "mi_coche.cambiar_color(\"Amarillo\")"
   ]
  },
  {
   "cell_type": "code",
   "execution_count": null,
   "id": "e6aa4d9f",
   "metadata": {},
   "outputs": [],
   "source": [
    "mi_coche.historial_color"
   ]
  },
  {
   "cell_type": "code",
   "execution_count": null,
   "id": "15ef425a",
   "metadata": {},
   "outputs": [],
   "source": [
    "mi_coche.color"
   ]
  },
  {
   "cell_type": "markdown",
   "id": "749793c0",
   "metadata": {},
   "source": [
    "## Composición (composition)\n",
    "\n",
    "Si las herencias establecen una relación de `ClaseA` es `ClaseB`, la composición **establece una relación de `ClaseA` tiene `ClaseB`**. Por ejemplo, un `Coche` **es** un `Vehiculo`, pero también **tiene** un `Motor`.\n",
    "\n",
    "Este concepto lo hemos estado usando todo este tiempo asignando atributos, ya que **en Python todo son clases**, incluso tipos tan básicos como `int` y `float`."
   ]
  },
  {
   "cell_type": "code",
   "execution_count": null,
   "id": "b7cc66ea",
   "metadata": {},
   "outputs": [],
   "source": [
    "class Vehiculo:\n",
    "\n",
    "    def __init__(self, n_ruedas, n_puertas, kms=0):\n",
    "        self.n_ruedas = n_ruedas\n",
    "        self.n_puertas = n_puertas\n",
    "        self.kms = kms\n",
    "\n",
    "class Motor:\n",
    "\n",
    "    def __init__(self, potencia, tipo_combustible, max_rev, marca):\n",
    "        self.potencia = potencia\n",
    "        self.tipo_combustible = tipo_combustible\n",
    "        self.max_rev = max_rev\n",
    "        self.marca = marca\n",
    "\n",
    "class Coche(Vehiculo):\n",
    "\n",
    "    def __init__(self, n_ruedas, n_puertas, motor, kms=0):\n",
    "        super().__init__(n_ruedas, n_puertas, kms)\n",
    "        self.motor = motor"
   ]
  },
  {
   "cell_type": "code",
   "execution_count": null,
   "id": "9438602c",
   "metadata": {},
   "outputs": [],
   "source": [
    "mi_motor = Motor(potencia=200, tipo_combustible=\"Diesel\", max_rev=12000, marca=\"Ford\")\n",
    "mi_coche = Coche(n_ruedas=4, n_puertas=4, motor=mi_motor)"
   ]
  },
  {
   "cell_type": "code",
   "execution_count": null,
   "id": "055408e2",
   "metadata": {},
   "outputs": [],
   "source": [
    "mi_coche.n_ruedas"
   ]
  },
  {
   "cell_type": "code",
   "execution_count": null,
   "id": "c146c677",
   "metadata": {},
   "outputs": [],
   "source": [
    "mi_coche.n_puertas"
   ]
  },
  {
   "cell_type": "code",
   "execution_count": null,
   "id": "08fb33d7",
   "metadata": {},
   "outputs": [],
   "source": [
    "mi_coche.motor"
   ]
  },
  {
   "cell_type": "code",
   "execution_count": null,
   "id": "f26086ad",
   "metadata": {},
   "outputs": [],
   "source": [
    "mi_coche.motor.marca"
   ]
  },
  {
   "cell_type": "code",
   "execution_count": null,
   "id": "38ae3192",
   "metadata": {},
   "outputs": [],
   "source": [
    "mi_coche.motor.max_rev"
   ]
  },
  {
   "cell_type": "code",
   "execution_count": null,
   "id": "a3853de7",
   "metadata": {},
   "outputs": [],
   "source": [
    "mi_coche.motor.potencia"
   ]
  },
  {
   "cell_type": "code",
   "execution_count": null,
   "id": "71cbad74",
   "metadata": {},
   "outputs": [],
   "source": [
    "mi_coche.motor.tipo_combustible"
   ]
  },
  {
   "cell_type": "markdown",
   "id": "5c5acb56",
   "metadata": {},
   "source": [
    "## Métodos dunder (dunder methods)\n",
    "\n",
    "Los métodos dunder o métodos mágicos son todos aquellos métodos que vienen predefinidos en Python y **ofrecen funcionalidad idomática única a nuestras clases**. Todos estos métodos comienzan y terminan por doble underscore (`__`). De hecho, ya conocemos el más utilizado de todos: `.__init__()`.\n",
    "\n",
    "- Estos métodos nos ayudan a integrar nuestras clases en el ecosistema de Python, permitiendo que se utilicen funciones y sintaxis nativa sobre éstas.\n",
    "- Cada método dunder tiene un rol muy específico y debemos seguir la implementación de manera correcta.\n",
    "- Es muy importante entender los métodos dunder, más allá de si los terminamos usando o no, ya que nos ofrecen una perspectiva de más bajo nivel sobre el funcionamiento de Python.\n",
    "\n",
    "Aquí tienen en una tabla algunos de los muchísimos métodos dunder que existen, y a continuación algunos ejemplos destacables.\n",
    "\n",
    "|Método|Descripción|\n",
    "|-|-|\n",
    "|`__repr__()`| Permite definir un formato en forma de str personalizado que aparezca en pantalla cuando, por ejemplo, hacemos un print del objeto.|\n",
    "|`__str__()`| Especifica la lógica que se debe ejecutar al castear el objeto a str usando `str()`. |\n",
    "|`__len__()`| Especifica la lógica al utilizar la función `len()` sobre el objeto. |\n",
    "|`__getitem__()`| Permite consultar el objeto como si fuera un diccionario. |\n",
    "|`__setitem__()`| Permite asignar valores al objeto como si fuera un diccionario. |\n",
    "|`__delitem__()`| Permite utilizar `del` con la sintaxis de indexado de diccionario. |\n",
    "|`__add__()`| Especifica la lógica al utilizar el operador `+`. Véase también `__sub__()`, `__mul__()`, `__truediv__()`, `__floordiv__()`, `__mod__()`, `__pow__()` y `__matmul__()`.|\n",
    "|`__iadd__()`| Especifica la lógica al utilizar el operador `+=`. Véase también `__isub__()`, `__imul__()`, `__itruediv__()`, `__ifloordiv__()`, `__imod__()` y `__ipow__()`.|\n",
    "|`__eq__()`| Especifica la lógica al utilizar el operador `==`. Véase también `__ne__()`, `__gt__()`, `__ge__()`, `__lt__()` y `__le__()`.|\n",
    "|`__and__()`| Especifica la lógica al utilizar el operador `&`. Véase también `__or__()`, `__xor__()`, `__lshift__()`, `__rshift__()` e `__invert__()`.|\n",
    "|`__call__()`| Permite llamar una instancia del objeto como si fuera una función. |\n",
    "|`__contains__()`| Permite utilizar la keyword `in` para consultar la presencia de un elemento. |\n",
    "|`__enter__()`| Permite utilizar la instancia como context manager. Se ejecuta al entrar en el contexto y `__exit__()` debe estar implementado. Veremos los context managers más adelante. |\n",
    "|`__exit__()`| Permite utilizar la instancia como context manager. Se ejecuta al salir del contexto y `__enter__()` debe estar implementado. Veremos los context managers más adelante. |\n",
    "|`__bool__()`| Define el comportamiento al castear el objeto a booleano con `bool()`. |"
   ]
  },
  {
   "cell_type": "code",
   "execution_count": null,
   "id": "49bd8d76",
   "metadata": {},
   "outputs": [],
   "source": [
    "class Gato:\n",
    "\n",
    "    def __init__(self, nombre, peso, edad, juguetes):\n",
    "        self.nombre = nombre\n",
    "        self.peso = peso\n",
    "        self.edad = edad\n",
    "        self.juguetes = juguetes\n",
    "\n",
    "    def __repr__(self): # Determina cómo se verá nuestra clase dentro de prints, otros objetos como listas o al final de una celda\n",
    "        return f\"{self.nombre.capitalize()}(edad={self.edad}, peso={self.peso})\"\n",
    "    \n",
    "    def __str__(self): # Determina qué se obtiene al castear instancias de Gato a tipo str()\n",
    "        return self.nombre.capitalize()\n",
    "    \n",
    "    def __len__(self): # Determina qué se obtiene al aplicar len() sobre las instancias de Gato\n",
    "        return len(self.juguetes)\n",
    "    \n",
    "    def __call__(self, x=0): # Permite usar nuestra clase como una función\n",
    "        print(\"Meow\" + \"!\" * x)\n",
    "\n",
    "    def __contains__(self, val): # Determina si la instancia de Gato tiene algún juguete mediante la keyword `in`\n",
    "        return val in self.juguetes\n",
    "    \n",
    "    def __getitem__(self, i): # Permite consultar nuestra instancia como si fuera un diccionario o array\n",
    "        return self.juguetes[i]\n",
    "    \n",
    "    def __eq__(self, gato): # Permite comparar si nuestra instancia es igual a otra de la misma clase\n",
    "        return self.edad == gato.edad\n",
    "    \n",
    "    def __gt__(self, gato): # Permite comprobar si nuestra instancia es mayor a otra de la misma clase\n",
    "        return self.edad > gato.edad"
   ]
  },
  {
   "cell_type": "code",
   "execution_count": null,
   "id": "237aa971",
   "metadata": {},
   "outputs": [],
   "source": [
    "# Ejemplos de `__repr_()``\n",
    "hector = Gato(nombre=\"Hector\", peso=4.8, edad=6, juguetes=[\"Peluche\", \"Rascador\", \"Pelota\"])\n",
    "hector"
   ]
  },
  {
   "cell_type": "code",
   "execution_count": null,
   "id": "c96238e1",
   "metadata": {},
   "outputs": [],
   "source": [
    "lista = [hector, hector, hector, hector]\n",
    "lista"
   ]
  },
  {
   "cell_type": "code",
   "execution_count": null,
   "id": "a5b97fed",
   "metadata": {},
   "outputs": [],
   "source": [
    "# Ejemplos de `__str__()`\n",
    "str(hector)"
   ]
  },
  {
   "cell_type": "code",
   "execution_count": null,
   "id": "b5af36a7",
   "metadata": {},
   "outputs": [],
   "source": [
    "print(hector) # Si `__str__()` no estuviera definido, la función print usaría `__repr__()`"
   ]
  },
  {
   "cell_type": "code",
   "execution_count": null,
   "id": "596b9621",
   "metadata": {},
   "outputs": [],
   "source": [
    "# Ejemplo de `__len__()`\n",
    "len(hector)"
   ]
  },
  {
   "cell_type": "code",
   "execution_count": null,
   "id": "32ff3f01",
   "metadata": {},
   "outputs": [],
   "source": [
    "# Ejemplo de `__call__()`\n",
    "hector()\n",
    "\n",
    "hector(5)"
   ]
  },
  {
   "cell_type": "code",
   "execution_count": null,
   "id": "11f6ef5b",
   "metadata": {},
   "outputs": [],
   "source": [
    "# Ejemplo de `__contains__()`\n",
    "\n",
    "print(\"Rascador\" in hector)\n",
    "print(\"Catnip\" in hector)"
   ]
  },
  {
   "cell_type": "code",
   "execution_count": null,
   "id": "d35d88f5",
   "metadata": {},
   "outputs": [],
   "source": [
    "# Ejemplos de `__getitem__()`\n",
    "hector[0]"
   ]
  },
  {
   "cell_type": "code",
   "execution_count": null,
   "id": "3ae22f10",
   "metadata": {},
   "outputs": [],
   "source": [
    "hector[1:]"
   ]
  },
  {
   "cell_type": "code",
   "execution_count": null,
   "id": "5f3d033f",
   "metadata": {},
   "outputs": [],
   "source": [
    "# Ejemplos de operadores de comparación\n",
    "tuco = Gato(nombre=\"Tuco\", peso=5, edad=3, juguetes=[\"Catnip\", \"Rascador\"])\n",
    "\n",
    "hector == tuco"
   ]
  },
  {
   "cell_type": "code",
   "execution_count": null,
   "id": "8d966426",
   "metadata": {},
   "outputs": [],
   "source": [
    "hector > tuco"
   ]
  },
  {
   "cell_type": "code",
   "execution_count": null,
   "id": "0be22858",
   "metadata": {},
   "outputs": [],
   "source": [
    "# Python es capaz de inferir los operadores complementarios a los definidos\n",
    "print(hector != tuco)\n",
    "print(hector < tuco)"
   ]
  },
  {
   "cell_type": "code",
   "execution_count": null,
   "id": "f2ca325f",
   "metadata": {},
   "outputs": [],
   "source": [
    "# Pero no es capaz de inferir uno sin que tenga su complementario definido\n",
    "print(hector >= tuco) # Error"
   ]
  },
  {
   "cell_type": "code",
   "execution_count": null,
   "id": "782ef396",
   "metadata": {},
   "outputs": [],
   "source": [
    "print(hector <= tuco) # Error"
   ]
  }
 ],
 "metadata": {
  "kernelspec": {
   "display_name": "Python 3",
   "language": "python",
   "name": "python3"
  },
  "language_info": {
   "codemirror_mode": {
    "name": "ipython",
    "version": 3
   },
   "file_extension": ".py",
   "mimetype": "text/x-python",
   "name": "python",
   "nbconvert_exporter": "python",
   "pygments_lexer": "ipython3",
   "version": "3.12.8"
  }
 },
 "nbformat": 4,
 "nbformat_minor": 5
}
