{
 "cells": [
  {
   "cell_type": "markdown",
   "id": "32512ffb",
   "metadata": {},
   "source": [
    "## Lectura y Escritura de archivos\n",
    "\n",
    "En python para leer y escribir un archivo (o fichero) usamos la función **``open()``**. Ésta función toma como parametros el **``path``** o ruta de un archivo y el modo de apertura, que pueden ser cualquiera de los siguientes (por defecto es **r**):\n",
    "\n",
    "\n",
    "|Modo  |Descripción                                                          |\n",
    "|------|---------------------------------------------------------------------|\n",
    "|**r** |Abre el fichero en modo lectura.                                     |\n",
    "|**r+**|Abre el fichero en modo lectura y escritura. Sobreescribe el archivo.|\n",
    "|**w** |Abre el fichero solo en modo escritura. Sobreescribe el archivo.     |\n",
    "|**a** |Añade una linea al final del fichero en caso de que ya exista.       |\n",
    "|**x** |Crea un nuevo archivo y lo abre para escritura.                      |\n",
    "|**br**|Abre ficheros binarios en modo lectura (imagenes).                   |\n",
    "|**bw**|Abre ficheros binarios en modo escritura. Sobreescribe el archivo.   |\n",
    "|**b+**|Abre ficheros binarios en modo lectura y escritura.                  |\n",
    "\n",
    "Para usar la función **``open()``** tenemos principalmente 2 formas:\n",
    "1. Usando **``open()``** y el método **.close()**:\n",
    " \n",
    "```python\n",
    "    file = open(path, mode)\n",
    "    data = file.read()\n",
    "    file.close()\n",
    "```\n",
    "2. Usando la función **``with open()``**:\n",
    "```python\n",
    "    with open(path, mode) as file:\n",
    "        data = file.read()\n",
    "```\n",
    "\n",
    "Cuando solo usamos la función **``open()``** tenemos que \"cerrar\" el archivo \"manualmente\", en cambio si usamos **``with open()``** no tenemos que preocuparnos por esto, ya que su principal función es abrir y cerrar el archivo, por lo que es más recomendado usar la segunda forma, además de que simplifica el código.\n",
    "\n",
    "Un tercer parametro puede ser indicado a la función **``open()``** y este es el **``encoding``**, por defecto no usa ningun encoding, esto tiene un uso especial si tenemos ficheros con caracteres especiales, como los acentos o la letra **ñ**. El encoding más usado para esto sería _**utf-8**_.\n",
    "\n",
    "\n",
    "### Escritura de archivos\n",
    "\n",
    "Para escribir archivos usamos los siguientes métodos:\n",
    "\n",
    "|Método                   |Descripción                                                 |\n",
    "|-------------------------|------------------------------------------------------------|\n",
    "|**``file.write(string)``**   |Inserta la cadena \"string\" en una sola linea al archivo.    |\n",
    "|**``file.writelines(list)``**|Inserta las cadenas de la lista \"list\" al final del archivo.|\n",
    "\n",
    "**Aunque no es obligatorio, es buena práctica agregar el salto de linea `\\n` en cada string que agregemos al fichero.**\n",
    "\n",
    "\n",
    "### Lectura de archivos\n",
    "\n",
    "Para leer archivos usamos los siguientes métodos:\n",
    "\n",
    "|Método              |Descripción                                                                                                |\n",
    "|--------------------|-----------------------------------------------------------------------------------------------------------|\n",
    "|**``file.read(n)``**    |Lee los primero \"n\" caracteres del archivo, si no se especifica \"n\" lee todo el archivo en una sola cadena.|\n",
    "|**``file.readline(n)``**|Lee una sola linea del archivo, si se especifica \"n\", leerá los primeros n-caracteres de esa linea.        |\n",
    "|**``file.readlines()``**|Lee todo el archivo y retorna en una lista cada linea del archivo.                                         |"
   ]
  },
  {
   "cell_type": "code",
   "execution_count": null,
   "id": "f536fa17",
   "metadata": {},
   "outputs": [],
   "source": [
    "# Sintaxis 1\n",
    "# Leer todo el archivo con .read()\n",
    "\n",
    "file = open(\"../Data/ejemplo_1.txt\", \"r\")\n",
    "data = file.read()\n",
    "file.close()\n",
    "\n",
    "data\n",
    "\n",
    "# Nos retorna un string"
   ]
  },
  {
   "cell_type": "code",
   "execution_count": null,
   "id": "fcd0c2f6",
   "metadata": {},
   "outputs": [],
   "source": [
    "print(data)"
   ]
  },
  {
   "cell_type": "code",
   "execution_count": null,
   "id": "10e49770",
   "metadata": {},
   "outputs": [],
   "source": [
    "# Sintaxis 2\n",
    "# Leer todo el archivo con .read()\n",
    "\n",
    "with open(\"../Data/ejemplo_1.txt\", \"r\") as file:\n",
    "    data_1 = file.read()\n",
    "    \n",
    "data_1\n",
    "\n",
    "# Nos retorna un string"
   ]
  },
  {
   "cell_type": "code",
   "execution_count": null,
   "id": "5f991f80",
   "metadata": {},
   "outputs": [],
   "source": [
    "print(data_1)"
   ]
  },
  {
   "cell_type": "code",
   "execution_count": null,
   "id": "4f3d4499",
   "metadata": {},
   "outputs": [],
   "source": [
    "# Sintaxis 2\n",
    "# Leer todo el archivo con .readline()\n",
    "\n",
    "with open(\"../Data/ejemplo_1.txt\", \"r\") as file:\n",
    "    data = file.readline()\n",
    "    \n",
    "data\n",
    "\n",
    "# Con .readline() solo leemos una linea y nos retorna en forma de string"
   ]
  },
  {
   "cell_type": "code",
   "execution_count": null,
   "id": "50efb33b",
   "metadata": {},
   "outputs": [],
   "source": [
    "# Sintaxis 2\n",
    "# Leer todo el archivo con .readlines()\n",
    "\n",
    "with open(\"../Data/ejemplo_1.txt\", \"r\") as file:\n",
    "    data = file.readlines()\n",
    "    \n",
    "data\n",
    "\n",
    "# Nos retorna una lista"
   ]
  },
  {
   "cell_type": "code",
   "execution_count": null,
   "id": "e19a701b",
   "metadata": {},
   "outputs": [],
   "source": [
    "data_1"
   ]
  },
  {
   "cell_type": "code",
   "execution_count": null,
   "id": "fc5605fe",
   "metadata": {},
   "outputs": [],
   "source": [
    "# Vamos a crear un archivo llamado \"ejemplo_2.txt\", que sea identico a \"ejemplo_1.txt\"\n",
    "\n",
    "with open(\"ejemplo_2.txt\", \"w\") as file:\n",
    "    file.write(data_1)"
   ]
  },
  {
   "cell_type": "code",
   "execution_count": null,
   "id": "17bbe207",
   "metadata": {},
   "outputs": [],
   "source": [
    "# Vamos a agregar al archivo de \"ejemplo_2.txt\" el string \"Nueva linea\"\n",
    "\n",
    "with open(\"ejemplo_2.txt\", \"w\") as file:\n",
    "    file.write(\"Nueva linea\\n\")"
   ]
  },
  {
   "cell_type": "code",
   "execution_count": null,
   "id": "111484d8",
   "metadata": {},
   "outputs": [],
   "source": [
    "# Veamos el resultado    \n",
    "    \n",
    "with open(\"ejemplo_2.txt\", \"r\") as file:\n",
    "    print(file.read())\n",
    "    \n",
    "    \n",
    "# Como el modo \"w\" sobreescribe el archivo, se pierde la información\n",
    "# Para no perder la información se usa \"a\""
   ]
  },
  {
   "cell_type": "code",
   "execution_count": null,
   "id": "b313b0db",
   "metadata": {},
   "outputs": [],
   "source": [
    "# Vamos a agregar al archivo \"Nuevo intento\", esta vez intentando no sobreescribir el archivo\n",
    "\n",
    "with open(\"ejemplo_2.txt\", \"a\") as file:\n",
    "    file.write(\"Nuevo intento\\n\")\n",
    "    \n",
    "with open(\"ejemplo_2.txt\", \"r\") as file:\n",
    "    print(file.read())"
   ]
  },
  {
   "cell_type": "code",
   "execution_count": null,
   "id": "34f990f9",
   "metadata": {},
   "outputs": [],
   "source": [
    "# Intentemos abrir un archivo que no existe\n",
    "\n",
    "with open(\"ejemplo_3.txt\", \"r\") as file:\n",
    "    data = file.read()\n",
    "    \n",
    "data"
   ]
  },
  {
   "cell_type": "markdown",
   "id": "c09de3cf",
   "metadata": {},
   "source": [
    "### Libreria ``pickle``\n",
    "\n",
    "**``pickle``** es una libreria que viene por defecto en python, esta libreria escribe y lee ficheros en modo binario. Estos archivos tiene extensión _**.pkl**_.\n",
    "\n",
    "La principal ventaja de usar **``pickle``** es que podemos guardar de forma binaria cualquier objeto en python y este objeto conserva sus propiedades. En los ejemplos anteriores todo se guardaba como cadena de caracteres. Además, los archivos binarios ocupan menos espacio en memoria.\n",
    "\n",
    "|Funcion             |Descripción                                                                                                  |\n",
    "|--------------------|-------------------------------------------------------------------------------------------------------------|\n",
    "|**``.dump(obj, file)``**|Toma como parametro el objeto que se quiere guardar y el objeto file, guarda el objeto en un archivo binario.|\n",
    "|**``.load(file)``**     |Toma como parametro el objeto file y lee el fichero binario.                                                 |"
   ]
  },
  {
   "cell_type": "code",
   "execution_count": null,
   "id": "5ad4c2a2",
   "metadata": {},
   "outputs": [],
   "source": [
    "import pickle"
   ]
  },
  {
   "cell_type": "code",
   "execution_count": null,
   "id": "6a608b57",
   "metadata": {},
   "outputs": [],
   "source": [
    "lista = [0, 1, 2, 3, 4, 5, 6, 7, 8, 9]\n",
    "lista"
   ]
  },
  {
   "cell_type": "code",
   "execution_count": null,
   "id": "075ec231",
   "metadata": {},
   "outputs": [],
   "source": [
    "with open(\"ejemplo_binario.pkl\", \"bw\") as file:\n",
    "    pickle.dump(lista, file)"
   ]
  },
  {
   "cell_type": "code",
   "execution_count": null,
   "id": "f8a6c05b",
   "metadata": {},
   "outputs": [],
   "source": [
    "with open(\"ejemplo_binario.pkl\", \"br\") as file:\n",
    "    lista_2 = pickle.load(file)\n",
    "    \n",
    "lista_2"
   ]
  },
  {
   "cell_type": "code",
   "execution_count": null,
   "id": "89eb279b",
   "metadata": {},
   "outputs": [],
   "source": [
    "type(lista_2)"
   ]
  },
  {
   "cell_type": "markdown",
   "id": "da094aa6",
   "metadata": {},
   "source": [
    "### Librería `json`\n",
    "\n",
    "La librería `json` nos permite manejar datos en formato de diccionario (JSON o HashMap) en nuestros ficheros de texto. Para usarla debemos importarla."
   ]
  },
  {
   "cell_type": "code",
   "execution_count": null,
   "id": "a33aa0c8",
   "metadata": {},
   "outputs": [],
   "source": [
    "import json"
   ]
  },
  {
   "cell_type": "code",
   "execution_count": null,
   "id": "7a556ff5",
   "metadata": {},
   "outputs": [],
   "source": [
    "datos = {\n",
    "    \"nombres\" : [\"Juan\", \"Marta\", \"Almudena\", \"Martín\"],\n",
    "    \"edades\" : [28, 35, 19, 42]\n",
    "}"
   ]
  },
  {
   "cell_type": "code",
   "execution_count": null,
   "id": "a9d02373",
   "metadata": {},
   "outputs": [],
   "source": [
    "with open(\"datos.json\", \"w\") as file:\n",
    "    json.dump(datos, file)"
   ]
  },
  {
   "cell_type": "code",
   "execution_count": null,
   "id": "807aedcd",
   "metadata": {},
   "outputs": [],
   "source": [
    "with open(\"datos.json\", \"r\") as file:\n",
    "    datos_leidos = json.load(file)"
   ]
  },
  {
   "cell_type": "code",
   "execution_count": null,
   "id": "a81ca8b2",
   "metadata": {},
   "outputs": [],
   "source": [
    "datos_leidos"
   ]
  },
  {
   "cell_type": "code",
   "execution_count": null,
   "id": "68fa5a84",
   "metadata": {},
   "outputs": [],
   "source": [
    "type(datos_leidos)"
   ]
  },
  {
   "cell_type": "code",
   "execution_count": null,
   "id": "ea4958a9",
   "metadata": {},
   "outputs": [],
   "source": [
    "with open(\"datos.json\", \"r\") as file:\n",
    "    datos_leidos_normal = file.read()\n",
    "\n",
    "type(datos_leidos_normal)"
   ]
  },
  {
   "cell_type": "markdown",
   "id": "f67847e8",
   "metadata": {},
   "source": [
    "### Libreria ``os``\n",
    "\n",
    "El modulo **``os``** nos permite realizar operaciones dependiente del Sistema Operativo, con este modulo vamos a ser capaces de recorrer los distintos directorios y ficheros del sistema.\n",
    "\n",
    "|Funciones                      |Descripción                                                                                    |\n",
    "|-------------------------------|-----------------------------------------------------------------------------------------------|\n",
    "|**``os.getcwd()``**                |Nos retorna la ruta en la que estamos trabajando en forma de string.                           |\n",
    "|**``os.chdir(path)``**             |Nos permite cambiar de ruta de trabajo, tiene como parametro la ruta a la que queremos cambiar.|\n",
    "|**``os.listdir()``**               |Nos retorna una lista con el nombre de los directorios y ficheros de esa ruta.                 |\n",
    "|**``os.mkdir(path)``**             |Crea un nuevo directorio en la ruta que le indiquemos.                                         |\n",
    "|**``os.rmdir(path)``**             |Elimina el directorio de la ruta que le indiquemos.                                            |\n",
    "|**``os.rename(nombre1, nombre2)``**|Renombra un archivo/directorio, toma 2 parametros, el nombre del objeto y el nuevo nombre.     |\n",
    "|**``os.stat(path)``**              |Retorna la información de ese archivo/fichero.                                                 |"
   ]
  },
  {
   "cell_type": "code",
   "execution_count": null,
   "id": "807218cf",
   "metadata": {},
   "outputs": [],
   "source": [
    "import os"
   ]
  },
  {
   "cell_type": "code",
   "execution_count": null,
   "id": "b66cfdd3",
   "metadata": {},
   "outputs": [],
   "source": [
    "os.getcwd()"
   ]
  },
  {
   "cell_type": "code",
   "execution_count": null,
   "id": "8f4c14e7",
   "metadata": {},
   "outputs": [],
   "source": [
    "os.chdir(\"..\")"
   ]
  },
  {
   "cell_type": "code",
   "execution_count": null,
   "id": "57a3932f",
   "metadata": {},
   "outputs": [],
   "source": [
    "os.getcwd()"
   ]
  },
  {
   "cell_type": "code",
   "execution_count": null,
   "id": "5de9d68d",
   "metadata": {
    "scrolled": true
   },
   "outputs": [],
   "source": [
    "os.listdir()"
   ]
  },
  {
   "cell_type": "code",
   "execution_count": null,
   "id": "8137df93",
   "metadata": {},
   "outputs": [],
   "source": [
    "os.mkdir(\"prueba_os\")"
   ]
  },
  {
   "cell_type": "code",
   "execution_count": null,
   "id": "a6aebc4a",
   "metadata": {},
   "outputs": [],
   "source": [
    "os.listdir()"
   ]
  },
  {
   "cell_type": "code",
   "execution_count": null,
   "id": "9eda6119",
   "metadata": {},
   "outputs": [],
   "source": [
    "os.rmdir(\"prueba_os\")"
   ]
  },
  {
   "cell_type": "code",
   "execution_count": null,
   "id": "bec966f4",
   "metadata": {},
   "outputs": [],
   "source": [
    "os.listdir()"
   ]
  },
  {
   "cell_type": "code",
   "execution_count": null,
   "id": "6305d5b9-de3d-49ae-acb2-cbfd238e6455",
   "metadata": {
    "tags": []
   },
   "outputs": [],
   "source": [
    "os.chdir(\"Notebooks Teoria\")"
   ]
  },
  {
   "cell_type": "code",
   "execution_count": null,
   "id": "ce3e26e7-1949-4000-8a8c-d736ec5744c3",
   "metadata": {
    "tags": []
   },
   "outputs": [],
   "source": [
    "os.listdir()"
   ]
  },
  {
   "cell_type": "code",
   "execution_count": null,
   "id": "67c19c7a",
   "metadata": {},
   "outputs": [],
   "source": [
    "os.rename(\"prueba_rename.txt\", \"archivo_prueba.txt\")"
   ]
  },
  {
   "cell_type": "code",
   "execution_count": null,
   "id": "e65f28a6",
   "metadata": {},
   "outputs": [],
   "source": [
    "os.listdir()"
   ]
  },
  {
   "cell_type": "code",
   "execution_count": null,
   "id": "c7383233",
   "metadata": {},
   "outputs": [],
   "source": [
    "os.stat(\"00.introduccion_python.ipynb\")"
   ]
  }
 ],
 "metadata": {
  "kernelspec": {
   "display_name": "Python 3",
   "language": "python",
   "name": "python3"
  },
  "language_info": {
   "codemirror_mode": {
    "name": "ipython",
    "version": 3
   },
   "file_extension": ".py",
   "mimetype": "text/x-python",
   "name": "python",
   "nbconvert_exporter": "python",
   "pygments_lexer": "ipython3",
   "version": "3.12.8"
  }
 },
 "nbformat": 4,
 "nbformat_minor": 5
}
