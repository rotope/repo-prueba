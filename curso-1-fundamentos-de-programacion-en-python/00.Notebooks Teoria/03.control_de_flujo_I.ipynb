{
 "cells": [
  {
   "cell_type": "markdown",
   "id": "17446dec",
   "metadata": {},
   "source": [
    "## Condicionales\n",
    "\n",
    "Las sentencias condicionales se usan para tomar decisiones, éstas evalúan una operación lógica (declaraciones o statements), es decir una expresión que de como resultado **``True``** o **``False``** , y ejecuta una pieza de código u otro dependiendo del resultado. **Dependiendo de la estructura del condicional se ejecutará o no una o varias lineas de código.**\n",
    "\n",
    "### ``if``\n",
    "\n",
    "Es la base del condicional, **``if``** evaluará si una declaración es **``True``** o **``False``** y, dependiendo del resultado, ejecutará una linea de código u otro.\n",
    "\n",
    "**Ejemplo:**"
   ]
  },
  {
   "cell_type": "code",
   "execution_count": null,
   "id": "bf1e8357",
   "metadata": {},
   "outputs": [],
   "source": [
    "edad = 18\n",
    "\n",
    "if edad >= 18:\n",
    "    print(\"Persona mayor de edad.\")"
   ]
  },
  {
   "cell_type": "code",
   "execution_count": null,
   "id": "a1c83fd5",
   "metadata": {},
   "outputs": [],
   "source": [
    "edad = 17\n",
    "\n",
    "if edad >= 18:\n",
    "    print(\"Persona mayor de edad.\")"
   ]
  },
  {
   "cell_type": "markdown",
   "id": "fa8a74c1",
   "metadata": {},
   "source": [
    "### ``else``\n",
    "\n",
    "Es el complemento del **``if``**, usando **``else``** podemos dar otro resultado si la condición no se cumple.\n",
    "\n",
    "**El condicional _``else``_ no es obligatorio y no necesita que le demos una declaración.**\n",
    "\n",
    "**Cuando se ejecuta el _``if``_ NO se ejecuta el _``else``_ y cuando NO se ejecuta el _``if``_ se ejecuta el _``else``_.**"
   ]
  },
  {
   "cell_type": "code",
   "execution_count": null,
   "id": "7e183140",
   "metadata": {},
   "outputs": [],
   "source": [
    "edad = 18\n",
    "\n",
    "if edad >= 18:\n",
    "    print(\"Persona mayor de edad.\")\n",
    "    \n",
    "else:\n",
    "    print(\"Condición no se cumple, persona menor de edad\")"
   ]
  },
  {
   "cell_type": "code",
   "execution_count": null,
   "id": "450e9802",
   "metadata": {},
   "outputs": [],
   "source": [
    "edad = 17\n",
    "\n",
    "if edad >= 18:\n",
    "    print(\"Persona mayor de edad.\")\n",
    "    \n",
    "else:\n",
    "    print(\"Condición no se cumple, persona menor de edad\")"
   ]
  },
  {
   "cell_type": "markdown",
   "id": "df11f27d",
   "metadata": {},
   "source": [
    "### ``elif``\n",
    "\n",
    "Abreviatura de _**else if**_, está nos ayuda a verificar diferentes comprobaciones, **es opcional usarlo y al igual que el _``if``_ necesita una condición para comprobar, podemos usar tantos _``elif``_ como queramos**."
   ]
  },
  {
   "cell_type": "code",
   "execution_count": null,
   "id": "5aca3084",
   "metadata": {},
   "outputs": [],
   "source": [
    "edad = 15\n",
    "\n",
    "if edad >= 18:\n",
    "    print(\"Persona mayor de edad.\")\n",
    "    \n",
    "elif edad == 17:\n",
    "    print(\"Persona menor de edad, con 17 años.\")\n",
    "    \n",
    "elif edad == 15:\n",
    "    print(\"Persona menor de edad, con 15 años.\")\n",
    "    \n",
    "elif edad == 13:\n",
    "    print(\"Persona menor de edad, con 13 años.\")\n",
    "    \n",
    "else:\n",
    "    print(\"Persona menor de 13 años.\")"
   ]
  },
  {
   "cell_type": "markdown",
   "id": "da44d3d8",
   "metadata": {},
   "source": [
    "### Condicionales anidados\n",
    "\n",
    "Al igual que las listas en Python, se pueden anidar condicionales, esto nos permite hacer código más complejo."
   ]
  },
  {
   "cell_type": "code",
   "execution_count": null,
   "id": "299af74f",
   "metadata": {},
   "outputs": [],
   "source": [
    "edad = 18\n",
    "direccion = \"Madrid\"\n",
    "\n",
    "if direccion == \"Madrid\":\n",
    "    \n",
    "    if edad >= 18:\n",
    "        print(\"Vive en Madrid, mayor de edad.\")\n",
    "        \n",
    "    elif (edad >= 15) and (edad < 18):\n",
    "        print(\"Vive en Madrid, menor de 18 pero mayor de 15 años.\")\n",
    "        \n",
    "    else:\n",
    "        print(\"Vive en Madrid, menor de 15 años.\")\n",
    "    \n",
    "else:\n",
    "    \n",
    "    print(\"No vive en Madrid.\")\n",
    "    \n",
    "    if edad >= 18:\n",
    "        print(\"Mayor de edad.\")\n",
    "    else:\n",
    "        print(\"Menor de edad\")"
   ]
  },
  {
   "cell_type": "markdown",
   "id": "b671f45c",
   "metadata": {},
   "source": [
    "## ``input()``\n",
    "\n",
    "La función _**input()**_ pide al usuario que ingrese por teclado un mensaje, puede ser una variable, un numero, una cadena de caracteres, una lista... Esta función SIEMPRE retorna una _**string**_, por lo que si el usuario ingresa un número tendremos que castearlo para poder usarlo como número."
   ]
  },
  {
   "cell_type": "code",
   "execution_count": null,
   "id": "9fd2a010",
   "metadata": {},
   "outputs": [],
   "source": [
    "input(\"Ingrese edad:\")"
   ]
  },
  {
   "cell_type": "code",
   "execution_count": null,
   "id": "74ef2a3b",
   "metadata": {},
   "outputs": [],
   "source": [
    "edad = input(\"Ingrese edad: \")"
   ]
  },
  {
   "cell_type": "code",
   "execution_count": null,
   "id": "d7e790c8",
   "metadata": {},
   "outputs": [],
   "source": [
    "print(edad)"
   ]
  },
  {
   "cell_type": "code",
   "execution_count": null,
   "id": "2ca104ef",
   "metadata": {},
   "outputs": [],
   "source": [
    "type(edad)"
   ]
  },
  {
   "cell_type": "code",
   "execution_count": null,
   "id": "7d29fb9d",
   "metadata": {},
   "outputs": [],
   "source": [
    "edad = int(input(\"Ingrese edad: \"))\n",
    "\n",
    "type(edad)"
   ]
  },
  {
   "cell_type": "code",
   "execution_count": null,
   "id": "163fcf59",
   "metadata": {},
   "outputs": [],
   "source": [
    "numeros = input(\"Ingresa una lista de numeros separados por espacios: \")"
   ]
  },
  {
   "cell_type": "code",
   "execution_count": null,
   "id": "175c1468",
   "metadata": {},
   "outputs": [],
   "source": [
    "numeros"
   ]
  },
  {
   "cell_type": "code",
   "execution_count": null,
   "id": "54fc22f7",
   "metadata": {},
   "outputs": [],
   "source": [
    "numeros = numeros.split(\" \")\n",
    "\n",
    "numeros"
   ]
  },
  {
   "cell_type": "markdown",
   "id": "95452715",
   "metadata": {},
   "source": [
    "## Bluces\n",
    "\n",
    "### ``while``\n",
    "\n",
    "Los bucles _**``while``**_ son bucles que se ejecutan siempre que se cumpla una condición, si la condición dejase de cumplirse el bucle se detendría.\n",
    "\n",
    "**Dentro del bucle podemos escribir cualquier tipo de codigo que queramos.**"
   ]
  },
  {
   "cell_type": "code",
   "execution_count": null,
   "id": "a023afcb",
   "metadata": {},
   "outputs": [],
   "source": [
    "i = 0\n",
    "\n",
    "while i < 5:\n",
    "    print(\"El valor de i es:\", i)\n",
    "    print(\"Es menor a 5.\")\n",
    "    print(\"***\"*10)\n",
    "    \n",
    "    i += 1"
   ]
  },
  {
   "cell_type": "code",
   "execution_count": null,
   "id": "0a48ba6e",
   "metadata": {},
   "outputs": [],
   "source": [
    "# No ejecutar\n",
    "\n",
    "# i = 0\n",
    "\n",
    "# while i < 5:\n",
    "#     print(\"El valor de i es:\", i)\n",
    "#     print(\"Es menor a 5.\")\n",
    "#     print(\"***\"*10)\n",
    "\n",
    "#     i + 1"
   ]
  },
  {
   "cell_type": "code",
   "execution_count": null,
   "id": "767a6b11",
   "metadata": {},
   "outputs": [],
   "source": [
    "i = 0\n",
    "nombre = \"Daniel\"\n",
    "\n",
    "while (i < 10) and (nombre == \"Daniel\"):\n",
    "    \n",
    "    if i % 2 == 0:\n",
    "        print(\"i es par\", i)\n",
    "        \n",
    "        nombre = input(\"Ingrese un nombre: \")\n",
    "    \n",
    "    i += 1"
   ]
  },
  {
   "cell_type": "markdown",
   "id": "edea07bb",
   "metadata": {},
   "source": [
    "### ``break``\n",
    "\n",
    "La palabra reservada _**``break``**_ detiene un bucle y continua con el código que va después del bucle."
   ]
  },
  {
   "cell_type": "code",
   "execution_count": null,
   "id": "dcdfb492",
   "metadata": {},
   "outputs": [],
   "source": [
    "i = 0\n",
    "\n",
    "while True:\n",
    "    print(i)\n",
    "    if i == 5:\n",
    "        break\n",
    "    \n",
    "    i += 1"
   ]
  },
  {
   "cell_type": "markdown",
   "id": "f1e14ab7",
   "metadata": {},
   "source": [
    "### ``continue``\n",
    "\n",
    "La palabra reservada _**``continue``**_ detiene una iteración y pasa inmediatamente a la siguiente."
   ]
  },
  {
   "cell_type": "code",
   "execution_count": null,
   "id": "3729e33b",
   "metadata": {},
   "outputs": [],
   "source": [
    "i = 0\n",
    "\n",
    "while i < 5:\n",
    "    if i == 3:\n",
    "        i += 1\n",
    "        continue\n",
    "\n",
    "    print(i)\n",
    "    i += 1"
   ]
  },
  {
   "cell_type": "markdown",
   "id": "6fa4122c",
   "metadata": {},
   "source": [
    "### ``for``\n",
    "\n",
    "Los bucles **``for``** son utilizados cuando se quiere **repetir un bloque de código un número determinado de veces** por lo que en algún momento el bucle se detiene.\n",
    "\n",
    "En python, podemos usar los bucles **``for``** para recorrer cualquier objeto iterable (tuplas, listas, diccionarios, strings, ...) y para hacerlo \"creamos\" una variable para el bucle.\n",
    "\n",
    "Existe la función ``range()`` que crea objetos iterables que podemos usar en el bucle.\n",
    "\n",
    "La principal diferencia con el bucle **``for``** es que el bucle **``while``** necesita una condición para poder ejecutarse y no se detendrá hasta que la condición sea **``False``**, es decir, puede ejecutarse un número variable de veces o incluso nunca detenerse."
   ]
  },
  {
   "cell_type": "code",
   "execution_count": null,
   "id": "0a5249f6",
   "metadata": {},
   "outputs": [],
   "source": [
    "for i in range(10):\n",
    "    print(i)"
   ]
  },
  {
   "cell_type": "code",
   "execution_count": null,
   "id": "4d140ffe",
   "metadata": {},
   "outputs": [],
   "source": [
    "for i in range(5, 15):\n",
    "    print(i)"
   ]
  },
  {
   "cell_type": "code",
   "execution_count": null,
   "id": "20098415",
   "metadata": {},
   "outputs": [],
   "source": [
    "for i in range(5, 15, 2):\n",
    "    print(i)"
   ]
  },
  {
   "cell_type": "code",
   "execution_count": null,
   "id": "9af67eca",
   "metadata": {},
   "outputs": [],
   "source": [
    "lista = [1, 10, 100, 1000, 10000, 100000]\n",
    "\n",
    "for numero in lista:\n",
    "    print(numero)"
   ]
  },
  {
   "cell_type": "code",
   "execution_count": null,
   "id": "e31e807e",
   "metadata": {},
   "outputs": [],
   "source": [
    "string = \"Hola Mundo\"\n",
    "\n",
    "for i in string:\n",
    "    print(i)"
   ]
  },
  {
   "cell_type": "code",
   "execution_count": null,
   "id": "cf8871d9",
   "metadata": {},
   "outputs": [],
   "source": [
    "for i in range(30):\n",
    "    \n",
    "    if i % 2 == 0:\n",
    "        print(\"El numero\", i, \"es par.\")\n",
    "        \n",
    "    else:\n",
    "        print(\"El numero\", i, \"es impar.\")"
   ]
  },
  {
   "cell_type": "code",
   "execution_count": null,
   "id": "dcb9279d",
   "metadata": {},
   "outputs": [],
   "source": [
    "string = \"Hola mundo\"\n",
    "\n",
    "for letra in string:\n",
    "    \n",
    "    if letra == \"a\" or letra == \"e\" or letra == \"i\" or letra == \"o\" or letra == \"u\":\n",
    "        print(\"Vocal.\", letra)\n",
    "    \n",
    "    else:\n",
    "        print(\"Consonante.\", letra)"
   ]
  },
  {
   "cell_type": "markdown",
   "id": "fe129212",
   "metadata": {},
   "source": [
    "### ``in``\n",
    "\n",
    "La palabra reservada **`in`** evalua como **`True`** si en la colección de la derecha existe un valor igual al valor de la izquierda."
   ]
  },
  {
   "cell_type": "code",
   "execution_count": null,
   "id": "872ff054",
   "metadata": {},
   "outputs": [],
   "source": [
    "string = \"Hola mundo\"\n",
    "\n",
    "for letra in string:\n",
    "    \n",
    "    if letra in \"aeiou\":\n",
    "        print(\"Vocal.\", letra)\n",
    "    \n",
    "    else:\n",
    "        print(\"Consonante.\", letra)"
   ]
  },
  {
   "cell_type": "markdown",
   "id": "c706a6e5",
   "metadata": {},
   "source": [
    "**Esta forma de recorrer bucles _``for``_ sobre objetos iterables tiene una sintaxis única, es decir, solo se puede hacer en python.**\n",
    "\n",
    "**Si quisieramos recorrer un bucle como lo hacen en otros lenguajes podemos hacer uso de los indices de los elementos usando las funciones _``range()``_ y _``len()``_.**"
   ]
  },
  {
   "cell_type": "code",
   "execution_count": null,
   "id": "f748202f",
   "metadata": {},
   "outputs": [],
   "source": [
    "string = \"Hola Mundo\"\n",
    "\n",
    "for i in range(len(string)):\n",
    "    print(string[i])"
   ]
  },
  {
   "cell_type": "code",
   "execution_count": null,
   "id": "8c9b67f2",
   "metadata": {},
   "outputs": [],
   "source": [
    "lista = [1, 10, 100, 1000, 10000, 100000]\n",
    "\n",
    "for i in range(len(lista)):\n",
    "    print(lista[i])"
   ]
  },
  {
   "cell_type": "markdown",
   "id": "ba4b7092",
   "metadata": {},
   "source": [
    "### ``for`` y ``list``\n",
    "\n",
    "Los bucles **``for``** se usan en conjunto con las listas para agregar o quitar elementos."
   ]
  },
  {
   "cell_type": "code",
   "execution_count": null,
   "id": "6061f885",
   "metadata": {},
   "outputs": [],
   "source": [
    "lista = []  # Lista vacia\n",
    "\n",
    "for i in range(10):\n",
    "    lista.append(i)\n",
    "    \n",
    "lista"
   ]
  },
  {
   "cell_type": "code",
   "execution_count": null,
   "id": "503a2830",
   "metadata": {},
   "outputs": [],
   "source": [
    "lista = []\n",
    "\n",
    "string = \"Hola Mundo!!!!!!\"\n",
    "\n",
    "for letra in string:\n",
    "    lista.append(letra)\n",
    "    \n",
    "    \n",
    "print(lista)"
   ]
  },
  {
   "cell_type": "code",
   "execution_count": null,
   "id": "217022a1",
   "metadata": {},
   "outputs": [],
   "source": [
    "lista = []\n",
    "\n",
    "string = \"Hola Mundo!!!!!!\"\n",
    "\n",
    "for letra in string:\n",
    "    lista.append(letra.upper())\n",
    "    \n",
    "    \n",
    "print(lista)"
   ]
  },
  {
   "cell_type": "code",
   "execution_count": null,
   "id": "0a8d2a4b",
   "metadata": {},
   "outputs": [],
   "source": [
    "# También podemos usar condicionales\n",
    "\n",
    "lista = []\n",
    "\n",
    "string = \"cadena con varias letras a\"\n",
    "\n",
    "for letra in string:\n",
    "    if letra != \"a\":\n",
    "        lista.append(letra)\n",
    "        \n",
    "lista"
   ]
  },
  {
   "cell_type": "markdown",
   "id": "ea7fc6b7",
   "metadata": {},
   "source": [
    "### Bucles anidados\n",
    "\n",
    "Como muchas cosas en Python, se pueden anidar bucles. Dependiendo del bucle, esto puede alargar el tiempo de ejecución."
   ]
  },
  {
   "cell_type": "code",
   "execution_count": null,
   "id": "e0e293f2",
   "metadata": {},
   "outputs": [],
   "source": [
    "for i in range(5):\n",
    "    \n",
    "    for j in range(5):\n",
    "        \n",
    "        print(i, j)"
   ]
  },
  {
   "cell_type": "code",
   "execution_count": null,
   "id": "d6b58423",
   "metadata": {},
   "outputs": [],
   "source": [
    "string_1 = \"hola\"\n",
    "string_2 = \"mundo\"\n",
    "\n",
    "for i in string_1:\n",
    "    \n",
    "    for j in string_2:\n",
    "        \n",
    "        print(i, j)"
   ]
  },
  {
   "cell_type": "markdown",
   "id": "209d52b3",
   "metadata": {},
   "source": [
    "### ``zip()`` y ``enumerate()``\n",
    "\n",
    "- _``zip()``_: Esta función toma como argumento objetos iterables para recorrerlos al mismo tiempo en un bucle."
   ]
  },
  {
   "cell_type": "code",
   "execution_count": null,
   "id": "12673b14",
   "metadata": {},
   "outputs": [],
   "source": [
    "lista_1 = [\"a\", \"b\", \"c\", \"d\", \"e\"]\n",
    "lista_2 = [1, 2, 3, 4, 5]\n",
    "\n",
    "for i, j in zip(lista_1, lista_2):\n",
    "    print(i, j)"
   ]
  },
  {
   "cell_type": "code",
   "execution_count": null,
   "id": "62050d93",
   "metadata": {},
   "outputs": [],
   "source": [
    "lista_1 = [\"a\", \"b\", \"c\", \"d\", \"e\"]\n",
    "lista_2 = [1, 2, 3, 4, 5]\n",
    "\n",
    "for elem in zip(lista_1, lista_2):\n",
    "    print(elem, type(elem))"
   ]
  },
  {
   "cell_type": "markdown",
   "id": "15d98b32",
   "metadata": {},
   "source": [
    "**Si alguna de las dos listas es mas grande que otra, el bucle con _``zip()``_ se detendrá cuando la lista mas corta termine.**"
   ]
  },
  {
   "cell_type": "code",
   "execution_count": null,
   "id": "12c14cb0",
   "metadata": {},
   "outputs": [],
   "source": [
    "lista_1 = [\"a\", \"b\", \"c\", \"d\", \"e\"]\n",
    "lista_2 = [1, 2, 3, 4, 5, 6, 7, 8, 9, 10, 11, 12, 13, 14, 15]\n",
    "\n",
    "for i, j in zip(lista_1, lista_2):\n",
    "    print(i, j)"
   ]
  },
  {
   "cell_type": "markdown",
   "id": "edefd44d",
   "metadata": {},
   "source": [
    "- _``enumerate()``_: Esta función \"crea\" un índice utilizando un objeto iterable, se usa en conjunto con los bucles para tener un tipo de \"contador\"."
   ]
  },
  {
   "cell_type": "code",
   "execution_count": null,
   "id": "5dc00e4d",
   "metadata": {},
   "outputs": [],
   "source": [
    "lista = [\"a\", \"b\", \"c\", \"d\", \"e\"]\n",
    "\n",
    "for enum, letra in enumerate(lista):\n",
    "    print(enum, letra)"
   ]
  },
  {
   "cell_type": "markdown",
   "id": "8ca4ccd8",
   "metadata": {},
   "source": [
    "**Si quisieramos, podriamos comenzar el contador en otro número**"
   ]
  },
  {
   "cell_type": "code",
   "execution_count": null,
   "id": "abaa0b40",
   "metadata": {},
   "outputs": [],
   "source": [
    "lista = [\"a\", \"b\", \"c\", \"d\", \"e\"]\n",
    "\n",
    "for enum, letra in enumerate(lista, start = 100):\n",
    "    print(enum, letra)"
   ]
  },
  {
   "cell_type": "markdown",
   "id": "3fb0de2d",
   "metadata": {},
   "source": [
    "- La operación de asignación que hacemos dentro de estos bucles se conoce como _**desempaquetado**_, ya que permite desempaquetar los elementos de cualquier _**iterable**_ de dimensiones conocidas, y se puede realizar fuera de los bucles."
   ]
  },
  {
   "cell_type": "code",
   "execution_count": null,
   "id": "b217df2d",
   "metadata": {},
   "outputs": [],
   "source": [
    "a = 10\n",
    "b = 15\n",
    "print(a, b)"
   ]
  },
  {
   "cell_type": "code",
   "execution_count": null,
   "id": "03f94b48",
   "metadata": {},
   "outputs": [],
   "source": [
    "a, b = 13, 14\n",
    "print(a, b)"
   ]
  },
  {
   "cell_type": "code",
   "execution_count": null,
   "id": "acd5500b",
   "metadata": {},
   "outputs": [],
   "source": [
    "z = 13, 14 # ¡Esto es una tupla! ¡¡¡Los paréntesis son opcionales!!!\n",
    "print(z, type(z))"
   ]
  },
  {
   "cell_type": "code",
   "execution_count": null,
   "id": "d0fae4cd",
   "metadata": {},
   "outputs": [],
   "source": [
    "a, b, c, d = 1, 2, 3, 4\n",
    "\n",
    "print(a, b, c, d)"
   ]
  },
  {
   "cell_type": "code",
   "execution_count": null,
   "id": "766e8cba",
   "metadata": {},
   "outputs": [],
   "source": [
    "a, b = 1, 2, 3 # Error"
   ]
  },
  {
   "cell_type": "code",
   "execution_count": null,
   "id": "465a45ab",
   "metadata": {},
   "outputs": [],
   "source": [
    "a, b, c = 1, 2 # Error"
   ]
  },
  {
   "cell_type": "markdown",
   "id": "32614268",
   "metadata": {},
   "source": [
    "### ``for`` y ``dict``\n",
    "\n",
    "Podemos usar bucles para crear e iterar sobre diccionarios"
   ]
  },
  {
   "cell_type": "code",
   "execution_count": null,
   "id": "6fb222f5",
   "metadata": {},
   "outputs": [],
   "source": [
    "dict_vacio = {}\n",
    "\n",
    "lista = [\"a\", \"b\", \"c\", \"d\", \"e\", \"f\"]\n",
    "\n",
    "for i, valor in enumerate(lista):\n",
    "    dict_vacio[i] = valor\n",
    "    \n",
    "    \n",
    "print(dict_vacio)"
   ]
  },
  {
   "cell_type": "code",
   "execution_count": null,
   "id": "e87a4c82",
   "metadata": {},
   "outputs": [],
   "source": [
    "dict_vacio = {}\n",
    "\n",
    "string = \"abcdefg\"\n",
    "lista = [1, 2, 3, 4, 5, 6, 7]\n",
    "\n",
    "for llave, valor in zip(string, lista):\n",
    "    dict_vacio[llave] = valor\n",
    "    \n",
    "print(dict_vacio)"
   ]
  },
  {
   "cell_type": "markdown",
   "id": "dbc76d00",
   "metadata": {},
   "source": [
    "**Para recorrer un diccionario tenemos diferentes formas:**\n",
    "1. Usando **`.keys()`**: Recorre solamente las llaves del diccionario.\n",
    "2. Usando **`.values()`**: Recorre solamente los valores del diccionario.\n",
    "3. Usando **`.items()`**: Recorre las llaves y los valores del diccionario."
   ]
  },
  {
   "cell_type": "code",
   "execution_count": null,
   "id": "08331c97",
   "metadata": {},
   "outputs": [],
   "source": [
    "# Solo las llaves\n",
    "dict_vacio.keys()"
   ]
  },
  {
   "cell_type": "code",
   "execution_count": null,
   "id": "6909afc6",
   "metadata": {},
   "outputs": [],
   "source": [
    "for llave in dict_vacio.keys():\n",
    "    print(llave)"
   ]
  },
  {
   "cell_type": "code",
   "execution_count": null,
   "id": "12c9633c",
   "metadata": {},
   "outputs": [],
   "source": [
    "# Solo los valores\n",
    "dict_vacio.values()"
   ]
  },
  {
   "cell_type": "code",
   "execution_count": null,
   "id": "b5b45fcc",
   "metadata": {},
   "outputs": [],
   "source": [
    "for valor in dict_vacio.values():\n",
    "    print(valor)"
   ]
  },
  {
   "cell_type": "code",
   "execution_count": null,
   "id": "fa0f1434",
   "metadata": {},
   "outputs": [],
   "source": [
    "# LLaves y valores\n",
    "dict_vacio.items()"
   ]
  },
  {
   "cell_type": "code",
   "execution_count": null,
   "id": "561209c2",
   "metadata": {},
   "outputs": [],
   "source": [
    "for llave, valor in dict_vacio.items():\n",
    "    print(llave, valor)"
   ]
  },
  {
   "cell_type": "code",
   "execution_count": null,
   "id": "02cda025",
   "metadata": {},
   "outputs": [],
   "source": [
    "##############################################################################################################################"
   ]
  }
 ],
 "metadata": {
  "kernelspec": {
   "display_name": "Python 3",
   "language": "python",
   "name": "python3"
  },
  "language_info": {
   "codemirror_mode": {
    "name": "ipython",
    "version": 3
   },
   "file_extension": ".py",
   "mimetype": "text/x-python",
   "name": "python",
   "nbconvert_exporter": "python",
   "pygments_lexer": "ipython3",
   "version": "3.12.8"
  }
 },
 "nbformat": 4,
 "nbformat_minor": 5
}
