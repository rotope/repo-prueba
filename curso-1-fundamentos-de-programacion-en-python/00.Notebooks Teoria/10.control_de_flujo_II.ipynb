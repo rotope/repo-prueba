{
 "cells": [
  {
   "cell_type": "markdown",
   "id": "c00de223-3837-4cde-841e-baed26c82f26",
   "metadata": {},
   "source": [
    "## Excepciones en Python\n",
    "\n",
    "Las excepciones son, en esencia, errores. Cuando Python arroja una excepción, la ejecución del código se detiene y nuestro programa termina.\n",
    "\n",
    "Existen muchos tipos diferentes de errores, algunos incluso propios de alguna librería, y aquí veremos los más comunes que nos podremos encontrar.\n",
    "\n",
    "En este notebook la palabra excepción y error se usan como sinónimos."
   ]
  },
  {
   "cell_type": "markdown",
   "id": "2e7191cc-0186-4975-ba85-43d52072e0a4",
   "metadata": {},
   "source": [
    "## Anatomía de una excepción"
   ]
  },
  {
   "cell_type": "code",
   "execution_count": null,
   "id": "840e0a00-5317-47dc-9809-dcf4f4b74263",
   "metadata": {},
   "outputs": [],
   "source": [
    "def funcion1(val):\n",
    "    print(val)\n",
    "\n",
    "def funcion2(val):\n",
    "    new_val = val / 2\n",
    "    funcion1(new_val)\n",
    "\n",
    "funcion2(\"4\")"
   ]
  },
  {
   "cell_type": "markdown",
   "id": "65ef3ffe-3814-4179-8938-97eb5917c223",
   "metadata": {},
   "source": [
    "Las excepciones están compuestas por dos componentes principales:\n",
    "- _**Tipo de error**_: lo veremos al comienzo, y también al final, donde además veremos un mensaje que nos puede dar una pista sobre lo que hemos podido hacer mal. En este caso estamos ante un `TypeError`.\n",
    "\n",
    "  _**Es muy importante fijarse en el tipo de excepción y en el mensaje, pues en muchas ocasiones contienen la información más importante para entender el problema y llegar a una solución.**_\n",
    "- _**Traceback**_: es el cuerpo de la excepción y nos guía por el orden de ejecución de las funciones hasta llegar a la última función de todas, que es donde el código ha dejado de funcionar. Existe un tipo de excepción especial, `SyntaxError` que no contiene traceback.\n",
    "\n",
    "  Si seguimos las funciones del traceback de arriba hacia abajo, veremos que en cada función se señala la línea de código exacta donde ocurre el error. Cuando llegamos a la última función de todas, viendo donde ocurre el error, el tipo de error y el mensaje, normalmente seremos capaces de solucionarlo con relativa rapidez.\n",
    "\n",
    "En este caso obtenemos un `TypeError` que nos indica que estamos intentando operar con dos tipos de variable incompatibles. El mensaje nos detalla que no se puede realizar una división con `/` entre una variable de tipo `str` e `int`. Por último, vemos que el error ocurre en la línea 5 de nuestra celda, donde estamos ejecutando `val / 2`. De ahí podemos deducir que val es de tipo `str`, por lo que estamos usando la función de una manera incorrecta. Aquí una solución:"
   ]
  },
  {
   "cell_type": "code",
   "execution_count": null,
   "id": "48ec694a-e4e3-40d2-ad41-a5b4b124e791",
   "metadata": {},
   "outputs": [],
   "source": [
    "funcion2(4) # Ahora funciona"
   ]
  },
  {
   "cell_type": "markdown",
   "id": "6312ee06-9055-4f6e-8571-16ce52bfa486",
   "metadata": {},
   "source": [
    "## Tipos de excepciones\n",
    "\n",
    "| Excepción | Descripción |\n",
    "|-----------|-------------|\n",
    "| SyntaxError | Ocurre cuando alguna parte del código que hemos escrito no sigue las reglas de sintaxis de Python |\n",
    "| TypeError | Ocurre cuando realizamos alguna operación entre tipos de variables incompatibles |\n",
    "| NameError | Ocurre cuando referenciamos alguna variable o función que no está declarada/definida |\n",
    "| AttributeError | Ocurre cuando intentamos acceder a un atributo o método de una clase que no existen |\n",
    "| ZeroDivisionError | Ocurre cuando intentamos dividir entre 0 |\n",
    "| IndexError | Ocurre cuando hacemos un indexado imposible (ej: fuera de rango) |\n",
    "| KeyError | Parecido al IndexError, pero usado con objetos que guardan claves y valores, como los diccionarios |\n",
    "| AssertionError | Ocurre al incumplirse la condición de un `assert` |\n",
    "| ModuleNotFoundError | Ocurre cuando intentamos importar algún módulo o librería que no existe o no tenemos instalada |\n",
    "| ImportError | Ocurre cuando intentamos importar algún elemento de un módulo o librería que no existe o no se puede importar |\n",
    "| KeyboardInterrupt | Ocurre cuando paramos la ejecución de nuestro código de forma manual |\n",
    "| MemoryError | Ocurre cuando no tenemos suficiente memoria RAM para ejecutar el código |\n",
    "| IndentationError | Ocurre cuando tenemos un bloque de código mal indentado |\n",
    "| ValueError | Ocurre cuando estamos utilizando un valor erroneo en alguna función |\n",
    "\n",
    "_**Nota: existen muchos más tipos de excepciones, las de la tabla son las más comunes**_"
   ]
  },
  {
   "cell_type": "markdown",
   "id": "4c0c53b1-e2fc-4119-876e-6196cec35a06",
   "metadata": {},
   "source": [
    "## `assert`"
   ]
  },
  {
   "cell_type": "markdown",
   "id": "a1b3233e-2019-4e29-b551-f81a8d414db5",
   "metadata": {},
   "source": [
    "La palabra clave `assert` en Python sirve para comprobar si una condición es verdadera o no. En caso de ser falsa, arroja una excepción de tipo `AssertionError`. Es muy útil si existen partes en nuestro código donde es crítico que algo funcione de una determinada manera, de lo contrario queremos crashear. Por ejemplo, justo antes de enviar datos a una base de datos."
   ]
  },
  {
   "cell_type": "code",
   "execution_count": null,
   "id": "5da4c36c-c62a-45e4-b9a1-9e29e21b65cf",
   "metadata": {},
   "outputs": [],
   "source": [
    "# Arroja excepción\n",
    "\n",
    "division = 10 / 2\n",
    "resultado = 3\n",
    "assert division == resultado"
   ]
  },
  {
   "cell_type": "code",
   "execution_count": null,
   "id": "43d98819-20e7-4e6b-ae4d-d10e8fc7e53c",
   "metadata": {},
   "outputs": [],
   "source": [
    "# No arroja excepción\n",
    "\n",
    "division = 10 / 2\n",
    "resultado = 5\n",
    "assert division == resultado"
   ]
  },
  {
   "cell_type": "code",
   "execution_count": null,
   "id": "abac02b8-0630-4d53-ade1-8180a7f09321",
   "metadata": {},
   "outputs": [],
   "source": [
    "# Podemos incluir un mensaje de error\n",
    "\n",
    "division = 10 / 2\n",
    "resultado = 3\n",
    "assert division == resultado, f\"La división no es igual a {resultado}\""
   ]
  },
  {
   "cell_type": "markdown",
   "id": "d3aa319e-62c9-42da-a1f8-200c759d2d85",
   "metadata": {},
   "source": [
    "## `raise`"
   ]
  },
  {
   "cell_type": "markdown",
   "id": "62231daa-c224-4c33-b51e-e7d8e443015c",
   "metadata": {},
   "source": [
    "La palabra clave `raise` en Python nos permite arrojar una excepción de cualquier tipo. Es bastante más informativa que un `assert`, pero tenemos que dedicarle un tiempo a pensar en el tipo de error que queremos arrojar."
   ]
  },
  {
   "cell_type": "code",
   "execution_count": null,
   "id": "7ba48512-b9f8-47ed-8ec0-91ea51f409ad",
   "metadata": {},
   "outputs": [],
   "source": [
    "# Arroja un ValueError\n",
    "\n",
    "raise ValueError(\"Esto es un ValueError\")"
   ]
  },
  {
   "cell_type": "code",
   "execution_count": null,
   "id": "ff4fc263-5929-4bd6-9e37-8e4eee6894cf",
   "metadata": {},
   "outputs": [],
   "source": [
    "# Arroja un TypeError\n",
    "\n",
    "raise TypeError(\"Esto es un TypeError\")"
   ]
  },
  {
   "cell_type": "code",
   "execution_count": null,
   "id": "ae604a77-2837-47fd-b51e-f5a8beec34d8",
   "metadata": {},
   "outputs": [],
   "source": [
    "# Arroja un KeyboardInterrupt\n",
    "\n",
    "raise KeyboardInterrupt(\"Esto es un KeyboardInterrupt\")"
   ]
  },
  {
   "cell_type": "markdown",
   "id": "8887f059-ec24-4c1b-a7ec-388607ed079a",
   "metadata": {},
   "source": [
    "## `Exception`"
   ]
  },
  {
   "cell_type": "markdown",
   "id": "76d60e2a-d89f-4716-9858-0d9b74a5aa9b",
   "metadata": {},
   "source": [
    "En Python todas las excepciones son clases que heredan de la clase básica `Exception`. Podemos crear nueastras propias excepciones con nombres más informativos y mensajes por defecto si lo necesitamos."
   ]
  },
  {
   "cell_type": "code",
   "execution_count": null,
   "id": "4008d96b-915a-4c67-8ba9-e5ab73f42db9",
   "metadata": {},
   "outputs": [],
   "source": [
    "class MiExcepcion(Exception):\n",
    "\n",
    "    def __init__(self, msg=\"Mensaje por defecto de la excepción\"):\n",
    "        super().__init__(msg)"
   ]
  },
  {
   "cell_type": "code",
   "execution_count": null,
   "id": "76be3cbf-5623-4a23-bab1-7b60ab2e3d13",
   "metadata": {},
   "outputs": [],
   "source": [
    "raise MiExcepcion()"
   ]
  },
  {
   "cell_type": "code",
   "execution_count": null,
   "id": "065b9a30-7600-45a5-a63c-1dc854e3f6fb",
   "metadata": {},
   "outputs": [],
   "source": [
    "raise MiExcepcion(\"Otro mensaje\")"
   ]
  },
  {
   "cell_type": "markdown",
   "id": "3ccf59e5-04c4-4cb9-8a98-d8c12bde7865",
   "metadata": {},
   "source": [
    "## `try-except-finally`"
   ]
  },
  {
   "cell_type": "markdown",
   "id": "bd20a44e-b094-4f94-ad2b-83dd7d96180e",
   "metadata": {},
   "source": [
    "Las expresiones de `try`, `except` y `finally` nos permiten manejar las posibles excepciones de nuestro código para no tener que necesariamente detener la ejecución en caso de obtener un error.\n",
    "\n",
    "- _**`try`**_: Python intentará ejecutar el código que esté indentado debajo de esta expresión.\n",
    "- _**`except`**_: Si en algún momento ocurre un error en el bloque de `try`, la ejecución del código no se detendrá, sino que automáticamente se ejecutará el bloque de `except`. Dentro del `except` también pueden ocurrir errores, y estos sí que detendrán la ejecución si no se utiliza otra expresión `try-except` más. Este bloque puede ir solo o acompañado del tipo de error concreto para el que queremos hacer la excepción.\n",
    "- _**`finally`**_: Este bloque es opcional, y se ejecutará _**siempre**_, sin importar si ha ocurrido algún error o no. Es una manera que tenemos de asegurarnos de que se ejecute un código esencial sí o sí."
   ]
  },
  {
   "cell_type": "code",
   "execution_count": null,
   "id": "bdcd994a-7c90-4910-8bed-e30e0a2b96c4",
   "metadata": {},
   "outputs": [],
   "source": [
    "# Ejemplo genérico\n",
    "\n",
    "try:\n",
    "    print(\"Hola Mundo\")\n",
    "    adios = \"7\"\n",
    "    print(hola)\n",
    "    print(adios)\n",
    "except:\n",
    "    print(\"Ocurrió un error\")"
   ]
  },
  {
   "cell_type": "code",
   "execution_count": null,
   "id": "c2d96bbf-ba14-4d28-bd98-22de3c4bddc0",
   "metadata": {},
   "outputs": [],
   "source": [
    "# Especificando tipo de error\n",
    "\n",
    "try:\n",
    "    print(\"Hola Mundo\")\n",
    "    adios = \"7\"\n",
    "    print(hola)\n",
    "    print(adios)\n",
    "except NameError:\n",
    "    print(\"Ocurrió un error\")"
   ]
  },
  {
   "cell_type": "code",
   "execution_count": null,
   "id": "2094d4a9-77b8-4c31-bbf9-b2721e9c0aab",
   "metadata": {},
   "outputs": [],
   "source": [
    "# Especificando tipo de error equivocado\n",
    "\n",
    "try:\n",
    "    print(\"Hola Mundo\")\n",
    "    adios = \"7\"\n",
    "    print(hola)\n",
    "    print(adios)\n",
    "except ValueError:\n",
    "    print(\"Ocurrió un error\")"
   ]
  },
  {
   "cell_type": "code",
   "execution_count": null,
   "id": "15dfb54c-912c-4854-a3b0-21344d5500e0",
   "metadata": {},
   "outputs": [],
   "source": [
    "# Múltiples tipos de error\n",
    "\n",
    "try:\n",
    "    print(\"Hola Mundo\")\n",
    "    adios = \"7\"\n",
    "    print(hola)\n",
    "    print(adios)\n",
    "    import database # Nueva línea con error\n",
    "except (NameError, ModuleNotFoundError):\n",
    "    print(\"Ocurrió un error\")"
   ]
  },
  {
   "cell_type": "code",
   "execution_count": null,
   "id": "2a507d04-1e98-4336-aba2-51ab0d6dcbc8",
   "metadata": {},
   "outputs": [],
   "source": [
    "# Múltiples tipos de error\n",
    "\n",
    "try:\n",
    "    print(\"Hola Mundo\")\n",
    "    adios = \"7\"\n",
    "    print(hola)\n",
    "    print(adios)\n",
    "    import database\n",
    "except ModuleNotFoundError:\n",
    "    print(\"Error tipo ModuleNotFoundError\")\n",
    "except NameError:\n",
    "    print(\"Error tipo NameError\")"
   ]
  },
  {
   "cell_type": "code",
   "execution_count": null,
   "id": "549753d7-0be2-4a5f-9268-756bfbab7788",
   "metadata": {},
   "outputs": [],
   "source": [
    "# Múltiples tipos de error\n",
    "\n",
    "try:\n",
    "    print(\"Hola Mundo\")\n",
    "    adios = \"7\"\n",
    "    import database # Ahora el ModuleNotFoundError ocurre primero\n",
    "    print(hola)\n",
    "    print(adios)\n",
    "except ModuleNotFoundError:\n",
    "    print(\"Error tipo ModuleNotFoundError\")\n",
    "except NameError:\n",
    "    print(\"Error tipo NameError\")"
   ]
  },
  {
   "cell_type": "markdown",
   "id": "8f95a35d-cb80-44bd-a9ee-41f3c2bdbf1e",
   "metadata": {},
   "source": [
    "- Podemos utilizar la palabra clave `as` para guardar la excepción en una variable, similar a cuando usamos un alias en importes de tipo `import ... as ...` o cuando lo usamos con las expresiones `with ... as ...`."
   ]
  },
  {
   "cell_type": "code",
   "execution_count": null,
   "id": "0021d64a-dc31-4bc9-83e3-4b61fd84a5dd",
   "metadata": {},
   "outputs": [],
   "source": [
    "try:\n",
    "    print(\"Hola Mundo\")\n",
    "    adios = \"7\"\n",
    "    print(hola)\n",
    "    print(adios)\n",
    "except NameError as err:\n",
    "    print(\"Ocurrió un error\")\n",
    "    print(f\"Tipo de error <{type(err)}>\")\n",
    "    print(f\"Mensaje del error <{err}>\")"
   ]
  },
  {
   "cell_type": "markdown",
   "id": "e46c8420-b515-49eb-a6c1-7d827c4c4d5f",
   "metadata": {},
   "source": [
    "- Ejemplo de uso de `finally`"
   ]
  },
  {
   "cell_type": "code",
   "execution_count": null,
   "id": "5a3361a1-fb13-4b46-954b-00983afedcb9",
   "metadata": {},
   "outputs": [],
   "source": [
    "try:\n",
    "    print(\"Hola Mundo\")\n",
    "    adios = \"7\"\n",
    "    print(hola)\n",
    "    print(adios)\n",
    "except NameError as err:\n",
    "    print(\"Ocurrió un error\")\n",
    "    print(f\"Tipo de error <{type(err)}>\")\n",
    "    print(f\"Mensaje del error <{err}>\")\n",
    "finally:\n",
    "    print(\"El `finally` se ejecuta SIEMPRE\")"
   ]
  },
  {
   "cell_type": "code",
   "execution_count": null,
   "id": "dfc27e73-bb2b-4287-9c0e-d55c52525776",
   "metadata": {},
   "outputs": [],
   "source": [
    "try:\n",
    "    print(\"Hola Mundo\")\n",
    "except NameError as err:\n",
    "    print(\"Ocurrió un error\")\n",
    "    print(f\"Tipo de error <{type(err)}>\")\n",
    "    print(f\"Mensaje del error <{err}>\")\n",
    "finally:\n",
    "    print(\"El `finally` se ejecuta SIEMPRE\")"
   ]
  },
  {
   "cell_type": "code",
   "execution_count": null,
   "id": "28371abd-bb69-4546-bc6b-436309dd4da3",
   "metadata": {},
   "outputs": [],
   "source": [
    "try:\n",
    "    print(\"Hola Mundo\")\n",
    "    adios = \"7\"\n",
    "    print(hola)\n",
    "    print(adios)\n",
    "except NameError as err:\n",
    "    print(\"Ocurrió un error\")\n",
    "    print(f\"Tipo de error <{type(err)}>\")\n",
    "    print(f\"Mensaje del error <{err}>\")\n",
    "\n",
    "    raise Exception(\"Un error dentro del bloque except\")\n",
    "finally:\n",
    "    print(\"El `finally` se ejecuta SIEMPRE\")"
   ]
  },
  {
   "cell_type": "markdown",
   "id": "9e7b4660-71f4-4f33-82a2-f581c5745298",
   "metadata": {},
   "source": [
    "- Podemos observar también que cuando obtenemos un error dentro de un bloque `except`, el _**traceback**_ nos guía por todos los errores que se arrojaron, incluso los que ocurrieron dentro de un bloque `try`. Esto es algo bastante común, especialmente cuando usamos librerías externas, y también puede ser algo más difícil de navegar."
   ]
  },
  {
   "cell_type": "markdown",
   "id": "ff2d8ea2",
   "metadata": {},
   "source": [
    "### `with` y `as`\n",
    "\n",
    "La palabra reservada `with` nos permite utilizar lo que se conoce en Python como _**context managers**_. Estos nos permiten generar un contexto de ejecución que se termina limpiando al salir del bloque, incluso ante un error, por lo que no necesitamos utilizar `finally`. A continuación un ejemplo práctico:"
   ]
  },
  {
   "cell_type": "code",
   "execution_count": null,
   "id": "e8932ff8-a4b9-4f26-8838-7a9c3d08cb2e",
   "metadata": {},
   "outputs": [],
   "source": [
    "# Ejemplo práctico con el uso del bloque finally. Veremos la función open() y la lectura y escritura de ficheros en el siguiente notebook.\n",
    "\n",
    "try:\n",
    "    file = open(\"prueba.txt\", \"w\")\n",
    "    file.write(\"texto de prueba\")\n",
    "except Exception as e:\n",
    "    raise e\n",
    "finally:\n",
    "    file.close() # NUNCA nos podemos olvidar de cerrar un archivo"
   ]
  },
  {
   "cell_type": "code",
   "execution_count": null,
   "id": "91bfda99",
   "metadata": {},
   "outputs": [],
   "source": [
    "# Mismo ejemplo utilizando with y as\n",
    "\n",
    "with open(\"prueba.txt\", \"w\") as file:\n",
    "    file.write(\"texto de prueba\") # No necesitamos cerrar, ya que el context manager lo hacer por nosotros al salir del bloque del with"
   ]
  },
  {
   "cell_type": "markdown",
   "id": "bba05455",
   "metadata": {},
   "source": [
    "- Podemos habilitar nuestras clases a que se puedan utilizar dentro de context managers."
   ]
  },
  {
   "cell_type": "code",
   "execution_count": null,
   "id": "570ce842",
   "metadata": {},
   "outputs": [],
   "source": [
    "class Conexion:\n",
    "\n",
    "    def __init__(self, servidor):\n",
    "        self.servidor = servidor\n",
    "\n",
    "    def conectar(self):\n",
    "        if self.servidor[\"conectado\"]:\n",
    "            raise Exception(\"No puedes conectarte, ya estás conectado!!!\")\n",
    "        \n",
    "        self.cambiar_estado()\n",
    "\n",
    "    def desconectar(self):\n",
    "        if not self.servidor[\"conectado\"]:\n",
    "            raise Exception(\"No puedes desconectarte, no estás conectado!!!\")\n",
    "        \n",
    "        self.cambiar_estado()\n",
    "\n",
    "    def enviar(self, mensaje):\n",
    "        if self.servidor[\"conectado\"]:\n",
    "            print(mensaje)\n",
    "        else:\n",
    "            raise Exception(\"No puedes enviar mensaje, no estás conectado!!!\")\n",
    "\n",
    "    def cambiar_estado(self):\n",
    "        self.servidor[\"conectado\"] = not self.servidor[\"conectado\"]\n",
    "\n",
    "    def __enter__(self):\n",
    "        self.conectar()\n",
    "        return self\n",
    "\n",
    "    def __exit__(self, exc_type, exc_val, exc_tb):\n",
    "        self.desconectar()"
   ]
  },
  {
   "cell_type": "code",
   "execution_count": null,
   "id": "22e6eb1d",
   "metadata": {},
   "outputs": [],
   "source": [
    "servidor = {\n",
    "    \"conectado\" : False\n",
    "}\n",
    "\n",
    "conexion = Conexion(servidor=servidor)\n",
    "\n",
    "conexion.conectar()\n",
    "print(servidor)\n",
    "conexion.enviar(\"Hola a todos!\")\n",
    "conexion.enviar(\"Hola otra vez!\")\n",
    "conexion.enviar(\"Adiós a todos!\")\n",
    "print(servidor)\n",
    "conexion.desconectar()"
   ]
  },
  {
   "cell_type": "code",
   "execution_count": null,
   "id": "6399dbd9",
   "metadata": {},
   "outputs": [],
   "source": [
    "servidor"
   ]
  },
  {
   "cell_type": "code",
   "execution_count": null,
   "id": "6794b47c",
   "metadata": {},
   "outputs": [],
   "source": [
    "with Conexion(servidor=servidor) as conexion:\n",
    "    print(servidor)\n",
    "    conexion.enviar(\"Hola a todos!\")\n",
    "    conexion.enviar(\"Hola otra vez!\")\n",
    "    conexion.enviar(\"Adiós a todos!\")\n",
    "    print(servidor)\n"
   ]
  },
  {
   "cell_type": "code",
   "execution_count": null,
   "id": "60ab3a60",
   "metadata": {},
   "outputs": [],
   "source": [
    "servidor"
   ]
  }
 ],
 "metadata": {
  "kernelspec": {
   "display_name": "Python 3",
   "language": "python",
   "name": "python3"
  },
  "language_info": {
   "codemirror_mode": {
    "name": "ipython",
    "version": 3
   },
   "file_extension": ".py",
   "mimetype": "text/x-python",
   "name": "python",
   "nbconvert_exporter": "python",
   "pygments_lexer": "ipython3",
   "version": "3.12.8"
  }
 },
 "nbformat": 4,
 "nbformat_minor": 5
}
